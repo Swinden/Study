{
 "cells": [
  {
   "cell_type": "markdown",
   "metadata": {},
   "source": [
    "拟合数据\n",
    "\n",
    "\n",
    "    x = np.arange(1, 31, 1)\n",
    "    y = np.array([20, 23, 26, 29, 32, 35, 38, 45, 53, 62, 73, 86, 101, 118, 138, 161, 188, 220, 257, 300, 350, 409, 478, 558, 651, 760, 887, 1035, 1208, 1410])\n",
    "\n",
    "一、多项式拟合\n",
    "由泰勒公式知道：任何一个函数都可以拆分成近似于这个函数的多项式表达。\n",
    "多项式拟合需要用到的函数是np.polyfit，它的使用方法为：\n",
    "\n",
    "    def polyfit(x, y, deg, rcond=None, full=False, w=None, cov=False):\n",
    "        \"\"\"\n",
    "        Least squares polynomial fit.\n",
    "        Fit a polynomial ``p(x) = p[0] * x**deg + ... + p[deg]`` of degree `deg`\n",
    "        to points `(x, y)`. Returns a vector of coefficients `p` that minimises\n",
    "        the squared error."
   ]
  },
  {
   "cell_type": "code",
   "execution_count": 7,
   "metadata": {},
   "outputs": [
    {
     "name": "stdout",
     "output_type": "stream",
     "text": [
      "Pretty printing has been turned ON\n",
      "        3         2\n",
      "0.1215 x - 3.045 x + 28.62 x - 34.47\n",
      "1197.5739550679216\n",
      "1197.5739550679216\n"
     ]
    },
    {
     "data": {
      "image/png": "[encoded data removed]",
      "text/plain": [
       "<Figure size 432x288 with 1 Axes>"
      ]
     },
     "metadata": {
      "needs_background": "light"
     },
     "output_type": "display_data"
    },
    {
     "data": {
      "text/plain": [
       "<Figure size 432x288 with 0 Axes>"
      ]
     },
     "metadata": {},
     "output_type": "display_data"
    }
   ],
   "source": [
    "# 其中需要关注的参数为3个：x、y分别为需要拟合的散点的坐标序列，deg为需要拟合的多项式的最高项数。例如：\n",
    "import pylab\n",
    "import numpy as np\n",
    "\n",
    "if __name__ == \"__main__\":\n",
    "  x = np.arange(1, 31, 1)\n",
    "  y = np.array([20, 23, 26, 29, 32, 35, 38, 45, 53, 62, 73, 86, 101, 118, 138, 161, 188, 220, 257, 300, 350, 409, 478, 558, 651, 760, 887, 1035, 1208, 1410])\n",
    "\n",
    "  z1 = np.polyfit(x, y, 3)              # 曲线拟合，返回值为多项式的各项系数\n",
    "  p1 = np.poly1d(z1)                    # 返回值为多项式的表达式，也就是函数式子\n",
    "  %pprint\n",
    "  print(p1)\n",
    "  \n",
    "  y_pred = p1(x)                        # 根据函数的多项式表达式，求解 y\n",
    "  print(np.polyval(p1, 29))             #根据多项式求解特定 x 对应的 y 值\n",
    "  print(np.polyval(z1, 29))             #根据多项式求解特定 x 对应的 y 值\n",
    "\n",
    "  plot1 = pylab.plot(x, y, '*', label='original values')\n",
    "  plot2 = pylab.plot(x, y_pred, 'r', label='fit values')\n",
    "  pylab.title('')\n",
    "  pylab.xlabel('')\n",
    "  pylab.ylabel('')\n",
    "  pylab.legend(loc=3, borderaxespad=0., bbox_to_anchor=(0, 0))\n",
    "  pylab.show()\n",
    "  pylab.savefig('p1.png', dpi=200, bbox_inches='tight')\n",
    "  pylab.show()"
   ]
  },
  {
   "cell_type": "markdown",
   "metadata": {},
   "source": [
    "二、非多项式拟合\n",
    "\n",
    "如果需要进行多项式拟合，你必须大体上知道散点的大致曲线形式，大致的函数的形式。\n",
    "比如，例子中的散点看起来像是指数的函数分布，因此可以给出func的函数：\n",
    "\n",
    "    def func(x, a, b, c):\n",
    "        return b * np.power(a, x) + c\n",
    "\n",
    "只要给出具体的函数形式(可以是任意的，只要能写的出来皆可)，用最小二乘的方式去逼近和拟合，即求出函数的各项系数。\n",
    "此时用到的是scipy.optimize包下的curve_fit函数了："
   ]
  },
  {
   "cell_type": "code",
   "execution_count": 1,
   "metadata": {},
   "outputs": [
    {
     "name": "stdout",
     "output_type": "stream",
     "text": [
      "[ 1.16791847 13.39168878  1.24633841]\n"
     ]
    },
    {
     "data": {
      "image/png": "[encoded data removed]",
      "text/plain": [
       "<Figure size 432x288 with 1 Axes>"
      ]
     },
     "metadata": {
      "needs_background": "light"
     },
     "output_type": "display_data"
    },
    {
     "data": {
      "text/plain": [
       "<Figure size 432x288 with 0 Axes>"
      ]
     },
     "metadata": {},
     "output_type": "display_data"
    }
   ],
   "source": [
    "import pylab\n",
    "import numpy as np\n",
    "import sys, os\n",
    "from scipy.optimize import curve_fit\n",
    "\n",
    "def func(x, a, b, c):\n",
    "  return b * np.power(a, x) + c\n",
    "\n",
    "if __name__ == \"__main__\":\n",
    "  x = np.arange(1, 31, 1)\n",
    "  y = np.array([20, 23, 26, 29, 32, 35, 38, 45, 53, 62, 73, 86, 101, 118, 138, 161, 188, 220, 257, 300, 350, 409, 478, 558, 651, 760, 887, 1035, 1208, 1410])\n",
    "\n",
    "  popt, pcov = curve_fit(func, x, y)                # 曲线拟合，popt为函数的参数list\n",
    "  y_pred = [func(i, popt[0], popt[1], popt[2]) for i in x]    # 直接用函数和函数参数list来进行y值的计算\n",
    "  print(popt)\n",
    "\n",
    "  plot1 = pylab.plot(x, y, '*', label='original values')\n",
    "  plot2 = pylab.plot(x, y_pred, 'r', label='fit values')\n",
    "  pylab.title('')\n",
    "  pylab.xlabel('')\n",
    "  pylab.ylabel('')\n",
    "  pylab.legend(loc=3, borderaxespad=0., bbox_to_anchor=(0, 0))\n",
    "  pylab.show()\n",
    "  pylab.savefig('p1.png', dpi=200, bbox_inches='tight')\n"
   ]
  }
 ],
 "metadata": {
  "kernelspec": {
   "display_name": "Python 3.8.13 ('base')",
   "language": "python",
   "name": "python3"
  },
  "language_info": {
   "codemirror_mode": {
    "name": "ipython",
    "version": 3
   },
   "file_extension": ".py",
   "mimetype": "text/x-python",
   "name": "python",
   "nbconvert_exporter": "python",
   "pygments_lexer": "ipython3",
   "version": "3.8.13"
  },
  "orig_nbformat": 4,
  "vscode": {
   "interpreter": {
    "hash": "b09ec625f77bf4fd762565a912b97636504ad6ec901eb2d0f4cf5a7de23e1ee5"
   }
  }
 },
 "nbformat": 4,
 "nbformat_minor": 2
}
