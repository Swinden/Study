{
 "cells": [
  {
   "cell_type": "markdown",
   "metadata": {},
   "source": [
    "# 匈牙利算法"
   ]
  },
  {
   "cell_type": "code",
   "execution_count": 2,
   "metadata": {},
   "outputs": [
    {
     "name": "stdout",
     "output_type": "stream",
     "text": [
      "[0 1 2]\n",
      "[1 0 2]\n",
      "[1 2 2]\n",
      "5\n"
     ]
    }
   ],
   "source": [
    "# 匈牙利算法\n",
    "from scipy.optimize import linear_sum_assignment\n",
    "import numpy as np\n",
    "\n",
    "\n",
    "cost =np.array([[4,1,3],[2,0,5],[3,2,2]])\n",
    "row_ind,col_ind=linear_sum_assignment(cost)\n",
    "print(row_ind)#开销矩阵对应的行索引\n",
    "print(col_ind)#对应行索引的最优指派的列索引\n",
    "print(cost[row_ind,col_ind])#提取每个行索引的最优指派列索引所在的元素，形成数组\n",
    "print(cost[row_ind,col_ind].sum())#数组求和"
   ]
  },
  {
   "cell_type": "markdown",
   "metadata": {},
   "source": [
    "https://vimsky.com/examples/usage/python-scipy.optimize.linear_sum_assignment.html"
   ]
  },
  {
   "cell_type": "markdown",
   "metadata": {},
   "source": [
    "## 蒙特卡洛法"
   ]
  },
  {
   "cell_type": "code",
   "execution_count": 6,
   "metadata": {},
   "outputs": [
    {
     "name": "stdout",
     "output_type": "stream",
     "text": [
      "[48, 99, 0, 99, 7] 50712\n"
     ]
    }
   ],
   "source": [
    "import random\n",
    "def f(x: list) -> int:\n",
    "    return x[0] ** 2 + x[1] ** 2 + 3 * x[2] ** 2 + 4 * x[3] ** 2 + 2 * x[4] ** 2 - 8 * x[0] - 2 * x[1] - 3 * x[2]-x[3]-2 * x[4]\n",
    "\n",
    "def g(x: list) -> list:\n",
    "    res = []\n",
    "    res.append(sum(x) - 400)\n",
    "    res.append(x[0] + 2 * x[1] + 2 * x[2] + x[3] + 6 * x[4] - 800)\n",
    "    res.append(2 * x[0] + x[1] + 6 * x[2] - 200)\n",
    "    res.append(x[2] + x[3] + 5 * x[4] - 200)\n",
    "    return res\n",
    "\n",
    "max = 0\n",
    "xlist = []\n",
    "random.seed(1)\n",
    "for i in range(10 ** 6):\n",
    "    x = [random.randint(0, 99) for i in range(5)]       # 产生一行五列的区间[0, 99] 上的随机整数\n",
    "    rf = f(x)\n",
    "    rg = g(x)\n",
    "    if all((a < 0 for a in rg)):        # 若 rg 中所有元素都小于 0\n",
    "        if max <rf:\n",
    "            xlist= x\n",
    "            max = rf\n",
    "print(xlist, max)"
   ]
  }
 ],
 "metadata": {
  "kernelspec": {
   "display_name": "Python 3.8.13 ('base')",
   "language": "python",
   "name": "python3"
  },
  "language_info": {
   "codemirror_mode": {
    "name": "ipython",
    "version": 3
   },
   "file_extension": ".py",
   "mimetype": "text/x-python",
   "name": "python",
   "nbconvert_exporter": "python",
   "pygments_lexer": "ipython3",
   "version": "3.8.13"
  },
  "orig_nbformat": 4,
  "vscode": {
   "interpreter": {
    "hash": "b09ec625f77bf4fd762565a912b97636504ad6ec901eb2d0f4cf5a7de23e1ee5"
   }
  }
 },
 "nbformat": 4,
 "nbformat_minor": 2
}
