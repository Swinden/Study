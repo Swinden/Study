{
 "cells": [
  {
   "cell_type": "code",
   "execution_count": 36,
   "metadata": {},
   "outputs": [],
   "source": [
    "import numpy as np\n",
    "import pandas as pd"
   ]
  },
  {
   "cell_type": "code",
   "execution_count": 37,
   "metadata": {},
   "outputs": [],
   "source": [
    "#TOPSIS方法函数\n",
    "def Topsis(A1):\n",
    "    W0=[0.2,0.3,0.4,0.1] #权重矩阵\n",
    "    W=np.ones([A1.shape[1],A1.shape[1]],float)\n",
    "    for i in range(len(W)):\n",
    "        for j in range(len(W)):\n",
    "            if i==j:\n",
    "                W[i,j]=W0[j]\n",
    "            else:\n",
    "                W[i,j]=0\n",
    "    Z=np.ones([A1.shape[0],A1.shape[1]],float)\n",
    "    Z=np.dot(A1,W) #加权矩阵\n",
    "    \n",
    "    #计算正、负理想解\n",
    "    Zmax=np.ones([1,A1.shape[1]],float)\n",
    "    Zmin=np.ones([1,A1.shape[1]],float)\n",
    "    for j in range(A1.shape[1]):\n",
    "        if j==3:\n",
    "            Zmax[0,j]=min(Z[:,j])\n",
    "            Zmin[0,j]=max(Z[:,j])\n",
    "        else:\n",
    "            Zmax[0,j]=max(Z[:,j])\n",
    "            Zmin[0,j]=min(Z[:,j])\n",
    "\n",
    "    #计算各个方案的相对贴近度C\n",
    "    C=[]  \n",
    "    for i in range(A1.shape[0]):\n",
    "            Smax=np.sqrt(np.sum(np.square(Z[i,:]-Zmax[0,:])))\n",
    "            Smin=np.sqrt(np.sum(np.square(Z[i,:]-Zmin[0,:])))\n",
    "            C.append(Smin/(Smax+Smin))\n",
    "    C=pd.DataFrame(C,index=['院校' + i for i in list('12345')])   \n",
    "    return C"
   ]
  },
  {
   "cell_type": "code",
   "execution_count": 38,
   "metadata": {},
   "outputs": [],
   "source": [
    "#标准化处理\n",
    "def standard(A):\n",
    "    #效益型指标\n",
    "    A1=np.ones([A.shape[0],A.shape[1]],float)\n",
    "    for i in range(A.shape[1]):\n",
    "        if i==0 or i==2:\n",
    "            if max(A[:,i])==min(A[:,i]):\n",
    "                A1[:,i]=1\n",
    "            else:\n",
    "                for j in range(A.shape[0]):\n",
    "                    A1[j,i]=(A[j,i]-min(A[:,i]))/(max(A[:,i])-min(A[:,i]))\n",
    "    \n",
    "    #成本型指标\n",
    "        elif i==3:\n",
    "            if max(A[:,i])==min(A[:,i]):\n",
    "                A1[:,i]=1\n",
    "            else:\n",
    "                for j in range(A.shape[0]):\n",
    "                    A1[j,i]=(max(A[:,i])-A[j,i])/(max(A[:,i])-min(A[:,i])) \n",
    "\n",
    "    #区间型指标\n",
    "        else:\n",
    "            a,b,lb,ub=5,6,2,12\n",
    "            for j in range(A.shape[0]):\n",
    "                if lb <= A[j,i] < a:\n",
    "                    A1[j,i]=(A[j,i]-lb)/(a-lb)\n",
    "                elif a <= A[j,i] < b:\n",
    "                    A1[j,i]=1\t\t\n",
    "                elif b <= A[j,i] <= ub:\n",
    "                    A1[j,i]=(ub-A[j,i])/(ub-b)\n",
    "                else:  #A[i,:]< lb or A[i,:]>ub\n",
    "                    A1[j,i]=0\t\n",
    "    return A1"
   ]
  },
  {
   "cell_type": "code",
   "execution_count": 39,
   "metadata": {},
   "outputs": [],
   "source": [
    "#读取初始矩阵并计算\n",
    "def data(file_path):\n",
    "    data=pd.read_excel(file_path).values\n",
    "    A=data[:,1:]\n",
    "    A=np.array(A)\n",
    "    #m,n=A.shape[0],A.shape[1] #m表示行数,n表示列数\n",
    "    return A\n"
   ]
  },
  {
   "cell_type": "code",
   "execution_count": 40,
   "metadata": {},
   "outputs": [
    {
     "name": "stdout",
     "output_type": "stream",
     "text": [
      "            0\n",
      "院校1  0.553038\n",
      "院校2  0.610575\n",
      "院校3  0.662306\n",
      "院校4  0.659379\n",
      "院校5  0.281729\n"
     ]
    }
   ],
   "source": [
    "#权重\n",
    "A=data('研究生院评估数据.xlsx')\n",
    "A1=standard(A)\n",
    "C=Topsis(A1)\n",
    "print(C)\n"
   ]
  },
  {
   "cell_type": "code",
   "execution_count": null,
   "metadata": {},
   "outputs": [],
   "source": []
  }
 ],
 "metadata": {
  "kernelspec": {
   "display_name": "Python 3.8.13 ('base')",
   "language": "python",
   "name": "python3"
  },
  "language_info": {
   "codemirror_mode": {
    "name": "ipython",
    "version": 3
   },
   "file_extension": ".py",
   "mimetype": "text/x-python",
   "name": "python",
   "nbconvert_exporter": "python",
   "pygments_lexer": "ipython3",
   "version": "3.8.13"
  },
  "orig_nbformat": 4,
  "vscode": {
   "interpreter": {
    "hash": "b09ec625f77bf4fd762565a912b97636504ad6ec901eb2d0f4cf5a7de23e1ee5"
   }
  }
 },
 "nbformat": 4,
 "nbformat_minor": 2
}
