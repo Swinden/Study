{
 "cells": [
  {
   "cell_type": "code",
   "execution_count": 1,
   "metadata": {},
   "outputs": [],
   "source": [
    "# 想出一种新的选择算子\n",
    "# step1: define your own operator:\n",
    "def selection_tournament(algorithm, tourn_size):\n",
    "    FitV = algorithm.FitV\n",
    "    sel_index = []\n",
    "    for i in range(algorithm.size_pop):\n",
    "        aspirants_index = np.random.choice(range(algorithm.size_pop), size=tourn_size)\n",
    "        sel_index.append(max(aspirants_index, key=lambda i: FitV[i]))\n",
    "    algorithm.Chrom = algorithm.Chrom[sel_index, :]  # next generation\n",
    "    return algorithm.Chrom\n"
   ]
  },
  {
   "cell_type": "code",
   "execution_count": 2,
   "metadata": {},
   "outputs": [],
   "source": [
    "# 导入包，并且创建遗传算法实例\n",
    "# %% step2: import package and build ga, as usual.\n",
    "import numpy as np\n",
    "from sko.GA import GA, GA_TSP\n",
    "\n",
    "demo_func = lambda x: x[0] ** 2 + (x[1] - 0.05) ** 2 + (x[2] - 0.5) ** 2\n",
    "ga = GA(func=demo_func, n_dim=3, size_pop=100, max_iter=500, prob_mut=0.001,\n",
    "        lb=[-1, -10, -5], ub=[2, 10, 2], precision=[1e-7, 1e-7, 1])"
   ]
  },
  {
   "cell_type": "code",
   "execution_count": 3,
   "metadata": {},
   "outputs": [
    {
     "data": {
      "text/plain": [
       "<sko.GA.GA at 0x2d81028edf0>"
      ]
     },
     "execution_count": 3,
     "metadata": {},
     "output_type": "execute_result"
    }
   ],
   "source": [
    "# 把你的算子注册到你创建好的遗传算法实例上\n",
    "# %% step3: register your own operator\n",
    "ga.register(operator_name='selection', operator=selection_tournament, tourn_size=3)"
   ]
  },
  {
   "cell_type": "code",
   "execution_count": 3,
   "metadata": {},
   "outputs": [
    {
     "data": {
      "text/plain": [
       "<sko.GA.GA at 0x23c1b44f430>"
      ]
     },
     "execution_count": 3,
     "metadata": {},
     "output_type": "execute_result"
    }
   ],
   "source": [
    "# scikit-opt 也提供了十几个算子供你调用\n",
    "# %% Or import the operators scikit-opt already defined.\n",
    "from sko.operators import ranking, selection, crossover, mutation\n",
    "\n",
    "ga.register(operator_name='ranking', operator=ranking.ranking). \\\n",
    "    register(operator_name='crossover', operator=crossover.crossover_2point). \\\n",
    "    register(operator_name='mutation', operator=mutation.mutation)"
   ]
  },
  {
   "cell_type": "code",
   "execution_count": 4,
   "metadata": {},
   "outputs": [
    {
     "name": "stdout",
     "output_type": "stream",
     "text": [
      "best_x: [-2.98023233e-08  4.99999898e-02  1.00000000e+00] \n",
      " best_y: [0.25]\n"
     ]
    }
   ],
   "source": [
    "# 做遗传算法运算\n",
    "# %% Run ga\n",
    "best_x, best_y = ga.run()\n",
    "print('best_x:', best_x, '\\n', 'best_y:', best_y)"
   ]
  },
  {
   "cell_type": "markdown",
   "metadata": {},
   "source": [
    "现在 udf 支持遗传算法的这几个算子： crossover, mutation, selection, ranking\n",
    "\n",
    "Scikit-opt 也提供了十来个算子，参考[这里](https://github.com/guofei9987/scikit-opt/tree/master/sko/operators)\n",
    "\n",
    "提供一个面向对象风格的自定义算子的方法，供进阶用户使用:"
   ]
  },
  {
   "cell_type": "code",
   "execution_count": 5,
   "metadata": {},
   "outputs": [
    {
     "name": "stdout",
     "output_type": "stream",
     "text": [
      "best_x: [-2.98023233e-08  4.99999898e-02  1.00000000e+00] \n",
      " best_y: [0.25]\n"
     ]
    }
   ],
   "source": [
    "# %% For advanced users\n",
    "class MyGA(GA):\n",
    "    def selection(self, tourn_size=3):\n",
    "        FitV = self.FitV\n",
    "        sel_index = []\n",
    "        for i in range(self.size_pop):\n",
    "            aspirants_index = np.random.choice(range(self.size_pop), size=tourn_size)\n",
    "            sel_index.append(max(aspirants_index, key=lambda i: FitV[i]))\n",
    "        self.Chrom = self.Chrom[sel_index, :]  # next generation\n",
    "        return self.Chrom\n",
    "\n",
    "    ranking = ranking.ranking\n",
    "\n",
    "\n",
    "demo_func = lambda x: x[0] ** 2 + (x[1] - 0.05) ** 2 + (x[2] - 0.5) ** 2\n",
    "my_ga = MyGA(func=demo_func, n_dim=3, size_pop=100, max_iter=500, lb=[-1, -10, -5], ub=[2, 10, 2],\n",
    "             precision=[1e-7, 1e-7, 1])\n",
    "best_x, best_y = my_ga.run()\n",
    "print('best_x:', best_x, '\\n', 'best_y:', best_y)"
   ]
  }
 ],
 "metadata": {
  "kernelspec": {
   "display_name": "Python 3.9.12 ('base')",
   "language": "python",
   "name": "python3"
  },
  "language_info": {
   "codemirror_mode": {
    "name": "ipython",
    "version": 3
   },
   "file_extension": ".py",
   "mimetype": "text/x-python",
   "name": "python",
   "nbconvert_exporter": "python",
   "pygments_lexer": "ipython3",
   "version": "3.9.12"
  },
  "orig_nbformat": 4,
  "vscode": {
   "interpreter": {
    "hash": "b09ec625f77bf4fd762565a912b97636504ad6ec901eb2d0f4cf5a7de23e1ee5"
   }
  }
 },
 "nbformat": 4,
 "nbformat_minor": 2
}
