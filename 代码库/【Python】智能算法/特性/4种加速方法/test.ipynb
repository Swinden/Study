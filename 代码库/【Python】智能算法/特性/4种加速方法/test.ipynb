{
 "cells": [
  {
   "cell_type": "markdown",
   "metadata": {},
   "source": [
    "-  矢量化计算：vectorization\n",
    "-  多线程计算：multithreading，适用于 IO 密集型目标函数\n",
    "-  多进程计算：multiprocessing，适用于 CPU 密集型目标函数\n",
    "-  缓存化计算：cached，适用于目标函数的每次输入有大量重复"
   ]
  },
  {
   "cell_type": "code",
   "execution_count": 1,
   "metadata": {},
   "outputs": [
    {
     "name": "stdout",
     "output_type": "stream",
     "text": [
      "on io_costly task,use common mode, costs 5.634832s\n",
      "on io_costly task,use multithreading mode, costs 1.206666s\n"
     ]
    },
    {
     "name": "stderr",
     "output_type": "stream",
     "text": [
      "d:\\Anaconda3\\lib\\site-packages\\sko\\tools.py:21: UserWarning: multiprocessing not support in windows, turning to multithreading\n",
      "  warnings.warn('multiprocessing not support in windows, turning to multithreading')\n"
     ]
    },
    {
     "name": "stdout",
     "output_type": "stream",
     "text": [
      "on io_costly task,use multiprocessing mode, costs 1.193799s\n",
      "on io_costly task,use vectorization mode, costs 0.655034s\n",
      "on cpu_costly task,use common mode, costs 1.117262s\n",
      "on cpu_costly task,use multithreading mode, costs 1.133924s\n",
      "on cpu_costly task,use multiprocessing mode, costs 1.080573s\n",
      "on cpu_costly task,use vectorization mode, costs 0.128569s\n",
      "on io_costly task,use common mode, costs 6.676964s\n",
      "on io_costly task,use cached mode, costs 0.660967s\n",
      "on cpu_costly task,use common mode, costs 1.294748s\n",
      "on cpu_costly task,use cached mode, costs 0.085634s\n"
     ]
    }
   ],
   "source": [
    "import numpy as np\n",
    "from sko.GA import GA\n",
    "import time\n",
    "import datetime\n",
    "from sko.tools import set_run_mode\n",
    "\n",
    "\n",
    "def generate_costly_function(task_type='io_costly'):\n",
    "    # generate a high cost function to test all the modes\n",
    "    # cost_type can be 'io_costly' or 'cpu_costly'\n",
    "    if task_type == 'io_costly':\n",
    "        def costly_function():\n",
    "            time.sleep(0.1)\n",
    "            return 1\n",
    "    else:\n",
    "        def costly_function():\n",
    "            n = 10000\n",
    "            step1 = [np.log(i + 1) for i in range(n)]\n",
    "            step2 = [np.power(i, 1.1) for i in range(n)]\n",
    "            step3 = sum(step1) + sum(step2)\n",
    "            return step3\n",
    "\n",
    "    return costly_function\n",
    "\n",
    "\n",
    "for task_type in ('io_costly', 'cpu_costly'):\n",
    "    costly_function = generate_costly_function(task_type=task_type)\n",
    "\n",
    "\n",
    "    def obj_func(p):\n",
    "        costly_function()\n",
    "        x1, x2 = p\n",
    "        x = np.square(x1) + np.square(x2)\n",
    "        return 0.5 + (np.square(np.sin(x)) - 0.5) / np.square(1 + 0.001 * x)\n",
    "\n",
    "\n",
    "    for mode in ('common', 'multithreading', 'multiprocessing'):\n",
    "        set_run_mode(obj_func, mode)\n",
    "        ga = GA(func=obj_func, n_dim=2, size_pop=10, max_iter=5, lb=[-1, -1], ub=[1, 1], precision=1e-7)\n",
    "        start_time = datetime.datetime.now()\n",
    "        best_x, best_y = ga.run()\n",
    "        print('on {task_type} task,use {mode} mode, costs {time_costs}s'\n",
    "              .format(task_type=task_type, mode=mode,\n",
    "                      time_costs=(datetime.datetime.now() - start_time).total_seconds()))\n",
    "\n",
    "    # to use the vectorization mode, the function itself should support the mode.\n",
    "    mode = 'vectorization'\n",
    "\n",
    "\n",
    "    def obj_func2(p):\n",
    "        costly_function()\n",
    "        x1, x2 = p[:, 0], p[:, 1]\n",
    "        x = np.square(x1) + np.square(x2)\n",
    "        return 0.5 + (np.square(np.sin(x)) - 0.5) / np.square(1 + 0.001 * x)\n",
    "\n",
    "\n",
    "    set_run_mode(obj_func2, mode)\n",
    "    ga = GA(func=obj_func2, n_dim=2, size_pop=10, max_iter=5, lb=[-1, -1], ub=[1, 1], precision=1e-7)\n",
    "    start_time = datetime.datetime.now()\n",
    "    best_x, best_y = ga.run()\n",
    "    print('on {task_type} task,use {mode} mode, costs {time_costs}s'\n",
    "          .format(task_type=task_type, mode=mode,\n",
    "                  time_costs=(datetime.datetime.now() - start_time).total_seconds()))\n",
    "\n",
    "\n",
    "# %%cache mode\n",
    "\n",
    "def obj_func_for_cache_mode(p):\n",
    "    costly_function()\n",
    "    x1, x2 = p\n",
    "    x = np.square(x1) + np.square(x2)\n",
    "    return 0.5 + (np.square(np.sin(x)) - 0.5) / np.square(1 + 0.001 * x)\n",
    "\n",
    "\n",
    "for task_type in ('io_costly', 'cpu_costly'):\n",
    "    costly_function = generate_costly_function(task_type=task_type)\n",
    "\n",
    "    for mode in ('common', 'cached'):\n",
    "        set_run_mode(obj_func_for_cache_mode, mode)\n",
    "        ga_2 = GA(func=obj_func_for_cache_mode, n_dim=2, size_pop=6, max_iter=10, lb=[-2, -2], ub=[2, 2], precision=1)\n",
    "        start_time = datetime.datetime.now()\n",
    "        best_x, best_y = ga_2.run()\n",
    "        print('on {task_type} task,use {mode} mode, costs {time_costs}s'\n",
    "              .format(task_type=task_type, mode=mode,\n",
    "                      time_costs=(datetime.datetime.now() - start_time).total_seconds()))"
   ]
  }
 ],
 "metadata": {
  "kernelspec": {
   "display_name": "Python 3.9.12 ('base')",
   "language": "python",
   "name": "python3"
  },
  "language_info": {
   "codemirror_mode": {
    "name": "ipython",
    "version": 3
   },
   "file_extension": ".py",
   "mimetype": "text/x-python",
   "name": "python",
   "nbconvert_exporter": "python",
   "pygments_lexer": "ipython3",
   "version": "3.9.12"
  },
  "orig_nbformat": 4,
  "vscode": {
   "interpreter": {
    "hash": "b09ec625f77bf4fd762565a912b97636504ad6ec901eb2d0f4cf5a7de23e1ee5"
   }
  }
 },
 "nbformat": 4,
 "nbformat_minor": 2
}
