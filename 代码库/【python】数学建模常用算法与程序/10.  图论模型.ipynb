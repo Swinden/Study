{
 "cells": [
  {
   "cell_type": "code",
   "execution_count": 1,
   "metadata": {},
   "outputs": [],
   "source": [
    "import numpy as np\n",
    "inf=np.inf\n",
    "\n",
    "\n",
    "def dijkstra(a,sb,db):\n",
    "    n=len(a); visit=[0]*n\n",
    "    dis=[inf]*n; dis[0]=0\n",
    "    visit[sb]=1; u=sb  #u为最新的P标号顶点\n",
    "    parent=[0]*n  #前驱顶点的初始化\n",
    "    for i in range(n):\n",
    "        id=[index for index,value in enumerate(visit) if value==0]  #查找未标号的顶点\n",
    "        for v in id:\n",
    "            if a[u,v]+dis[u]<dis[v]:\n",
    "                dis[v]=dis[u]+a[u][v]\n",
    "                parent[v]=u\n",
    "        temp=dis\n",
    "        temp[visit==1]=inf  #已标号点的距离换成无穷\n",
    "        t=np.min(temp); u=temp.index(t)  #找标号值最小的顶点\n",
    "        visit[u]=1  #标记已经标号的顶点\n",
    "        mypath=[]\n",
    "        if parent[db]!=0:  #存在路\n",
    "            t=db; mypath=[db]\n",
    "            while t!=sb:\n",
    "                p=parent[t]; mypath.insert(0,p); t=p\n",
    "#return dis[db], mypath\n",
    "a=[[0,50,inf,40,25,10],[50,0,15,20,inf,25],\\\n",
    "    [inf,15,0,10,20,inf],[40,20,10,0,10,25],\\\n",
    "        [25,inf,20,10,0,55],[10,25,inf,25,55,0]]\n",
    "path,distance=dijkstra(a,1,3)"
   ]
  },
  {
   "cell_type": "code",
   "execution_count": 2,
   "metadata": {},
   "outputs": [
    {
     "name": "stdout",
     "output_type": "stream",
     "text": [
      "5: 0->5\n",
      "4: 0->4\n",
      "1: 0->5->1\n",
      "3: 0->5->3\n",
      "2: 0->4->2\n",
      "[0, 35, 45, 35, 25, 10]\n"
     ]
    }
   ],
   "source": [
    "import numpy as np\n",
    "\n",
    "\n",
    "\n",
    "\n",
    "inf=np.inf\n",
    "\n",
    "\n",
    "\n",
    "def Dijkstra_all_minpath(matrix,start):\n",
    "    n=len(matrix)#该图的节点数\n",
    "    path_array=[]\n",
    "    temp_array=[]\n",
    "    path_array.extend(matrix[start])#深复制\n",
    "    temp_array.extend(matrix[start])#深复制\n",
    "    temp_array[start] = inf#临时数组会把处理过的节点的值变成inf，表示不是最小权值的节点了\n",
    "    visited=[start]#start已处理\n",
    "    path_parent=[start]*n#用于画路径，记录此路径中该节点的父节点\n",
    "    while(len(visited)<n):\n",
    "        i= temp_array.index(min(temp_array))#找最小权值的节点的坐标\n",
    "        temp_array[i]=inf\n",
    "        path=[]#用于画路径\n",
    "        path.append(str(i))\n",
    "        k=i\n",
    "        while(path_parent[k]!=start):#找该节点的父节点添加到path，直到父节点是start\n",
    "            path.append(str(path_parent[k]))\n",
    "            k=path_parent[k]\n",
    "        path.append(str(start))\n",
    "        path.reverse()#path反序产生路径\n",
    "        print(str(i)+':','->'.join(path))#打印路径\n",
    "        visited.append(i)#该索引已经处理了\n",
    "        for j in range(n):#这个不用多说了吧\n",
    "            if j not in visited:\n",
    "                if (path_array[i]+matrix[i][j])<path_array[j]:\n",
    "                    path_array[j] = temp_array[j] =path_array[i]+matrix[i][j]\n",
    "                    path_parent[j]=i#说明父节点是i\n",
    "    return path_array\n",
    "\n",
    "\n",
    "\n",
    "#领接矩阵\n",
    "a=[[0,50,inf,40,25,10],[50,0,15,20,inf,25],\\\n",
    "    [inf,15,0,10,20,inf],[40,20,10,0,10,25],\\\n",
    "        [25,inf,20,10,0,55],[10,25,inf,25,55,0]]\n",
    "\n",
    "print(Dijkstra_all_minpath(a,0))"
   ]
  },
  {
   "cell_type": "code",
   "execution_count": 3,
   "metadata": {},
   "outputs": [
    {
     "name": "stdout",
     "output_type": "stream",
     "text": [
      "5: 0->5\n",
      "4: 0->4\n",
      "1: 0->5->1\n",
      "3: 0->5->3\n",
      "2: 0->4->2\n",
      "计算结果为：\n",
      "\n",
      "[0, 35, 45, 35, 25, 10]\n"
     ]
    }
   ],
   "source": [
    "import numpy as np\n",
    "\n",
    "\n",
    "\n",
    "inf=np.inf\n",
    "def Dijkstra_all_minpath(matrix,start):\n",
    "    n=len(matrix)#该图的节点数\n",
    "    path_array=[]\n",
    "    temp=[]\n",
    "    path_array.extend(matrix[start])  #深复制\n",
    "    temp.extend(matrix[start])        #深复制\n",
    "    temp[start] = inf  #临时数组会把处理过的节点的值变成inf，表示不是最小权值的节点了\n",
    "    visited=[start]  #start已处理\n",
    "    parent=[start]*n   #用于画路径，记录此路径中该节点的父节点\n",
    "    while(len(visited)<n):\n",
    "        i= temp.index(min(temp)) #找最小权值的节点的坐标\n",
    "        temp[i]=inf\n",
    "        path=[]  #用于画路径\n",
    "        path.append(str(i))\n",
    "        k=i\n",
    "        while(parent[k]!=start):  #找该节点的父节点添加到path，直到父节点是start\n",
    "            path.append(str(parent[k]))\n",
    "            k=parent[k]\n",
    "        path.append(str(start))\n",
    "        path.reverse()   #path反序产生路径\n",
    "        print(str(i)+':','->'.join(path))  #打印路径\n",
    "        visited.append(i)  #该索引已经处理了\n",
    "        for j in range(n):\n",
    "            if j not in visited:\n",
    "                if (path_array[i]+matrix[i][j])<path_array[j]:\n",
    "                    path_array[j] = temp[j] =path_array[i]+matrix[i][j]\n",
    "                    parent[j]=i  #说明父节点是i\n",
    "    return path_array\n",
    "\n",
    "#领接矩阵\n",
    "a=[[0,50,inf,40,25,10],[50,0,15,20,inf,25],\\\n",
    "    [inf,15,0,10,20,inf],[40,20,10,0,10,25],\\\n",
    "        [25,inf,20,10,0,55],[10,25,inf,25,55,0]]\n",
    "\n",
    "d=Dijkstra_all_minpath(a,0)\n",
    "print(\"计算结果为：\\n\")\n",
    "print(d)\n"
   ]
  },
  {
   "cell_type": "code",
   "execution_count": 4,
   "metadata": {},
   "outputs": [
    {
     "name": "stdout",
     "output_type": "stream",
     "text": [
      "5: 0->5\n",
      "4: 0->4\n",
      "1: 0->5->1\n",
      "3: 0->5->3\n",
      "2: 0->4->2\n",
      "计算结果为：\n",
      "\n",
      "[0, 35, 45, 35, 25, 10]\n"
     ]
    }
   ],
   "source": [
    "import numpy as np\n",
    "inf=np.inf\n",
    "def Dijkstra_all_minpath(matrix,start):\n",
    "    n=len(matrix)#该图的节点数\n",
    "    dis=[]; temp=[]\n",
    "    dis.extend(matrix[start])  #深复制\n",
    "    temp.extend(matrix[start])        #深复制\n",
    "    temp[start] = inf  #临时数组会把处理过的节点的值变成inf，表示不是最小权值的节点了\n",
    "    visited=[start]  #start已处理\n",
    "    parent=[start]*n   #用于画路径，记录此路径中该节点的父节点\n",
    "    while len(visited)<n:\n",
    "        i= temp.index(min(temp)) #找最小权值的节点的坐标\n",
    "        temp[i]=inf\n",
    "        path=[]  #用于画路径\n",
    "        path.append(str(i))\n",
    "        k=i\n",
    "        while(parent[k]!=start):  #找该节点的父节点添加到path，直到父节点是start\n",
    "            path.append(str(parent[k]))\n",
    "            k=parent[k]\n",
    "        path.append(str(start))\n",
    "        path.reverse()   #path反序产生路径\n",
    "        print(str(i)+':','->'.join(path))  #打印路径\n",
    "        visited.append(i)  #该索引已经处理了\n",
    "        for j in range(n):\n",
    "            if j not in visited:\n",
    "                if (dis[i]+matrix[i][j])<dis[j]:\n",
    "                    dis[j] = temp[j] =dis[i]+matrix[i][j]\n",
    "                    parent[j]=i  #说明父节点是i\n",
    "    return dis\n",
    "\n",
    "#领接矩阵\n",
    "a=[[0,50,inf,40,25,10],[50,0,15,20,inf,25],\\\n",
    "    [inf,15,0,10,20,inf],[40,20,10,0,10,25],\\\n",
    "        [25,inf,20,10,0,55],[10,25,inf,25,55,0]]\n",
    "\n",
    "d=Dijkstra_all_minpath(a,0)\n",
    "print(\"计算结果为：\\n\")\n",
    "print(d)"
   ]
  },
  {
   "cell_type": "code",
   "execution_count": 5,
   "metadata": {},
   "outputs": [
    {
     "name": "stdout",
     "output_type": "stream",
     "text": [
      "5: 0->5\n",
      "4: 0->4\n",
      "1: 0->5->1\n",
      "3: 0->5->3\n",
      "2: 0->4->2\n",
      "计算结果为：\n",
      "\n",
      "[0, 35, 45, 35, 25, 10]\n"
     ]
    }
   ],
   "source": [
    "import numpy as np\n",
    "\n",
    "\n",
    "\n",
    "inf=np.inf\n",
    "def Dijkstra_all_minpath(matrix,start):\n",
    "    n=len(matrix)#该图的节点数\n",
    "    dis=[]; temp=[]\n",
    "    dis.extend(matrix[start])  #深复制\n",
    "    temp.extend(matrix[start])        #深复制\n",
    "    temp[start] = inf  #临时数组会把处理过的节点的值变成inf，表示不是最小权值的节点了\n",
    "    visited=[start]  #start已处理\n",
    "    parent=[start]*n   #用于画路径，记录此路径中该节点的父节点\n",
    "    while len(visited)<n:\n",
    "        i= temp.index(min(temp)) #找最小权值的节点的坐标\n",
    "        temp[i]=inf\n",
    "        for j in range(n):\n",
    "            if j not in visited:\n",
    "                if (dis[i]+matrix[i][j])<dis[j]:\n",
    "                    dis[j] = temp[j] =dis[i]+matrix[i][j]\n",
    "                    parent[j]=i  #说明父节点是i\n",
    "        path=[]  #用于画路径\n",
    "        path.append(str(i))\n",
    "        k=i\n",
    "        while(parent[k]!=start):  #找该节点的父节点添加到path，直到父节点是start\n",
    "            path.append(str(parent[k]))\n",
    "            k=parent[k]\n",
    "        path.append(str(start))\n",
    "        path.reverse()   #path反序产生路径\n",
    "        print(str(i)+':','->'.join(path))  #打印路径\n",
    "        visited.append(i)  #该索引已经处理了\n",
    "    return dis\n",
    "\n",
    "\n",
    "\n",
    "#领接矩阵\n",
    "a=[[0,50,inf,40,25,10],[50,0,15,20,inf,25],\\\n",
    "    [inf,15,0,10,20,inf],[40,20,10,0,10,25],\\\n",
    "        [25,inf,20,10,0,55],[10,25,inf,25,55,0]]\n",
    "\n",
    "d=Dijkstra_all_minpath(a,0)\n",
    "print(\"计算结果为：\\n\")\n",
    "print(d)"
   ]
  },
  {
   "cell_type": "code",
   "execution_count": 6,
   "metadata": {},
   "outputs": [
    {
     "name": "stdout",
     "output_type": "stream",
     "text": [
      "5: 0->5\n",
      "4: 0->4\n",
      "1: 0->5->1\n",
      "3: 0->5->3\n",
      "2: 0->4->2\n",
      "计算结果为：\n",
      "\n",
      "[0, 35, 45, 35, 25, 10]\n"
     ]
    }
   ],
   "source": [
    "import numpy as np\n",
    "\n",
    "\n",
    "\n",
    "inf=np.inf\n",
    "def Dijkstra_all_minpath(matrix,start):\n",
    "    n=len(matrix)#该图的节点数\n",
    "    dis=[]; temp=[]\n",
    "    dis.extend(matrix[start])  #深复制\n",
    "    temp.extend(matrix[start]) #深复制\n",
    "    temp[start] = inf  #临时数组会把处理过的节点的值变成inf，表示不是最小权值的节点了\n",
    "    visited=[start]  #start已处理\n",
    "    parent=[start]*n   #用于画路径，记录此路径中该节点的父节点\n",
    "    while len(visited)<n:\n",
    "        i= temp.index(min(temp)) #找最小权值的节点的坐标\n",
    "        temp[i]=inf\n",
    "        for j in range(n):\n",
    "            if j not in visited:\n",
    "                if (dis[i]+matrix[i][j])<dis[j]:\n",
    "                    dis[j] = temp[j] =dis[i]+matrix[i][j]\n",
    "                    parent[j]=i  #说明父节点是i\n",
    "        visited.append(i)  #该索引已经处理了\n",
    "        path=[]  #用于画路径\n",
    "        path.append(str(i))\n",
    "        k=i\n",
    "        while(parent[k]!=start):  #找该节点的父节点添加到path，直到父节点是start\n",
    "            path.append(str(parent[k]))\n",
    "            k=parent[k]\n",
    "        path.append(str(start))\n",
    "        path.reverse()   #path反序产生路径\n",
    "        print(str(i)+':','->'.join(path))  #打印路径\n",
    "    return dis\n",
    "\n",
    "#领接矩阵\n",
    "a=[[0,50,inf,40,25,10],[50,0,15,20,inf,25],\n",
    "   [inf,15,0,10,20,inf],[40,20,10,0,10,25],\n",
    "   [25,inf,20,10,0,55],[10,25,inf,25,55,0]]\n",
    "d=Dijkstra_all_minpath(a,0)\n",
    "print(\"计算结果为：\\n\")\n",
    "print(d)\n"
   ]
  },
  {
   "cell_type": "code",
   "execution_count": 7,
   "metadata": {},
   "outputs": [
    {
     "name": "stdout",
     "output_type": "stream",
     "text": [
      "2: 3->2\n",
      "0: 3->2->0\n",
      "1: 3->1\n",
      "4: 3->4\n",
      "5: 3->5\n",
      "6: 3->4->6\n",
      "7: 3->4->6->7\n",
      "所求最短距离为： [3, 3, 1, 0, 3, 6, 6, 8]\n"
     ]
    }
   ],
   "source": [
    "import numpy as np\n",
    "\n",
    "\n",
    "\n",
    "inf=np.inf\n",
    "def Dijkstra_all_minpath( mat,start): #mat为邻接矩阵，start表示起点\n",
    "    n=len( mat)#该图的节点数\n",
    "    dis=[]; temp=[]\n",
    "    dis.extend(mat[start])  #添加矩阵mat的start行元素\n",
    "    temp.extend(mat[start]) #添加矩阵mat的start行元素\n",
    "    temp[start] = inf  #临时数组会把处理过的节点的值变成inf\n",
    "    visited=[start]  #start已处理\n",
    "    parent=[start]*n   #用于画路径，记录此路径中该节点的父节点\n",
    "    while len(visited)<n:\n",
    "        i= temp.index(min(temp)) #找最小权值的节点的坐标\n",
    "        temp[i]=inf\n",
    "        for j in range(n):\n",
    "            if j not in visited:\n",
    "                if (dis[i]+ mat[i][j])<dis[j]:\n",
    "                    dis[j] = temp[j] =dis[i]+ mat[i][j]\n",
    "                    parent[j]=i  #说明父节点是i\n",
    "        visited.append(i)  #该索引已经处理了\n",
    "        path=[]  #用于画路径\n",
    "        path.append(str(i))\n",
    "        k=i\n",
    "        while(parent[k]!=start):  #找该节点的父节点添加到path，直到父节点是start\n",
    "            path.append(str(parent[k]))\n",
    "            k=parent[k]\n",
    "        path.append(str(start))\n",
    "        path.reverse()   #path反序产生路径\n",
    "        print(str(i)+':','->'.join(path))  #打印路径\n",
    "    return dis\n",
    "\n",
    "a=[[0,1,2,inf,7,inf,4,8],[1,0,2,3,inf,inf,inf,7],\n",
    "            [2,2,0,1,5,inf,inf,inf],[inf,3,1,0,3,6,inf,inf],\n",
    "            [7,inf,5,3,0,4,3,inf],[inf,inf,inf,6,4,0,6,4],\n",
    "            [4,inf,inf,inf,3,6,0,2],[8,7,inf,inf,inf,4,2,0]]\n",
    "d=Dijkstra_all_minpath(a,3)\n",
    "print(\"所求最短距离为：\",d)"
   ]
  },
  {
   "cell_type": "code",
   "execution_count": 8,
   "metadata": {},
   "outputs": [
    {
     "name": "stdout",
     "output_type": "stream",
     "text": [
      "所有顶点对之间的最短距离为：\n",
      " [[0, 35, 45, 35, 25, 10], [35, 0, 15, 20, 30, 25], [45, 15, 0, 10, 20, 35], [35, 20, 10, 0, 10, 25], [25, 30, 20, 10, 0, 35], [10, 25, 35, 25, 35, 0]] \n",
      " 路由矩阵为：\n",
      " [[0. 5. 4. 4. 0. 0.]\n",
      " [5. 0. 0. 0. 3. 0.]\n",
      " [4. 0. 0. 0. 0. 3.]\n",
      " [4. 0. 0. 0. 0. 0.]\n",
      " [0. 3. 0. 0. 0. 0.]\n",
      " [0. 0. 3. 0. 0. 0.]]\n"
     ]
    }
   ],
   "source": [
    "import numpy as np\n",
    "def floyd(graph):\n",
    "    m = len(graph)\n",
    "    dis = graph\n",
    "    path = np.zeros((m, m))  #路由矩阵初始化\n",
    "    for k in range(m):\n",
    "        for i in range(m):\n",
    "            for j in range(m):\n",
    "                if dis[i][k] + dis[k][j] < dis[i][j]:\n",
    "                    dis[i][j] = dis[i][k] + dis[k][j]\n",
    "                    path[i][j] = k\n",
    "\n",
    "    return dis, path\n",
    "inf=np.inf\n",
    "a=[[0,50,inf,40,25,10],[50,0,15,20,inf,25],\n",
    "   [inf,15,0,10,20,inf],[40,20,10,0,10,25],\n",
    "   [25,inf,20,10,0,55],[10,25,inf,25,55,0]]  #输入邻接矩阵\n",
    "dis, path=floyd(a)\n",
    "print(\"所有顶点对之间的最短距离为：\\n\", dis, '\\n',\"路由矩阵为：\\n\",path)"
   ]
  },
  {
   "cell_type": "code",
   "execution_count": 9,
   "metadata": {},
   "outputs": [
    {
     "name": "stdout",
     "output_type": "stream",
     "text": [
      "[[0. 9. 2. 4. 7.]\n",
      " [0. 0. 3. 4. 0.]\n",
      " [0. 0. 0. 8. 4.]\n",
      " [0. 0. 0. 0. 6.]\n",
      " [0. 0. 0. 0. 0.]]\n"
     ]
    },
    {
     "data": {
      "image/png": "[encoded data removed]",
      "text/plain": [
       "<Figure size 432x288 with 2 Axes>"
      ]
     },
     "metadata": {},
     "output_type": "display_data"
    }
   ],
   "source": [
    "import numpy as np\n",
    "import networkx as nx\n",
    "import pylab as plt\n",
    "\n",
    "\n",
    "\n",
    "a=np.zeros((5,5))\n",
    "a[0,1:5]=[9, 2, 4, 7]; a[1,2:4]=[3,4]\n",
    "a[2,[3,4]]=[8, 4]; #输入邻接矩阵的上三角元素\n",
    "a[3,4]=6; print(a); np.savetxt(\"./数据集/Pdata10_2.txt\",a) #保存邻接矩阵供以后使用\n",
    "i,j=np.nonzero(a)  #提取顶点的编号\n",
    "w=a[i,j]  #提出a中的非零元素\n",
    "edges=list(zip(i,j,w))\n",
    "G=nx.Graph()\n",
    "G.add_weighted_edges_from(edges)\n",
    "key=range(5); s=[str(i+1) for i in range(5)]\n",
    "s=dict(zip(key,s))  #构造用于顶点标注的字符字典\n",
    "plt.rc('font',size=18)\n",
    "plt.subplot(121); nx.draw(G,font_weight='bold',labels=s)\n",
    "plt.subplot(122); pos=nx.shell_layout(G)  #布局设置\n",
    "nx.draw_networkx(G,pos,node_size=260,labels=s)\n",
    "w = nx.get_edge_attributes(G,'weight')\n",
    "nx.draw_networkx_edge_labels(G,pos,font_size=12,edge_labels=w) #标注权重\n",
    "plt.savefig(\"./图论模型/figure10_2.png\", dpi=500); plt.show()"
   ]
  },
  {
   "cell_type": "code",
   "execution_count": 10,
   "metadata": {},
   "outputs": [
    {
     "data": {
      "image/png": "[encoded data removed]",
      "text/plain": [
       "<Figure size 432x288 with 1 Axes>"
      ]
     },
     "metadata": {},
     "output_type": "display_data"
    }
   ],
   "source": [
    "import networkx as nx\n",
    "import pylab as plt\n",
    "import numpy as np\n",
    "\n",
    "\n",
    "\n",
    "\n",
    "List=[(1,2,9),(1,3,2),(1,4,4),(1,5,7),\\\n",
    "    (2,3,3),(2,4,4),(3,4,8),(3,5,4),(4,5,6)]\n",
    "G=nx.Graph()\n",
    "G.add_nodes_from(range(1,6))\n",
    "G.add_weighted_edges_from(List)\n",
    "pos=nx.shell_layout(G)\n",
    "w = nx.get_edge_attributes(G,'weight')\n",
    "nx.draw(G, pos,with_labels=True, font_weight='bold',font_size=12)\n",
    "nx.draw_networkx_edge_labels(G,pos,edge_labels=w)\n",
    "plt.show()"
   ]
  },
  {
   "cell_type": "code",
   "execution_count": 11,
   "metadata": {},
   "outputs": [
    {
     "data": {
      "image/png": "[encoded data removed]",
      "text/plain": [
       "<Figure size 432x288 with 1 Axes>"
      ]
     },
     "metadata": {},
     "output_type": "display_data"
    }
   ],
   "source": [
    "import numpy as np\n",
    "import networkx as nx\n",
    "import pylab as plt\n",
    "\n",
    "\n",
    "\n",
    "G=nx.DiGraph()\n",
    "List=[(1,2),(1,3),(2,3),(3,2),(3,5),(4,2),(4,6),\\\n",
    "    (5,2),(5,4),(5,6),(6,5)]\n",
    "G.add_nodes_from(range(1,7))\n",
    "G.add_edges_from(List)\n",
    "plt.rc('font',size=16)\n",
    "pos=nx.shell_layout(G)\n",
    "nx.draw(G,pos,with_labels=True, font_weight='bold',node_color='r')\n",
    "plt.savefig(\"./图论模型/figure10_3.png\", dpi=500); plt.show()"
   ]
  },
  {
   "cell_type": "code",
   "execution_count": 12,
   "metadata": {},
   "outputs": [
    {
     "name": "stdout",
     "output_type": "stream",
     "text": [
      "图的顶点集为： [0, 1, 2, 3, 4] \n",
      "边集为： [(0, 1), (0, 2), (0, 3), (0, 4), (1, 2), (1, 3), (2, 3), (2, 4), (3, 4)]\n",
      "邻接表为： [(0, {1: {'weight': 9.0}, 2: {'weight': 2.0}, 3: {'weight': 4.0}, 4: {'weight': 7.0}}), (1, {0: {'weight': 9.0}, 2: {'weight': 3.0}, 3: {'weight': 4.0}}), (2, {0: {'weight': 2.0}, 1: {'weight': 3.0}, 3: {'weight': 8.0}, 4: {'weight': 4.0}}), (3, {0: {'weight': 4.0}, 1: {'weight': 4.0}, 2: {'weight': 8.0}, 4: {'weight': 6.0}}), (4, {0: {'weight': 7.0}, 2: {'weight': 4.0}, 3: {'weight': 6.0}})]\n",
      "列表字典为： {0: [1, 2, 3, 4], 1: [0, 2, 3], 2: [0, 1, 3, 4], 3: [0, 1, 2, 4], 4: [0, 2, 3]}\n"
     ]
    }
   ],
   "source": [
    "import numpy as np\n",
    "import networkx as nx\n",
    "import pylab as plt\n",
    "\n",
    "\n",
    "\n",
    "a=np.loadtxt(\"./数据集/Pdata10_2.txt\")\n",
    "G=nx.Graph(a)     #利用邻接矩阵构造赋权无向图\n",
    "print(\"图的顶点集为：\", G.nodes(),\"\\n边集为：\", G.edges())\n",
    "print(\"邻接表为：\", list(G.adjacency()))  #显示图的邻接表\n",
    "print(\"列表字典为：\", nx.to_dict_of_lists(G)) \n",
    "B=nx.to_numpy_matrix(G)  #从图G中导出邻接矩阵B，这里B=a\n",
    "C=nx.to_scipy_sparse_array(G)  #从图G中导出稀疏矩阵C"
   ]
  },
  {
   "cell_type": "code",
   "execution_count": 13,
   "metadata": {},
   "outputs": [
    {
     "name": "stdout",
     "output_type": "stream",
     "text": [
      "2: 3->2\n",
      "0: 3->2->0\n",
      "1: 3->1\n",
      "4: 3->4\n",
      "5: 3->5\n",
      "6: 3->4->6\n",
      "7: 3->4->6->7\n",
      "v3到所有顶点的最短距离为： [3, 3, 1, 0, 3, 6, 6, 8]\n"
     ]
    }
   ],
   "source": [
    "import numpy as np\n",
    "\n",
    "\n",
    "\n",
    "\n",
    "inf=np.inf\n",
    "def Dijkstra_all_minpath( matr,start): #matr为邻接矩阵的数组，start表示起点\n",
    "    n=len( matr) #该图的节点数\n",
    "    dis=[]; temp=[]\n",
    "    dis.extend(matr[start])  #添加数组matr的start行元素\n",
    "    temp.extend(matr[start]) #添加矩阵matr的start行元素\n",
    "    temp[start] = inf  #临时数组会把处理过的节点的值变成inf\n",
    "    visited=[start]  #start已处理\n",
    "    parent=[start]*n   #用于画路径，记录此路径中该节点的父节点\n",
    "    while len(visited)<n:\n",
    "        i= temp.index(min(temp)) #找最小权值的节点的坐标\n",
    "        temp[i]=inf\n",
    "        for j in range(n):\n",
    "            if j not in visited:\n",
    "                if (dis[i]+ matr[i][j])<dis[j]:\n",
    "                    dis[j] = temp[j] =dis[i]+ matr[i][j]\n",
    "                    parent[j]=i  #说明父节点是i\n",
    "        visited.append(i)  #该索引已经处理了\n",
    "        path=[]  #用于画路径\n",
    "        path.append(str(i))\n",
    "        k=i\n",
    "        while(parent[k]!=start):  #找该节点的父节点添加到path，直到父节点是start\n",
    "            path.append(str(parent[k]))\n",
    "            k=parent[k]\n",
    "        path.append(str(start))\n",
    "        path.reverse()   #path反序产生路径\n",
    "        print(str(i)+':','->'.join(path))  #打印路径\n",
    "    return dis\n",
    "\n",
    "\n",
    "\n",
    "a=[[0,1,2,inf,7,inf,4,8],[1,0,2,3,inf,inf,inf,7],\n",
    "  [2,2,0,1,5,inf,inf,inf],[inf,3,1,0,3,6,inf,inf],\n",
    "  [7,inf,5,3,0,4,3,inf],[inf,inf,inf,6,4,0,6,4],\n",
    "  [4,inf,inf,inf,3,6,0,2],[8,7,inf,inf,inf,4,2,0]]\n",
    "d=Dijkstra_all_minpath(a,3)\n",
    "print(\"v3到所有顶点的最短距离为：\",d)"
   ]
  },
  {
   "cell_type": "code",
   "execution_count": 14,
   "metadata": {},
   "outputs": [
    {
     "name": "stdout",
     "output_type": "stream",
     "text": [
      "最短路径为： [3, 4, 6, 7] ；最短距离为： 8\n"
     ]
    }
   ],
   "source": [
    "import numpy as np\n",
    "import networkx as nx\n",
    "\n",
    "\n",
    "\n",
    "\n",
    "List=[(0,1,1),(0,2,2),(0,4,7),(0,6,4),(0,7,8),(1,2,2),(1,3,3),\\\n",
    "    (1,7,7),(2,3,1),(2,4,5),(3,4,3),(3,5,6),(4,5,4),(4,6,3),\\\n",
    "        (5,6,6),(5,7,4),(6,7,2)]\n",
    "G=nx.Graph()\n",
    "G.add_weighted_edges_from(List)\n",
    "A=nx.to_numpy_matrix(G, nodelist=range(8))  #导出邻接矩阵\n",
    "np.savetxt('./数据集/Pdata10_6.txt',A)\n",
    "p=nx.dijkstra_path(G, source=3, target=7, weight='weight')  #求最短路径；\n",
    "d=nx.dijkstra_path_length(G, 3, 7, weight='weight') #求最短距离\n",
    "print(\"最短路径为：\",p,\"；最短距离为：\",d)"
   ]
  },
  {
   "cell_type": "code",
   "execution_count": 15,
   "metadata": {},
   "outputs": [
    {
     "name": "stdout",
     "output_type": "stream",
     "text": [
      "所有顶点对之间的最短距离为：\n",
      " [[0. 1. 2. 3. 6. 9. 4. 6.]\n",
      " [1. 0. 2. 3. 6. 9. 5. 7.]\n",
      " [2. 2. 0. 1. 4. 7. 6. 8.]\n",
      " [3. 3. 1. 0. 3. 6. 6. 8.]\n",
      " [6. 6. 4. 3. 0. 4. 3. 5.]\n",
      " [9. 9. 7. 6. 4. 0. 6. 4.]\n",
      " [4. 5. 6. 6. 3. 6. 0. 2.]\n",
      " [6. 7. 8. 8. 5. 4. 2. 0.]] \n",
      " 路由矩阵为：\n",
      " [[0. 0. 0. 2. 3. 3. 0. 6.]\n",
      " [0. 0. 0. 0. 3. 3. 0. 0.]\n",
      " [0. 0. 0. 0. 3. 3. 0. 6.]\n",
      " [2. 0. 0. 0. 0. 0. 4. 6.]\n",
      " [3. 3. 3. 0. 0. 0. 0. 6.]\n",
      " [3. 3. 3. 0. 0. 0. 0. 0.]\n",
      " [0. 0. 0. 4. 0. 0. 0. 0.]\n",
      " [6. 0. 6. 6. 6. 0. 0. 0.]]\n"
     ]
    }
   ],
   "source": [
    "import numpy as np\n",
    "\n",
    "\n",
    "def floyd(graph):\n",
    "    m = len(graph)\n",
    "    dis = graph\n",
    "    path = np.zeros((m, m))  #路由矩阵初始化\n",
    "    for k in range(m):\n",
    "        for i in range(m):\n",
    "            for j in range(m):\n",
    "                if dis[i][k] + dis[k][j] < dis[i][j]:\n",
    "                    dis[i][j] = dis[i][k] + dis[k][j]\n",
    "                    path[i][j] = k\n",
    "    return dis, path\n",
    "\n",
    "\n",
    "\n",
    "inf=np.inf\n",
    "a=np.array([[0,1,2,inf,7,inf,4,8],[1,0,2,3,inf,inf,inf,7],\n",
    "  [2,2,0,1,5,inf,inf,inf],[inf,3,1,0,3,6,inf,inf],\n",
    "  [7,inf,5,3,0,4,3,inf],[inf,inf,inf,6,4,0,6,4],\n",
    "  [4,inf,inf,inf,3,6,0,2],[8,7,inf,inf,inf,4,2,0]])  #输入邻接矩阵\n",
    "dis, path=floyd(a)\n",
    "print(\"所有顶点对之间的最短距离为：\\n\", dis, '\\n',\"路由矩阵为：\\n\",path)"
   ]
  },
  {
   "cell_type": "code",
   "execution_count": 16,
   "metadata": {},
   "outputs": [
    {
     "name": "stdout",
     "output_type": "stream",
     "text": [
      "顶点对之间的距离为： {0: {0: 0, 1: 1.0, 2: 2.0, 3: 3.0, 6: 4.0, 4: 6.0, 7: 6.0, 5: 9.0}, 1: {1: 0, 0: 1.0, 2: 2.0, 3: 3.0, 6: 5.0, 4: 6.0, 7: 7.0, 5: 9.0}, 2: {2: 0, 3: 1.0, 0: 2.0, 1: 2.0, 4: 4.0, 6: 6.0, 5: 7.0, 7: 8.0}, 3: {3: 0, 2: 1.0, 1: 3.0, 4: 3.0, 0: 3.0, 5: 6.0, 6: 6.0, 7: 8.0}, 4: {4: 0, 3: 3.0, 6: 3.0, 5: 4.0, 2: 4.0, 7: 5.0, 1: 6.0, 0: 6.0}, 5: {5: 0, 4: 4.0, 7: 4.0, 3: 6.0, 6: 6.0, 2: 7.0, 1: 9.0, 0: 9.0}, 6: {6: 0, 7: 2.0, 4: 3.0, 0: 4.0, 1: 5.0, 5: 6.0, 3: 6.0, 2: 6.0}, 7: {7: 0, 6: 2.0, 5: 4.0, 4: 5.0, 0: 6.0, 1: 7.0, 3: 8.0, 2: 8.0}}\n",
      "顶点0到顶点4的最短距离为: 6.0\n",
      "顶点对之间最短距离的数组表示为：\n",
      " [[0. 1. 2. 3. 6. 9. 4. 6.]\n",
      " [1. 0. 2. 3. 6. 9. 5. 7.]\n",
      " [2. 2. 0. 1. 4. 7. 6. 8.]\n",
      " [3. 3. 1. 0. 3. 6. 6. 8.]\n",
      " [6. 6. 4. 3. 0. 4. 3. 5.]\n",
      " [9. 9. 7. 6. 4. 0. 6. 4.]\n",
      " [4. 5. 6. 6. 3. 6. 0. 2.]\n",
      " [6. 7. 8. 8. 5. 4. 2. 0.]]\n",
      "\n",
      "顶点对之间的最短路径为： {0: {0: [0], 1: [0, 1], 2: [0, 2], 4: [0, 2, 3, 4], 6: [0, 6], 7: [0, 6, 7], 3: [0, 2, 3], 5: [0, 2, 3, 5]}, 1: {1: [1], 0: [1, 0], 2: [1, 2], 3: [1, 3], 7: [1, 7], 4: [1, 3, 4], 6: [1, 0, 6], 5: [1, 3, 5]}, 2: {2: [2], 0: [2, 0], 1: [2, 1], 3: [2, 3], 4: [2, 3, 4], 5: [2, 3, 5], 6: [2, 0, 6], 7: [2, 0, 6, 7]}, 3: {3: [3], 1: [3, 1], 2: [3, 2], 4: [3, 4], 5: [3, 5], 0: [3, 2, 0], 7: [3, 4, 6, 7], 6: [3, 4, 6]}, 4: {4: [4], 0: [4, 3, 2, 0], 2: [4, 3, 2], 3: [4, 3], 5: [4, 5], 6: [4, 6], 1: [4, 3, 1], 7: [4, 6, 7]}, 5: {5: [5], 3: [5, 3], 4: [5, 4], 6: [5, 6], 7: [5, 7], 0: [5, 3, 2, 0], 2: [5, 3, 2], 1: [5, 3, 1]}, 6: {6: [6], 0: [6, 0], 4: [6, 4], 5: [6, 5], 7: [6, 7], 1: [6, 0, 1], 2: [6, 0, 2], 3: [6, 4, 3]}, 7: {7: [7], 0: [7, 6, 0], 1: [7, 1], 5: [7, 5], 6: [7, 6], 4: [7, 6, 4], 3: [7, 6, 4, 3], 2: [7, 6, 0, 2]}}\n",
      "顶点0到顶点4的最短路径为： [0, 2, 3, 4]\n"
     ]
    }
   ],
   "source": [
    "import numpy as np\n",
    "import networkx as nx\n",
    "\n",
    "\n",
    "\n",
    "a=np.loadtxt(\"./数据集/Pdata10_6.txt\")\n",
    "G=nx.Graph(a)     #利用邻接矩阵构造赋权无向图\n",
    "d=nx.shortest_path_length(G,weight='weight')  #返回值是可迭代类型\n",
    "Ld=dict(d)  #转换为字典类型\n",
    "print(\"顶点对之间的距离为：\",Ld)  #显示所有顶点对之间的最短距离\n",
    "print(\"顶点0到顶点4的最短距离为:\",Ld[0][4])  #显示一对顶点之间的最短距离\n",
    "m,n=a.shape; dd=np.zeros((m,n))\n",
    "for i in range(m):\n",
    "    for j in range(n): dd[i,j]=Ld[i][j]\n",
    "print(\"顶点对之间最短距离的数组表示为：\\n\",dd)  #显示所有顶点对之间最短距离\n",
    "np.savetxt('./数据集/Pdata10_8.txt',dd) #把最短距离数组保存到文本文件中\n",
    "p=nx.shortest_path(G, weight='weight')  #返回值是可迭代类型\n",
    "dp=dict(p)  #转换为字典类型\n",
    "print(\"\\n顶点对之间的最短路径为：\", dp)\n",
    "print(\"顶点0到顶点4的最短路径为：\",dp[0][4])\n"
   ]
  },
  {
   "cell_type": "code",
   "execution_count": 17,
   "metadata": {},
   "outputs": [
    {
     "name": "stdout",
     "output_type": "stream",
     "text": [
      "[[ 0. 15. 33. 54. 82.]\n",
      " [ 0.  0. 16. 34. 55.]\n",
      " [ 0.  0.  0. 18. 36.]\n",
      " [ 0.  0.  0.  0. 21.]\n",
      " [ 0.  0.  0.  0.  0.]]\n",
      "最短路径为: [1 2 3 5]\n",
      "所求的费用最小值为： 67.0\n"
     ]
    },
    {
     "name": "stderr",
     "output_type": "stream",
     "text": [
      "C:\\Users\\35668\\AppData\\Local\\Temp\\ipykernel_22748\\1590456041.py:27: MatplotlibDeprecationWarning: savefig() got unexpected keyword argument \"pdi\" which is no longer supported as of 3.3 and will become an error in 3.6\n",
      "  plt.savefig(\"./图论模型/figure10_9.png\",pdi=500); plt.show()\n"
     ]
    },
    {
     "data": {
      "image/png": "[encoded data removed]",
      "text/plain": [
       "<Figure size 432x288 with 1 Axes>"
      ]
     },
     "metadata": {},
     "output_type": "display_data"
    }
   ],
   "source": [
    "import numpy as np\n",
    "import networkx as nx\n",
    "import pylab as plt\n",
    "\n",
    "\n",
    "\n",
    "p=[25,26,28,31]; a=[10,14,18,26]; r=[20,16,13,11];\n",
    "b=np.zeros((5,5)); #邻接矩阵（非数学上的邻接矩阵）初始化\n",
    "for i in range(5):\n",
    "    for j in range(i+1,5):\n",
    "        b[i,j]=p[i]+np.sum(a[0:j-i])-r[j-i-1];\n",
    "print(b)\n",
    "G=nx.DiGraph(b)\n",
    "p=nx.dijkstra_path(G, source=0, target=4, weight='weight')  #求最短路径；\n",
    "print(\"最短路径为:\",np.array(p)+1)  #python下标从0开始\n",
    "d=nx.dijkstra_path_length(G, 0, 4, weight='weight') #求最短距离\n",
    "print(\"所求的费用最小值为：\",d)\n",
    "s=dict(zip(range(5),range(1,6))) #构造用于顶点标注的标号字典\n",
    "plt.rc('font',size=16)\n",
    "pos=nx.shell_layout(G)  #设置布局\n",
    "w=nx.get_edge_attributes(G,'weight')\n",
    "nx.draw(G,pos,font_weight='bold',labels=s,node_color='r')\n",
    "nx.draw_networkx_edge_labels(G,pos,edge_labels=w)\n",
    "path_edges=list(zip(p,p[1:]))\n",
    "nx.draw_networkx_edges(G,pos,edgelist=path_edges,\n",
    "            edge_color='r',width=3)\n",
    "plt.savefig(\"./图论模型/figure10_9.png\",pdi=500); plt.show()"
   ]
  },
  {
   "cell_type": "code",
   "execution_count": 18,
   "metadata": {},
   "outputs": [
    {
     "name": "stdout",
     "output_type": "stream",
     "text": [
      "[[ 0. 20. 25. 55. 15. 30.]\n",
      " [20.  0. 20. 40. 25. 40.]\n",
      " [25. 20.  0. 30. 10. 25.]\n",
      " [55. 40. 30.  0. 40. 55.]\n",
      " [15. 25. 10. 40.  0. 15.]\n",
      " [30. 40. 25. 55. 15.  0.]]\n",
      "运力m= [ 4850.  4900.  5250. 11850.  4700.  8750.] \n",
      "最小运力mm= 4700.0 \n",
      "选矿厂的设置位置为： [5]\n"
     ]
    }
   ],
   "source": [
    "import numpy as np\n",
    "import networkx as nx\n",
    "\n",
    "\n",
    "\n",
    "List=[(1,2,20),(1,5,15),(2,3,20),(2,4,40),\\\n",
    "    (2,5,25),(3,4,30),(3,5,10),(5,6,15)]\n",
    "G=nx.Graph()\n",
    "G.add_nodes_from(range(1,7))\n",
    "G.add_weighted_edges_from(List)\n",
    "c=dict(nx.shortest_path_length(G,weight='weight'))\n",
    "d=np.zeros((6,6))\n",
    "for i in range(1,7):\n",
    "    for j in range(1,7): d[i-1,j-1]=c[i][j]\n",
    "print(d)\n",
    "q=np.array([80,90,30,20,60,10])\n",
    "m=d@q  #计算运力，这里使用矩阵乘法\n",
    "mm=m.min()  #求运力的最小值\n",
    "ind=np.where(m==mm)[0]+1  #python下标从0开始，np.where返回值为元组\n",
    "print(\"运力m=\",m,'\\n最小运力mm=',mm,\"\\n选矿厂的设置位置为：\",ind)"
   ]
  },
  {
   "cell_type": "code",
   "execution_count": 19,
   "metadata": {},
   "outputs": [
    {
     "name": "stdout",
     "output_type": "stream",
     "text": [
      "最小生成树为: {(1, 5): 2, (2, 3): 4, (3, 5): 1, (3, 4): 2}\n",
      "最小生成树的长度为： 9\n"
     ]
    },
    {
     "data": {
      "image/png": "[encoded data removed]",
      "text/plain": [
       "<Figure size 432x288 with 1 Axes>"
      ]
     },
     "metadata": {},
     "output_type": "display_data"
    }
   ],
   "source": [
    "import numpy as np\n",
    "import networkx as nx\n",
    "import pylab as plt\n",
    "\n",
    "\n",
    "\n",
    "L=[(1,2,8),(1,3,4),(1,5,2),(2,3,4),(3,4,2),(3,5,1),(4,5,5)]\n",
    "b=nx.Graph()\n",
    "b.add_nodes_from(range(1,6))\n",
    "b.add_weighted_edges_from(L)\n",
    "T=nx.minimum_spanning_tree(b)  #返回可迭代对象\n",
    "w=nx.get_edge_attributes(T,'weight') #提取字典数据\n",
    "TL=sum(w.values())  #计算最小生成树的长度\n",
    "print(\"最小生成树为:\",w)\n",
    "print(\"最小生成树的长度为：\",TL)\n",
    "pos=nx.shell_layout(b)\n",
    "nx.draw(T,pos,node_size=280,with_labels=True,node_color='r')\n",
    "nx.draw_networkx_edge_labels(T,pos,edge_labels=w)\n",
    "plt.show()"
   ]
  },
  {
   "cell_type": "code",
   "execution_count": 20,
   "metadata": {},
   "outputs": [
    {
     "name": "stdout",
     "output_type": "stream",
     "text": [
      "邻接矩阵c=\n",
      " [[0.  0.  0.  0.  0.7 0.  0.  0. ]\n",
      " [0.  0.  0.9 0.  0.  0.  0.  0. ]\n",
      " [0.  0.9 0.  0.  0.  0.  0.  1. ]\n",
      " [0.  0.  0.  0.  0.7 0.  0.  0. ]\n",
      " [0.7 0.  0.  0.7 0.  0.  0.  0.8]\n",
      " [0.  0.  0.  0.  0.  0.  0.6 0. ]\n",
      " [0.  0.  0.  0.  0.  0.6 0.  0.5]\n",
      " [0.  0.  1.  0.  0.8 0.  0.5 0. ]]\n",
      "油管长度W= 10.2\n"
     ]
    },
    {
     "data": {
      "image/png": "[encoded data removed]",
      "text/plain": [
       "<Figure size 432x288 with 1 Axes>"
      ]
     },
     "metadata": {},
     "output_type": "display_data"
    }
   ],
   "source": [
    "import numpy as np\n",
    "import networkx as nx\n",
    "import pandas as pd\n",
    "import pylab as plt\n",
    "\n",
    "\n",
    "\n",
    "\n",
    "a=pd.read_excel(\"./数据集/Pdata10_14.xlsx\",header=None)\n",
    "b=a.values; b[np.isnan(b)]=0\n",
    "c=np.zeros((8,8))  #邻接矩阵初始化\n",
    "c[0:7,1:8]=b  #构造图的邻接矩阵\n",
    "G=nx.Graph(c)\n",
    "T=nx.minimum_spanning_tree(G)  #返回可迭代对象\n",
    "d=nx.to_numpy_matrix(T)  #返回最小生成树的邻接矩阵\n",
    "print(\"邻接矩阵c=\\n\",d)\n",
    "W=d.sum()/2+5  #求油管长度\n",
    "print(\"油管长度W=\",W)\n",
    "s=dict(zip(range(8),range(1,9))) #构造用于顶点标注的标号字典\n",
    "plt.rc('font',size=16); pos=nx.shell_layout(G)\n",
    "nx.draw(T,pos,node_size=280,labels=s,node_color='r')\n",
    "w=nx.get_edge_attributes(T,'weight')\n",
    "nx.draw_networkx_edge_labels(T,pos,edge_labels=w)\n",
    "plt.savefig('./图论模型/figure10_14.png'); plt.show()"
   ]
  },
  {
   "cell_type": "code",
   "execution_count": 21,
   "metadata": {},
   "outputs": [
    {
     "name": "stdout",
     "output_type": "stream",
     "text": [
      "工作分配对应关系为：\n",
      "人员编号： [2 5 3 1 4]\n",
      "工作编号： [1 5 3 4 2]\n",
      "总的效益为： 15\n"
     ]
    }
   ],
   "source": [
    "import numpy as np\n",
    "import networkx as nx\n",
    "from networkx.algorithms.matching import max_weight_matching\n",
    "\n",
    "\n",
    "\n",
    "\n",
    "a=np.array([[3,5,5,4,1],[2,2,0,2,2],[2,4,4,1,0],\n",
    "            [0,2,2,1,0],[1,2,1,3,3]])\n",
    "b=np.zeros((10,10)); b[0:5,5:]=a; G=nx.Graph(b)\n",
    "s0=max_weight_matching(G)  #返回值为（人员，工作）的集合\n",
    "s=[sorted(w) for w in s0]\n",
    "L1=[x[0] for x in s]; L1=np.array(L1)+1  #人员编号\n",
    "L2=[x[1] for x in s]; L2=np.array(L2)-4  #工作编号\n",
    "c=a[L1-1,L2-1]  #提取对应的效益\n",
    "d=c.sum()  #计算总的效益\n",
    "print(\"工作分配对应关系为：\\n人员编号：\",L1)\n",
    "print(\"工作编号：\", L2); print(\"总的效益为：\",d)"
   ]
  },
  {
   "cell_type": "code",
   "execution_count": 22,
   "metadata": {},
   "outputs": [
    {
     "name": "stdout",
     "output_type": "stream",
     "text": [
      "最大流的流量为： 5\n",
      "最大流为： {0: {1: 2, 2: 3}, 1: {3: 2}, 2: {1: 0, 4: 3}, 3: {2: 0, 4: 0, 5: 2}, 4: {5: 3}, 5: {}}\n",
      "最大流的邻接矩阵为：\n",
      " [[0 2 3 0 0 0]\n",
      " [0 0 0 2 0 0]\n",
      " [0 0 0 0 3 0]\n",
      " [0 0 0 0 0 2]\n",
      " [0 0 0 0 0 3]\n",
      " [0 0 0 0 0 0]]\n"
     ]
    },
    {
     "data": {
      "image/png": "[encoded data removed]",
      "text/plain": [
       "<Figure size 432x288 with 1 Axes>"
      ]
     },
     "metadata": {},
     "output_type": "display_data"
    }
   ],
   "source": [
    "import numpy as np\n",
    "import networkx as nx\n",
    "import pylab as plt\n",
    "\n",
    "\n",
    "\n",
    "L=[(1,2,5),(1,3,3),(2,4,2),(3,2,1),(3,5,4),\\\n",
    "    (4,3,1),(4,5,3),(4,6,2),(5,6,5)]\n",
    "G=nx.DiGraph()\n",
    "for k in range(len(L)):\n",
    "    G.add_edge(L[k][0]-1,L[k][1]-1, capacity=L[k][2])\n",
    "value, flow_dict= nx.maximum_flow(G, 0, 5)\n",
    "print(\"最大流的流量为：\",value)\n",
    "print(\"最大流为：\", flow_dict)\n",
    "n = len(flow_dict)\n",
    "adj_mat = np.zeros((n, n), dtype=int)\n",
    "for i, adj in flow_dict.items():\n",
    "    for j, weight in adj.items():\n",
    "        adj_mat[i,j] = weight\n",
    "print(\"最大流的邻接矩阵为：\\n\",adj_mat)\n",
    "ni,nj=np.nonzero(adj_mat)  #非零弧的两端点编号\n",
    "key=range(n)\n",
    "s=['v'+str(i+1) for i in range(n)]\n",
    "s=dict(zip(key,s)) #构造用于顶点标注的字符字典\n",
    "plt.rc('font',size=16)\n",
    "pos=nx.shell_layout(G)  #设置布局\n",
    "w=nx.get_edge_attributes(G,'capacity')\n",
    "nx.draw(G,pos,font_weight='bold',labels=s,node_color='r')\n",
    "nx.draw_networkx_edge_labels(G,pos,edge_labels=w)\n",
    "path_edges=list(zip(ni,nj))\n",
    "nx.draw_networkx_edges(G,pos,edgelist=path_edges,\n",
    "            edge_color='r',width=3)\n",
    "plt.show()"
   ]
  },
  {
   "cell_type": "code",
   "execution_count": 23,
   "metadata": {},
   "outputs": [
    {
     "name": "stdout",
     "output_type": "stream",
     "text": [
      "所求流为： {0: {1: 2, 2: 3}, 1: {3: 2}, 2: {1: 0, 4: 4}, 3: {2: 1, 4: 1, 5: 0}, 4: {5: 5}, 5: {}}\n",
      "最小费用为： 63\n",
      "最小费用最大流的邻接矩阵为：\n",
      " [[0 2 3 0 0 0]\n",
      " [0 0 0 2 0 0]\n",
      " [0 0 0 0 4 0]\n",
      " [0 0 1 0 1 0]\n",
      " [0 0 0 0 0 5]\n",
      " [0 0 0 0 0 0]]\n"
     ]
    }
   ],
   "source": [
    "import numpy as np\n",
    "import networkx as nx\n",
    "\n",
    "\n",
    "\n",
    "\n",
    "L=[(1,2,5,3),(1,3,3,6),(2,4,2,8),(3,2,1,2),(3,5,4,2),\\\n",
    "    (4,3,1,1),(4,5,3,4),(4,6,2,10),(5,6,5,2)]\n",
    "G=nx.DiGraph()\n",
    "for k in range(len(L)):\n",
    "    G.add_edge(L[k][0]-1,L[k][1]-1, capacity=L[k][2], weight=L[k][3])\n",
    "mincostFlow=nx.max_flow_min_cost(G,0,5)\n",
    "print(\"所求流为：\",mincostFlow)\n",
    "mincost=nx.cost_of_flow(G, mincostFlow)\n",
    "print(\"最小费用为：\", mincost)\n",
    "flow_mat=np.zeros((6,6),dtype=int)\n",
    "for i,adj in mincostFlow.items():\n",
    "    for j,f in adj.items():\n",
    "        flow_mat[i,j]=f\n",
    "print(\"最小费用最大流的邻接矩阵为：\\n\",flow_mat)"
   ]
  },
  {
   "cell_type": "code",
   "execution_count": 24,
   "metadata": {},
   "outputs": [
    {
     "name": "stdout",
     "output_type": "stream",
     "text": [
      "A=\n",
      " [[0.025      0.875      0.025      0.025      0.025      0.025     ]\n",
      " [0.025      0.025      0.45       0.45       0.025      0.025     ]\n",
      " [0.025      0.025      0.025      0.30833333 0.30833333 0.30833333]\n",
      " [0.875      0.025      0.025      0.025      0.025      0.025     ]\n",
      " [0.025      0.025      0.025      0.025      0.025      0.875     ]\n",
      " [0.875      0.025      0.025      0.025      0.025      0.025     ]]\n",
      "V= [0.26752808 0.25239887 0.13226952 0.16974588 0.06247636 0.11558127]\n"
     ]
    },
    {
     "data": {
      "image/png": "[encoded data removed]",
      "text/plain": [
       "<Figure size 432x288 with 1 Axes>"
      ]
     },
     "metadata": {},
     "output_type": "display_data"
    },
    {
     "data": {
      "image/png": "[encoded data removed]",
      "text/plain": [
       "<Figure size 432x288 with 1 Axes>"
      ]
     },
     "metadata": {
      "needs_background": "light"
     },
     "output_type": "display_data"
    }
   ],
   "source": [
    "import numpy as np,networkx as nx\n",
    "import pylab as plt\n",
    "from scipy.sparse.linalg import eigs\n",
    "\n",
    "\n",
    "\n",
    "L=[(1,2),(2,3),(2,4),(3,4),(3,5),(3,6),\\\n",
    "    (4,1),(5,6),(6,1)]\n",
    "G=nx.DiGraph()\n",
    "G.add_nodes_from(range(1,7))  #添加顶点集\n",
    "G.add_edges_from(L)  #添加边集\n",
    "B=np.array(nx.to_numpy_matrix(G))  #提取邻接矩阵\n",
    "plt.rc('font',size=16); pos=nx.shell_layout(G)\n",
    "nx.draw(G,pos,node_size=280,font_weight='bold',\n",
    "        node_color='r',with_labels=True)\n",
    "plt.savefig(\"./图论模型/figure10_18_1.png\")\n",
    "A=B/np.tile(B.sum(axis=1,keepdims=True),(1,B.shape[1]))\n",
    "A=0.15/B.shape[0]+0.85*A  #计算状态转移概率矩阵\n",
    "print(\"A=\\n\",A)\n",
    "W,V=eigs(A.T,1); V=V.real\n",
    "V=V.flatten(); #展开成（n,)形式的数组\n",
    "V=V/V.sum(); print(\"V=\",V); plt.figure(2)\n",
    "plt.bar(range(1,B.shape[0]+1),V, width=0.6, color='b')\n",
    "plt.savefig(\"./图论模型/figure10_18_2.png\"); plt.show()"
   ]
  },
  {
   "cell_type": "code",
   "execution_count": 25,
   "metadata": {},
   "outputs": [
    {
     "name": "stdout",
     "output_type": "stream",
     "text": [
      "网络直径为： 3 \n",
      "平均路径长度为： 1.6\n",
      "各顶点的聚类系数为：\n",
      "(顶点v1: 1.0000)； (顶点v2: 0.5000)； (顶点v3: 0.6667)； (顶点v4: 0.3333)； (顶点v5: 0.6667)； (顶点v6: 0.0000)； \n",
      "整个网络的聚类系数为：0.5278\n"
     ]
    }
   ],
   "source": [
    "import numpy as np\n",
    "import networkx as nx\n",
    "\n",
    "\n",
    "\n",
    "L=[(1,2),(1,3),(2,3),(2,4),(2,5),(3,5),\n",
    "   (4,5),(4,6)]\n",
    "G=nx.Graph()   #构造无向图\n",
    "G.add_nodes_from(range(1,7))  #添加顶点集\n",
    "G.add_edges_from(L)\n",
    "D=nx.diameter(G)  #求网络直径\n",
    "LH=nx.average_shortest_path_length(G) #求平均路径长度\n",
    "Ci=nx.clustering(G)   #求各顶点的聚类系数\n",
    "C=nx.average_clustering(G)  #求整个网络的聚类系数\n",
    "print(\"网络直径为：\",D,\"\\n平均路径长度为：\",LH)\n",
    "print(\"各顶点的聚类系数为：\")\n",
    "for index,value in enumerate(Ci.values()):\n",
    "    print(\"(顶点v{:d}: {:.4f})；\".format(index+1,value),end=' ')\n",
    "print(\"\\n整个网络的聚类系数为：{:.4f}\".format(C))"
   ]
  },
  {
   "cell_type": "code",
   "execution_count": null,
   "metadata": {},
   "outputs": [],
   "source": []
  }
 ],
 "metadata": {
  "kernelspec": {
   "display_name": "Python 3.8.13 ('base')",
   "language": "python",
   "name": "python3"
  },
  "language_info": {
   "codemirror_mode": {
    "name": "ipython",
    "version": 3
   },
   "file_extension": ".py",
   "mimetype": "text/x-python",
   "name": "python",
   "nbconvert_exporter": "python",
   "pygments_lexer": "ipython3",
   "version": "3.8.13"
  },
  "orig_nbformat": 4,
  "vscode": {
   "interpreter": {
    "hash": "b09ec625f77bf4fd762565a912b97636504ad6ec901eb2d0f4cf5a7de23e1ee5"
   }
  }
 },
 "nbformat": 4,
 "nbformat_minor": 2
}
