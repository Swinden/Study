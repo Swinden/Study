{
 "cells": [
  {
   "cell_type": "code",
   "execution_count": 1,
   "metadata": {},
   "outputs": [
    {
     "name": "stdout",
     "output_type": "stream",
     "text": [
      "最大特征值为： [5.09758844+0.j]\n",
      "最大特征值对应的特征向量W=\n",
      " [[0.28626525-0.j]\n",
      " [0.48093287-0.j]\n",
      " [0.04851865-0.j]\n",
      " [0.0685439 -0.j]\n",
      " [0.11573932-0.j]]\n",
      "CR= [0.02178313+0.j]\n",
      "P1= [[0.16765631-0.j]\n",
      " [0.34873919-0.j]\n",
      " [0.4836045 -0.j]]\n",
      "P2= [[0.54721643-0.j]\n",
      " [0.26307422-0.j]\n",
      " [0.18970934-0.j]]\n",
      "P3= [[0.63009766-0.j]\n",
      " [0.21844266-0.j]\n",
      " [0.15145968-0.j]]\n",
      "P4= [[0.54721643+0.j]\n",
      " [0.26307422+0.j]\n",
      " [0.18970934+0.j]]\n",
      "P5= [[0.54721643-0.j]\n",
      " [0.18970934-0.j]\n",
      " [0.26307422-0.j]]\n",
      "K= [[0.44258285+0.j]\n",
      " [0.27694046+0.j]\n",
      " [0.28047669+0.j]]\n"
     ]
    }
   ],
   "source": [
    "from scipy.sparse.linalg import eigs\n",
    "from numpy import array, hstack\n",
    "\n",
    "\n",
    "\n",
    "\n",
    "a=array([[1,1/2,5,5,3],[2,1,7,7,5],[1/5,1/7,1,1/2,1/3],\n",
    "        [1/5,1/7,2,1,1/2],[1/3,1/5,3,2,1]])\n",
    "L,V=eigs(a,1);\n",
    "CR=(L-5)/4/1.12  #计算矩阵A的一致性比率\n",
    "W=V/sum(V); print(\"最大特征值为：\",L)\n",
    "print(\"最大特征值对应的特征向量W=\\n\",W)\n",
    "print(\"CR=\",CR)\n",
    "B1=array([[1,1/3,1/2],[3,1,1/2],[2,2,1]])\n",
    "L1,P1=eigs(B1,1); P1=P1/sum(P1)\n",
    "print(\"P1=\",P1)\n",
    "B2=array([[1,3,2],[1/3,1,2],[1/2,1/2,1]])\n",
    "t2,P2=eigs(B2,1); P2=P2/sum(P2)\n",
    "print(\"P2=\",P2)\n",
    "B3=array([[1,4,3],[1/4,1,2],[1/3,1/2,1]])\n",
    "t3, P3=eigs(B3,1); P3=P3/sum(P3)\n",
    "print(\"P3=\",P3)\n",
    "B4=array([[1,3,2],[1/3,1,2],[1/2,1/2,1]])\n",
    "t4, P4=eigs(B4,1); P4=P4/sum(P4)\n",
    "print(\"P4=\", P4)\n",
    "B5=array([[1,2,3],[1/2,1,1/2],[1/3,2,1]])\n",
    "t5, P5=eigs(B5,1); P5=P5/sum(P5)\n",
    "print(\"P5=\",P5)\n",
    "K=hstack([P1,P2,P3,P4,P5])@W  #矩阵乘法\n",
    "print(\"K=\",K)"
   ]
  },
  {
   "cell_type": "code",
   "execution_count": 2,
   "metadata": {},
   "outputs": [],
   "source": [
    "import numpy as np\n",
    "import pandas as pd\n",
    "\n",
    "\n",
    "\n",
    "\n",
    "a=np.loadtxt(\"./数据集/Pdata9_1_1.txt\",)\n",
    "R1=a.copy(); R2=a.copy(); R3=a.copy()  #初始化\n",
    "#注意R1=a,它们的内存地址一样，R1改变时，a也改变\n",
    "for j in [0,1,2,4,5]:\n",
    "    R1[:,j]=R1[:,j]/np.linalg.norm(R1[:,j]) #向量归一化\n",
    "    R2[:,j]=R1[:,j]/max(R1[:,j])     #比例变换\n",
    "    R3[:,j]=(R3[:,j]-min(R3[:,j]))/(max(R3[:,j])-min(R3[:,j]));\n",
    "R1[:,3]=1-R1[:,3]/np.linalg.norm(R1[:,3])\n",
    "R2[:,3]=min(R2[:,3])/R2[:,3]\n",
    "R3[:,3]=(max(R3[:,3])-R3[:,3])/(max(R3[:,3])-min(R3[:,3]))\n",
    "np.savetxt(\"./数据集/Pdata9_1_2.txt\", R1); #把数据写入文本文件，供下面使用\n",
    "np.savetxt(\"./数据集/Pdata9_1_3.txt\", R2); np.savetxt(\"./数据集/Pdata9_1_4.txt\", R3)\n",
    "DR1=pd.DataFrame(R1)  #生成DataFrame类型数据\n",
    "DR2=pd.DataFrame(R2); DR3=pd.DataFrame(R3)\n",
    "f=pd.ExcelWriter('./数据集/Pdata9_1_5.xlsx')  #创建文件对象\n",
    "DR1.to_excel(f,\"sheet1\")  #把DR1写入Excel文件1号表单中,方便做表\n",
    "DR2.to_excel(f,\"sheet2\"); DR3.to_excel(f, \"Sheet3\"); f.save()"
   ]
  },
  {
   "cell_type": "code",
   "execution_count": 3,
   "metadata": {},
   "outputs": [
    {
     "name": "stdout",
     "output_type": "stream",
     "text": [
      "正理想解= [1. 1. 1. 1. 1. 1.] 负理想解= [0.72       0.55555556 0.85714286 0.69230769 0.42857143 0.5       ]\n",
      "[0.59538974 0.83163293 0.48540227 0.685136  ] [0.60245103 0.52529122 0.71826658 0.4144692 ]\n",
      "TOPSIS的评价值为： [0.50294751 0.38711907 0.59673105 0.37692547]\n",
      "\n",
      "关联系数= [[0.58823529 0.39130435 0.85714286 0.61111111 0.5        1.        ]\n",
      " [1.         1.         0.66666667 0.48148148 0.33333333 0.36363636]\n",
      " [0.50505051 0.52427184 1.         1.         1.         0.48780488]\n",
      " [0.70422535 0.46153846 0.85714286 0.74074074 0.5        0.36363636]] \n",
      "关联度= [0.6579656  0.64085297 0.75285454 0.6045473 ]\n",
      "\n",
      "P=[[0.23529412 0.1875     0.25316456 0.23990158 0.25       0.37037037]\n",
      " [0.29411765 0.3375     0.2278481  0.20299364 0.15       0.18518519]\n",
      " [0.21176471 0.25       0.26582278 0.29321304 0.35       0.25925926]\n",
      " [0.25882353 0.225      0.25316456 0.26389174 0.25       0.18518519]]\n",
      ",e=[0.99468893 0.98294821 0.99888759 0.9936177  0.97032272 0.96836882]\n",
      ",g=[0.00531107 0.01705179 0.00111241 0.0063823  0.02967728 0.03163118]\n",
      ",w=[0.05825717 0.18704101 0.01220201 0.07000746 0.32552998 0.34696237]\n",
      "F=[0.27854885 0.21033387 0.28675644 0.22436085]\n",
      "\n",
      "秩矩阵为：\n",
      " [[2.  1.  2.5 2.  2.5 4. ]\n",
      " [4.  4.  1.  1.  1.  1.5]\n",
      " [1.  3.  4.  4.  4.  3. ]\n",
      " [3.  2.  2.5 3.  2.5 1.5]]\n",
      "RSR= [0.58333333 0.52083333 0.79166667 0.60416667]\n"
     ]
    }
   ],
   "source": [
    "import numpy as np\n",
    "from scipy.stats import rankdata\n",
    "\n",
    "\n",
    "\n",
    "a=np.loadtxt(\"./数据集/Pdata9_1_3.txt\")\n",
    "\n",
    "cplus=a.max(axis=0)   #逐列求最大值\n",
    "cminus=a.min(axis=0)  #逐列求最小值\n",
    "print(\"正理想解=\",cplus,\"负理想解=\",cminus)\n",
    "d1=np.linalg.norm(a-cplus, axis=1)  #求到正理想解的距离\n",
    "d2=np.linalg.norm(a-cminus, axis=1) #求到负理想解的距离\n",
    "print(d1, d2)   #显示到正理想解和负理想解的距离\n",
    "f1=d2/(d1+d2); print(\"TOPSIS的评价值为：\", f1)\n",
    "\n",
    "t=cplus-a   #计算参考序列与每个序列的差\n",
    "mmin=t.min(); mmax=t.max()  #计算最小差和最大差\n",
    "rho=0.5  #分辨系数\n",
    "xs=(mmin+rho*mmax)/(t+rho*mmax)  #计算灰色关联系数\n",
    "f2=xs.mean(axis=1)  #求每一行的均值\n",
    "print(\"\\n关联系数=\", xs,'\\n关联度=',f2)  #显示灰色关联系数和灰色关联度\n",
    "\n",
    "[n, m]=a.shape\n",
    "cs=a.sum(axis=0)  #逐列求和\n",
    "P=1/cs*a   #求特征比重矩阵\n",
    "e=-(P*np.log(P)).sum(axis=0)/np.log(n)  #计算熵值\n",
    "g=1-e   #计算差异系数\n",
    "w = g / sum(g)  #计算权重\n",
    "F = P @ w       #计算各对象的评价值\n",
    "print(\"\\nP={}\\n,e={}\\n,g={}\\n,w={}\\nF={}\".format(P,e,g,w,F))\n",
    "\n",
    "R=[rankdata(a[:,i]) for i in np.arange(6)]  #求每一列的秩\n",
    "R=np.array(R).T   #构造秩矩阵\n",
    "print(\"\\n秩矩阵为：\\n\",R)\n",
    "RSR=R.mean(axis=1)/n; print(\"RSR=\", RSR)"
   ]
  },
  {
   "cell_type": "code",
   "execution_count": null,
   "metadata": {},
   "outputs": [],
   "source": []
  }
 ],
 "metadata": {
  "kernelspec": {
   "display_name": "Python 3.8.13 ('base')",
   "language": "python",
   "name": "python3"
  },
  "language_info": {
   "codemirror_mode": {
    "name": "ipython",
    "version": 3
   },
   "file_extension": ".py",
   "mimetype": "text/x-python",
   "name": "python",
   "nbconvert_exporter": "python",
   "pygments_lexer": "ipython3",
   "version": "3.8.13"
  },
  "orig_nbformat": 4,
  "vscode": {
   "interpreter": {
    "hash": "b09ec625f77bf4fd762565a912b97636504ad6ec901eb2d0f4cf5a7de23e1ee5"
   }
  }
 },
 "nbformat": 4,
 "nbformat_minor": 2
}
