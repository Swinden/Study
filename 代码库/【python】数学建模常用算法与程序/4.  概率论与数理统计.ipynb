{
 "cells": [
  {
   "cell_type": "code",
   "execution_count": 1,
   "metadata": {},
   "outputs": [
    {
     "name": "stdout",
     "output_type": "stream",
     "text": [
      "p= 0.3050065916890295\n",
      "c= [2.29103356]\n"
     ]
    }
   ],
   "source": [
    "from scipy.stats import norm\n",
    "from scipy.optimize import fsolve\n",
    "\n",
    "\n",
    "print(\"p=\",norm.cdf(6,3,5)-norm.cdf(2,3,5))\n",
    "f=lambda c: norm.cdf(2*c,3,5)-norm.cdf(-3*c,3,5)-0.6\n",
    "print(\"c=\",fsolve(f,0))"
   ]
  },
  {
   "cell_type": "code",
   "execution_count": 2,
   "metadata": {},
   "outputs": [
    {
     "name": "stdout",
     "output_type": "stream",
     "text": [
      "上alpha分位数分别为 [3.09023231 2.5758293  2.32634787 1.95996398 1.64485363 1.28155157]\n"
     ]
    },
    {
     "data": {
      "image/png": "[encoded data removed]",
      "text/plain": [
       "<Figure size 432x288 with 1 Axes>"
      ]
     },
     "metadata": {
      "needs_background": "light"
     },
     "output_type": "display_data"
    }
   ],
   "source": [
    "from scipy.stats import norm\n",
    "from pylab import plot,fill_between,show,text,savefig,rc\n",
    "from numpy import array, linspace, zeros\n",
    "\n",
    "\n",
    "\n",
    "alpha=array([0.001, 0.005, 0.01, 0.025, 0.05, 0.10])\n",
    "za=norm.ppf(1-alpha,0,1)  #求上alpha分位数\n",
    "print(\"上alpha分位数分别为\", za)\n",
    "x=linspace(-4, 4, 100); y=norm.pdf(x, 0, 1)\n",
    "rc('font',size=16); rc('text',usetex=True)\n",
    "plot(x,y)  #画标准正态分布密度曲线\n",
    "x2=linspace(za[-1],4,100); y2=norm.pdf(x2);\n",
    "y1=[0]*len(x2)\n",
    "fill_between(x2, y1, y2, color='r')  #y1,y2对应的点之间填充\n",
    "plot([-4,4],[0,0])  #画水平线\n",
    "text(1.9, 0.07, \"$\\\\leftarrow\\\\alpha$=0.1\")  #标注\n",
    "savefig(\"概率论与数理统计/figure4_2.png\", dpi=500); show()"
   ]
  },
  {
   "cell_type": "code",
   "execution_count": 3,
   "metadata": {},
   "outputs": [
    {
     "name": "stdout",
     "output_type": "stream",
     "text": [
      "期望和方差分布为： (array(16.), array(3.2))\n"
     ]
    }
   ],
   "source": [
    "from scipy.stats import binom\n",
    "\n",
    "\n",
    "\n",
    "n, p=20, 0.8\n",
    "print(\"期望和方差分布为：\", binom.stats(n,p))\n"
   ]
  },
  {
   "cell_type": "code",
   "execution_count": 4,
   "metadata": {},
   "outputs": [
    {
     "name": "stdout",
     "output_type": "stream",
     "text": [
      "所求的数字特征为： (array(16.), array(3.2), array(-0.3354102), array(0.0125))\n"
     ]
    }
   ],
   "source": [
    "from scipy.stats import binom\n",
    "\n",
    "\n",
    "\n",
    "n, p=20, 0.8\n",
    "mean, variance, skewness, kurtosis=binom.stats(n, p, moments='mvsk') \n",
    "#上述语句不显示，只为了说明数据顺序\n",
    "print(\"所求的数字特征为：\", binom.stats(n, p, moments='mvsk'))"
   ]
  },
  {
   "cell_type": "code",
   "execution_count": 6,
   "metadata": {},
   "outputs": [
    {
     "name": "stdout",
     "output_type": "stream",
     "text": [
      "最佳更换周期为： 4826.66015625\n"
     ]
    }
   ],
   "source": [
    "from scipy.integrate import quad\n",
    "from numpy import exp, sqrt, pi, abs\n",
    "\n",
    "\n",
    "\n",
    "a=80; b=0.02; BD=a/b; mu=4000; s=100\n",
    "y=lambda x: x*exp(-(x-mu)**2/(2*s**2))/sqrt(2*pi)/s   #定义积分的被积函数\n",
    "I=0; x1=0; x2=10000\n",
    "while abs(I-BD)>1E-16:\n",
    "    c=(x1+x2)/2\n",
    "    I=quad(y,-10000,c)[0] #由3sigma准则这里积分下限取为-10000,取零效果一样\n",
    "    if I>BD:\n",
    "        x2=c\n",
    "    else:\n",
    "        x1=c\n",
    "\n",
    "\n",
    "print(\"最佳更换周期为：\", c)"
   ]
  },
  {
   "cell_type": "code",
   "execution_count": 8,
   "metadata": {},
   "outputs": [
    {
     "name": "stdout",
     "output_type": "stream",
     "text": [
      "[170.25, 170.0, 31, 28.8875, 5.374709294464213]\n",
      "协方差为：16.982323232323235\n",
      "相关系数为：0.4560968250128602\n"
     ]
    }
   ],
   "source": [
    "from numpy import reshape, hstack, mean, median, ptp, var, std, cov, corrcoef\n",
    "import pandas as pd\n",
    "\n",
    "\n",
    "\n",
    "df = pd.read_excel(\"数据集/Pdata4_6_1.xlsx\",header=None)\n",
    "a=df.values  #提取数据矩阵\n",
    "h=a[:,::2]  #提取奇数列身高\n",
    "w=a[:,1::2]  #提取偶数列体重\n",
    "h=reshape(h,(-1, 1)) #转换成列向量，自动计算行数\n",
    "w=reshape(w,(-1, 1)) #转换成列向量，自动计算行数\n",
    "hw=hstack([h,w])  #构造两列的数组\n",
    "print([mean(h),median(h),ptp(h),var(h),std(h)])  #计算均值,中位数,极差,方差,标准差\n",
    "print(\"协方差为：{}\\n相关系数为：{}\".format(cov(hw.T)[0,1],corrcoef(hw.T)[0,1]))\n"
   ]
  },
  {
   "cell_type": "code",
   "execution_count": 9,
   "metadata": {},
   "outputs": [
    {
     "name": "stdout",
     "output_type": "stream",
     "text": [
      "求得的描述统计量如下：\n",
      "                身高          体重\n",
      "count  100.000000  100.000000\n",
      "mean   170.250000   61.270000\n",
      "std      5.401786    6.892911\n",
      "min    155.000000   47.000000\n",
      "25%    167.000000   57.000000\n",
      "50%    170.000000   62.000000\n",
      "75%    173.000000   65.250000\n",
      "max    186.000000   77.000000\n",
      "偏度为：\n",
      " 身高    0.156868\n",
      "体重    0.140148\n",
      "dtype: float64\n",
      "峰度为：\n",
      " 身高    0.648742\n",
      "体重   -0.290479\n",
      "dtype: float64\n",
      "分位数为：\n",
      " 身高    177.0\n",
      "体重     70.1\n",
      "Name: 0.9, dtype: float64\n"
     ]
    }
   ],
   "source": [
    "from numpy import reshape, c_\n",
    "import pandas as pd\n",
    "\n",
    "\n",
    "df = pd.read_excel(\"数据集/Pdata4_6_1.xlsx\",header=None)\n",
    "a=df.values; h1=a[:,::2]; w1=a[:,1::2]\n",
    "h2=reshape(h1,(-1, 1)); w2=reshape(w1,(-1, 1))\n",
    "df2=pd.DataFrame(c_[h2,w2],columns=[\"身高\",\"体重\"])  #构造数据框\n",
    "print(\"求得的描述统计量如下：\\n\",df2.describe())\n",
    "print(\"偏度为：\\n\",df2.skew())\n",
    "print(\"峰度为：\\n\",df2.kurt())\n",
    "print(\"分位数为：\\n\",df2.quantile(0.9))"
   ]
  },
  {
   "cell_type": "code",
   "execution_count": 1,
   "metadata": {},
   "outputs": [
    {
     "name": "stdout",
     "output_type": "stream",
     "text": [
      "体重的频数表为： (array([ 9., 13., 27., 31., 11.,  9.]), array([47., 52., 57., 62., 67., 72., 77.]), <BarContainer object of 6 artists>)\n"
     ]
    },
    {
     "data": {
      "image/png": "[encoded data removed]",
      "text/plain": [
       "<Figure size 432x288 with 2 Axes>"
      ]
     },
     "metadata": {
      "needs_background": "light"
     },
     "output_type": "display_data"
    }
   ],
   "source": [
    "import numpy as np\n",
    "import matplotlib.pyplot as plt\n",
    "\n",
    "\n",
    "\n",
    "a=np.loadtxt(\"数据集/Pdata4_6_2.txt\")\n",
    "h=a[:,::2]; w=a[:,1::2]\n",
    "h=np.reshape(h,(-1,1)); w=np.reshape(w,(-1,1))\n",
    "plt.rc('font',size=16); plt.rc('font',family=\"SimHei\")\n",
    "plt.subplot(121); plt.xlabel(\"身高\"); plt.hist(h,10) #只画直方图不返回频数表\n",
    "plt.subplot(122); ps=plt.hist(w,6)  #画图并返回频数表ps\n",
    "plt.xlabel(\"体重\"); print(\"体重的频数表为：\", ps)\n",
    "plt.savefig(\"概率论与数理统计/figure4_8.png\", dpi=500); plt.show()"
   ]
  },
  {
   "cell_type": "code",
   "execution_count": 2,
   "metadata": {},
   "outputs": [
    {
     "data": {
      "image/png": "[encoded data removed]",
      "text/plain": [
       "<Figure size 432x288 with 1 Axes>"
      ]
     },
     "metadata": {
      "needs_background": "light"
     },
     "output_type": "display_data"
    }
   ],
   "source": [
    "import numpy as np\n",
    "import matplotlib.pyplot as plt\n",
    "\n",
    "\n",
    "a=np.loadtxt(\"./数据集/Pdata4_9.txt\")  #读入两行的数据\n",
    "b=a.T  #转置成两列的数据\n",
    "plt.rc('font',size=16); plt.rc('font',family='SimHei')\n",
    "plt.boxplot(b,labels=['女子','男子'])\n",
    "plt.savefig('./概率论与数理统计/figure4_9.png', dpi=500); plt.show()"
   ]
  },
  {
   "cell_type": "code",
   "execution_count": 3,
   "metadata": {},
   "outputs": [
    {
     "data": {
      "image/png": "[encoded data removed]",
      "text/plain": [
       "<Figure size 432x288 with 1 Axes>"
      ]
     },
     "metadata": {
      "needs_background": "light"
     },
     "output_type": "display_data"
    }
   ],
   "source": [
    "import numpy as np\n",
    "import matplotlib.pyplot as plt\n",
    "\n",
    "\n",
    "\n",
    "a=np.loadtxt(\"./数据集/Pdata4_6_2.txt\")\n",
    "h=a[:,::2]; w=a[:,1::2]\n",
    "h=np.reshape(h,(-1,1)); w=np.reshape(w,(-1,1))\n",
    "hw=np.hstack((h,w)); plt.rc('font',size=16)\n",
    "plt.rc('font',family='SimHei')\n",
    "plt.boxplot(hw,labels=['身高','体重'])\n",
    "plt.savefig(\"./概率论与数理统计/figure4_10.png\",dpi=500); plt.show()"
   ]
  },
  {
   "cell_type": "code",
   "execution_count": 4,
   "metadata": {},
   "outputs": [
    {
     "name": "stdout",
     "output_type": "stream",
     "text": [
      "(array([0.02, 0.04, 0.09, 0.12, 0.16, 0.19, 0.29, 0.36, 0.47, 0.49, 0.63,\n",
      "       0.7 , 0.8 , 0.84, 0.88, 0.9 , 0.93, 0.94, 0.97, 1.  ]), array([47. , 48.5, 50. , 51.5, 53. , 54.5, 56. , 57.5, 59. , 60.5, 62. ,\n",
      "       63.5, 65. , 66.5, 68. , 69.5, 71. , 72.5, 74. , 75.5, 77. ]), [<matplotlib.patches.Polygon object at 0x000001B9D184D7F0>])\n"
     ]
    },
    {
     "data": {
      "image/png": "[encoded data removed]",
      "text/plain": [
       "<Figure size 432x288 with 1 Axes>"
      ]
     },
     "metadata": {
      "needs_background": "light"
     },
     "output_type": "display_data"
    }
   ],
   "source": [
    "import numpy as np\n",
    "import matplotlib.pyplot as plt\n",
    "\n",
    "\n",
    "\n",
    "a=np.loadtxt(\"./数据集/Pdata4_6_2.txt\")\n",
    "w=a[:,1::2]; w=np.reshape(w,(-1,1)); plt.rc('font',size=16)\n",
    "h=plt.hist(w,20,density=True, histtype='step', cumulative=True)\n",
    "print(h); plt.grid()\n",
    "plt.savefig(\"./概率论与数理统计/figure4_11.png\",dpi=500); plt.show()"
   ]
  },
  {
   "cell_type": "code",
   "execution_count": 1,
   "metadata": {},
   "outputs": [
    {
     "name": "stdout",
     "output_type": "stream",
     "text": [
      "[170.25, 5.374709294464213]\n"
     ]
    },
    {
     "data": {
      "image/png": "[encoded data removed]",
      "text/plain": [
       "<Figure size 432x288 with 2 Axes>"
      ]
     },
     "metadata": {
      "needs_background": "light"
     },
     "output_type": "display_data"
    }
   ],
   "source": [
    "import numpy as np\n",
    "import matplotlib.pyplot as plt\n",
    "from scipy.stats import norm, probplot\n",
    "\n",
    "\n",
    "\n",
    "a=np.loadtxt(\"./数据集/Pdata4_6_2.txt\")\n",
    "h=a[:,::2]; h=h.flatten()\n",
    "mu=np.mean(h); s=np.std(h); print([mu,s])\n",
    "sh=np.sort(h) #按从小到大排序\n",
    "n=len(sh); xi=(np.arange(1,n+1)-1/2)/n\n",
    "yi=norm.ppf(xi,mu,s)\n",
    "plt.rc('font',size=16);plt.rc('font',family='SimHei')\n",
    "plt.rc('axes',unicode_minus=False) #用来正常显示负号\n",
    "plt.subplot(121); plt.plot(yi, sh, 'o', label='QQ图');\n",
    "plt.plot([155,185],[155,185],'r-',label='参照直线')\n",
    "plt.legend(); plt.subplot(122)\n",
    "res = probplot(h,plot=plt)\n",
    "plt.savefig(\"./概率论与数理统计/figure4_12.png\",dpi=500); plt.show()"
   ]
  },
  {
   "cell_type": "code",
   "execution_count": 7,
   "metadata": {},
   "outputs": [
    {
     "name": "stdout",
     "output_type": "stream",
     "text": [
      "样本均值和标准差为： [170.25, 5.374709294464213]\n",
      "极大似然估计值为： (170.25, 5.374709294464213)\n"
     ]
    }
   ],
   "source": [
    "import numpy as np\n",
    "import matplotlib.pyplot as plt\n",
    "from scipy.stats import norm\n",
    "\n",
    "\n",
    "\n",
    "a=np.loadtxt(\"./数据集/Pdata4_6_2.txt\")\n",
    "h=a[:,::2]; h=h.flatten()\n",
    "mu=np.mean(h); s=np.std(h);\n",
    "print(\"样本均值和标准差为：\",[mu,s])\n",
    "print(\"极大似然估计值为：\", norm.fit(h))"
   ]
  },
  {
   "cell_type": "code",
   "execution_count": 8,
   "metadata": {},
   "outputs": [
    {
     "name": "stdout",
     "output_type": "stream",
     "text": [
      "503.75 6.202150164795002\n",
      "置信区间为： (500.44510746243924, 507.05489253756076)\n"
     ]
    }
   ],
   "source": [
    "from numpy import array, sqrt\n",
    "from scipy.stats import t\n",
    "\n",
    "\n",
    "\n",
    "a=array([506,  508,  499,  503,  504,  510,  497,  512,\n",
    "514,  505,  493,  496,  506,  502,  509,  496])\n",
    "# ddof取值为1时，标准偏差除的是(N-1)；NumPy中的std计算默认是除以N\n",
    "mu=a.mean(); s=a.std(ddof=1)  #计算均值和标准差\n",
    "print(mu, s); alpha=0.05; n=len(a)\n",
    "val=(mu-s/sqrt(n)*t.ppf(1-alpha/2,n-1),mu+s/sqrt(n)*t.ppf(1-alpha/2,n-1))\n",
    "print(\"置信区间为：\",val)"
   ]
  },
  {
   "cell_type": "code",
   "execution_count": 9,
   "metadata": {},
   "outputs": [
    {
     "name": "stdout",
     "output_type": "stream",
     "text": [
      "置信区间为： (500.44510746243924, 507.05489253756076)\n"
     ]
    }
   ],
   "source": [
    "import numpy as np\n",
    "import scipy.stats as ss\n",
    "from scipy import stats\n",
    "\n",
    "\n",
    "\n",
    "a=np.array([506,  508,  499,  503,  504,  510,  497,  512,\n",
    "514,  505,  493,  496,  506,  502,  509,  496])\n",
    "alpha=0.95; df=len(a)-1\n",
    "ci=ss.t.interval(alpha,df,loc=a.mean(),scale=ss.sem(a))\n",
    "print(\"置信区间为：\",ci)"
   ]
  },
  {
   "cell_type": "code",
   "execution_count": 10,
   "metadata": {},
   "outputs": [
    {
     "name": "stdout",
     "output_type": "stream",
     "text": [
      "置信区间为： (500.7110022625732, 506.7889977374268)\n"
     ]
    }
   ],
   "source": [
    "import numpy as np\n",
    "from statsmodels.stats.weightstats import zconfint\n",
    "from scipy import stats\n",
    "\n",
    "\n",
    "\n",
    "\n",
    "a=np.array([506,  508,  499,  503,  504,  510,  497,  512,\n",
    "514,  505,  493,  496,  506,  502,  509,  496])\n",
    "ci=zconfint(a)\n",
    "print(\"置信区间为：\",ci)"
   ]
  },
  {
   "cell_type": "code",
   "execution_count": 11,
   "metadata": {},
   "outputs": [
    {
     "name": "stdout",
     "output_type": "stream",
     "text": [
      "t值为： 3.5849\n",
      "z值为： 2.2444\n",
      "p值为: 0.0003\n"
     ]
    }
   ],
   "source": [
    "import numpy as np\n",
    "from statsmodels.stats.weightstats import ztest\n",
    "\n",
    "\n",
    "\n",
    "sigma=0.015\n",
    "a=np.array([0.497, 0.506, 0.518, 0.524, 0.498, 0.511, 0.520, 0.515, 0.512])\n",
    "tstat1, pvalue=ztest(a,value=0.5)  #计算T统计量的观测值及p值\n",
    "tstat2=tstat1*a.std(ddof=1)/sigma  #转换为Z统计量的观测值\n",
    "print('t值为：',round(tstat1,4))\n",
    "print('z值为：',round(tstat2,4)); print('p值为:',round(pvalue,4))"
   ]
  },
  {
   "cell_type": "code",
   "execution_count": 12,
   "metadata": {},
   "outputs": [
    {
     "name": "stdout",
     "output_type": "stream",
     "text": [
      "检验统计量为： 0.34299717028498317\n",
      "p值为: 0.7316005889599273\n"
     ]
    }
   ],
   "source": [
    "import numpy as np\n",
    "from statsmodels.stats.weightstats import ztest\n",
    "\n",
    "\n",
    "\n",
    "a=np.array([3.25, 3.27, 3.24, 3.26, 3.24])\n",
    "tstat, pvalue=ztest(a,value=3.25)\n",
    "print('检验统计量为：',tstat); print('p值为:',pvalue)"
   ]
  },
  {
   "cell_type": "code",
   "execution_count": 13,
   "metadata": {},
   "outputs": [
    {
     "name": "stdout",
     "output_type": "stream",
     "text": [
      "检验统计量为： -1.0348266239966402\n",
      "p值为: 0.15037494342517732\n"
     ]
    }
   ],
   "source": [
    "import numpy as np\n",
    "from statsmodels.stats.weightstats import ztest\n",
    "\n",
    "\n",
    "\n",
    "a=np.array([16, 25, 21, 20, 23, 21, 19, 15, 13,\n",
    "            23, 17, 20, 29, 18, 22, 16, 22])\n",
    "tstat, pvalue=ztest(a,value=21, alternative='smaller')\n",
    "print('检验统计量为：',tstat); print('p值为:',pvalue)"
   ]
  },
  {
   "cell_type": "code",
   "execution_count": 14,
   "metadata": {},
   "outputs": [
    {
     "name": "stdout",
     "output_type": "stream",
     "text": [
      "检验统计量为： 3.878137625860771\n",
      "p值为: 0.0013338206615241311\n",
      "自由度为： 16.0\n"
     ]
    }
   ],
   "source": [
    "import numpy as np\n",
    "from statsmodels.stats.weightstats import ttest_ind\n",
    "\n",
    "\n",
    "\n",
    "a=np.array([0.225, 0.262, 0.217, 0.240, 0.230, 0.229, 0.235, 0.217])\n",
    "b=np.array([0.209, 0.205, 0.196, 0.210, 0.202, 0.207,\n",
    "            0.224, 0.223, 0.220, 0.201])\n",
    "tstat, pvalue, df=ttest_ind(a, b, value=0)\n",
    "print('检验统计量为：',tstat); print('p值为:',pvalue)\n",
    "print('自由度为：',df)"
   ]
  },
  {
   "cell_type": "code",
   "execution_count": 15,
   "metadata": {},
   "outputs": [
    {
     "name": "stdout",
     "output_type": "stream",
     "text": [
      "统计量为：26.941176470588236，临界值为：12.591587243743977\n"
     ]
    }
   ],
   "source": [
    "import numpy as np\n",
    "import scipy.stats as ss\n",
    "\n",
    "\n",
    "\n",
    "bins=np.arange(1,8)\n",
    "mi=np.array([36, 23, 29, 31, 34, 60, 25])\n",
    "n=mi.sum(); p=np.ones(7)/7\n",
    "cha=(mi-n*p)**2/(n*p); st=cha.sum()\n",
    "bd=ss.chi2.ppf(0.95,len(bins)-1) #计算上alpha分位数\n",
    "print(\"统计量为：{}，临界值为：{}\".format(st,bd))"
   ]
  },
  {
   "cell_type": "code",
   "execution_count": 16,
   "metadata": {},
   "outputs": [
    {
     "name": "stdout",
     "output_type": "stream",
     "text": [
      "均值为： 15.078\n",
      "标准差为： 0.428154177837844\n",
      "最大值为： 15.9\n",
      "最小值为： 14.2\n",
      "各区间的频数为： [ 8.  6. 10. 10.  4. 12.] \n",
      "小区间端点值为： [14.2    14.625  14.8375 15.05   15.2625 15.475  15.9   ]\n",
      "各小区取值的理论概率为： [0.14502086 0.14213474 0.18677335 0.19280761 0.15636145 0.17690199]\n",
      "统计量为：3.2998742691953424，临界值为：7.814727903251179\n"
     ]
    },
    {
     "data": {
      "image/png": "[encoded data removed]",
      "text/plain": [
       "<Figure size 432x288 with 1 Axes>"
      ]
     },
     "metadata": {
      "needs_background": "light"
     },
     "output_type": "display_data"
    }
   ],
   "source": [
    "import numpy as np\n",
    "import matplotlib.pyplot as plt\n",
    "import scipy.stats as ss\n",
    "\n",
    "\n",
    "\n",
    "\n",
    "n=50; k=8 #初始小区间划分的个数\n",
    "a=np.loadtxt(\"./数据集/Pdata4_20.txt\")\n",
    "a=a.flatten(); mu=a.mean(); s=a.std()\n",
    "print(\"均值为：\", mu); print(\"标准差为：\", s)\n",
    "print(\"最大值为：\",a.max()); print(\"最小值为：\",a.min())\n",
    "bins=np.array([14.2, 14.625, 14.8375, 15.05, 15.2625, 15.475, 15.9])\n",
    "h=plt.hist(a,bins)\n",
    "f=h[0]; x=h[1] #提取各个小区间的频数和小区间端点的取值\n",
    "print(\"各区间的频数为：\",f,\"\\n小区间端点值为：\",x)\n",
    "p=ss.norm.cdf(x, mu, s)  #计算各个分点分布函数的取值\n",
    "dp=np.diff(p)  #计算各小区间取值的理论概率\n",
    "dp[0]=ss.norm.cdf(x[1],mu,s)  #修改第一个区间的概率值\n",
    "dp[-1]=1-ss.norm.cdf(x[-2],mu,s)  #修改最后一个区间的概率值\n",
    "print(\"各小区取值的理论概率为：\",dp)\n",
    "st=sum(f**2/(n*dp))-n  #计算卡方统计量的值\n",
    "bd=ss.chi2.ppf(0.95,k-5) #计算上alpha分位数\n",
    "print(\"统计量为：{}，临界值为：{}\".format(st,bd))"
   ]
  },
  {
   "cell_type": "code",
   "execution_count": 18,
   "metadata": {},
   "outputs": [
    {
     "name": "stdout",
     "output_type": "stream",
     "text": [
      "均值和标准差分别为： (61.27, 6.892911012208283)\n",
      "统计量和P值分别为： [0.05904454095634937, 0.8561177331775733]\n"
     ]
    }
   ],
   "source": [
    "import numpy as np\n",
    "import matplotlib.pyplot as plt\n",
    "import scipy.stats as ss\n",
    "\n",
    "\n",
    "\n",
    "a=np.loadtxt(\"./数据集/Pdata4_6_2.txt\")\n",
    "w=a[:,1::2]; w=w.flatten()\n",
    "mu=w.mean(); s=w.std(ddof=1)  #计算样本均值和标准差\n",
    "print(\"均值和标准差分别为：\", (mu, s))\n",
    "statVal, pVal=ss.kstest(w,'norm',(mu,s))\n",
    "print(\"统计量和P值分别为：\", [statVal, pVal])"
   ]
  },
  {
   "cell_type": "code",
   "execution_count": 19,
   "metadata": {},
   "outputs": [
    {
     "name": "stdout",
     "output_type": "stream",
     "text": [
      "            df        sum_sq       mean_sq         F    PR(>F)\n",
      "C(x)       3.0  60153.333333  20051.111111  3.727742  0.042004\n",
      "Residual  12.0  64546.666667   5378.888889       NaN       NaN\n"
     ]
    }
   ],
   "source": [
    "import numpy as np\n",
    "import statsmodels.api as sm\n",
    "\n",
    "\n",
    "\n",
    "y=np.array([1620, 1670, 1700, 1750, 1800, 1580, 1600, 1640, 1720,\n",
    "            1460, 1540, 1620, 1680, 1500, 1550, 1610])\n",
    "x=np.hstack([np.ones(5), np.full(4,2), np.full(4,3), np.full(3,4)])\n",
    "d= {'x':x,'y':y}   #构造字典\n",
    "model = sm.formula.ols(\"y~C(x)\",d).fit()   #构建模型\n",
    "anovat = sm.stats.anova_lm(model)  #进行单因素方差分析\n",
    "print(anovat)\n"
   ]
  },
  {
   "cell_type": "code",
   "execution_count": 20,
   "metadata": {},
   "outputs": [
    {
     "name": "stdout",
     "output_type": "stream",
     "text": [
      "            df   sum_sq   mean_sq         F    PR(>F)\n",
      "C(x)       4.0   6125.7  1531.425  2.261741  0.110913\n",
      "Residual  15.0  10156.5   677.100       NaN       NaN\n"
     ]
    }
   ],
   "source": [
    "import numpy as np\n",
    "import pandas as pd\n",
    "import statsmodels.api as sm\n",
    "\n",
    "\n",
    "\n",
    "df = pd.read_excel(\"./数据集/Pdata4_23.xlsx\", header=None)\n",
    "a=df.values.T.flatten()\n",
    "b=np.arange(1,6)\n",
    "x=np.tile(b,(4,1)).T.flatten()\n",
    "d={'x':x,'y':a} #构造求解需要的字典\n",
    "model = sm.formula.ols(\"y~C(x)\",d).fit()  #构建模型\n",
    "anovat = sm.stats.anova_lm(model)  #进行单因素方差分析\n",
    "print(anovat)\n"
   ]
  },
  {
   "cell_type": "code",
   "execution_count": 21,
   "metadata": {},
   "outputs": [
    {
     "name": "stdout",
     "output_type": "stream",
     "text": [
      "               df     sum_sq    mean_sq         F    PR(>F)\n",
      "C(x1)         3.0  19.125000   6.375000  1.330435  0.310404\n",
      "C(x2)         2.0  40.083333  20.041667  4.182609  0.041856\n",
      "C(x1):C(x2)   6.0  18.250000   3.041667  0.634783  0.701009\n",
      "Residual     12.0  57.500000   4.791667       NaN       NaN\n"
     ]
    }
   ],
   "source": [
    "import numpy as np\n",
    "import statsmodels.api as sm\n",
    "\n",
    "\n",
    "\n",
    "y=np.array([[11, 11, 13, 10], [10, 11, 9, 12],\n",
    "         [9, 10, 7, 6], [7, 8, 11, 10],\n",
    "         [5, 13, 12, 14], [11, 14, 13, 10]]).flatten()\n",
    "A=np.tile(np.arange(1,5),(6,1)).flatten()\n",
    "B=np.tile(np.arange(1,4).reshape(3,1),(1,8)).flatten()\n",
    "d={'x1':A,'x2':B,'y':y}\n",
    "model = sm.formula.ols(\"y~C(x1)+C(x2)+C(x1):C(x2)\",d).fit()  #注意交互作用公式的写法\n",
    "anovat = sm.stats.anova_lm(model)  #进行双因素方差分析\n",
    "print(anovat)"
   ]
  },
  {
   "cell_type": "code",
   "execution_count": 23,
   "metadata": {},
   "outputs": [
    {
     "name": "stdout",
     "output_type": "stream",
     "text": [
      "拟合的多项式为:-23.950588628514094*x+266.16625505997683\n",
      "预测值为： 74.56154603186408\n"
     ]
    },
    {
     "data": {
      "image/png": "[encoded data removed]",
      "text/plain": [
       "<Figure size 432x288 with 1 Axes>"
      ]
     },
     "metadata": {
      "needs_background": "light"
     },
     "output_type": "display_data"
    }
   ],
   "source": [
    "import matplotlib.pyplot as plt\n",
    "import numpy as np\n",
    "\n",
    "\n",
    "\n",
    "x=[2.5, 3.9, 2.9, 2.4, 2.9, 0.8, 9.1, 0.8, 0.7,7.9, 1.8, 1.9, 0.8, 6.5, 1.6, 5.8, 1.3, 1.2, 2.7]\n",
    "y=[211, 167, 131, 191, 220, 297, 71, 211, 300, 107,\n",
    "   167, 266, 277, 86, 207, 115, 285, 199, 172]\n",
    "plt.plot(x,y,'+k', label=\"原始数据点\")\n",
    "p=np.polyfit(x,y,deg=1)  #拟合一次多项式\n",
    "print(\"拟合的多项式为:{}*x+{}\".format(p[0],p[1]))\n",
    "plt.rc('font',size=16); plt.rc('font',family='SimHei')\n",
    "plt.plot(x, np.polyval(p,x), label=\"拟合的直线\")\n",
    "print(\"预测值为：\", np.polyval(p, 8)); plt.legend()\n",
    "plt.savefig(\"./概率论与数理统计/figure4_25_1.png\", dpi=500); plt.show()"
   ]
  },
  {
   "cell_type": "code",
   "execution_count": 1,
   "metadata": {},
   "outputs": [
    {
     "name": "stdout",
     "output_type": "stream",
     "text": [
      "                            OLS Regression Results                            \n",
      "==============================================================================\n",
      "Dep. Variable:                      y   R-squared:                       0.721\n",
      "Model:                            OLS   Adj. R-squared:                  0.705\n",
      "Method:                 Least Squares   F-statistic:                     43.99\n",
      "Date:                Sat, 12 Nov 2022   Prob (F-statistic):           4.23e-06\n",
      "Time:                        19:46:43   Log-Likelihood:                -95.241\n",
      "No. Observations:                  19   AIC:                             194.5\n",
      "Df Residuals:                      17   BIC:                             196.4\n",
      "Df Model:                           1                                         \n",
      "Covariance Type:            nonrobust                                         \n",
      "==============================================================================\n",
      "                 coef    std err          t      P>|t|      [0.025      0.975]\n",
      "------------------------------------------------------------------------------\n",
      "Intercept    266.1663     14.044     18.953      0.000     236.537     295.796\n",
      "x            -23.9506      3.611     -6.633      0.000     -31.569     -16.332\n",
      "==============================================================================\n",
      "Omnibus:                        2.827   Durbin-Watson:                   2.120\n",
      "Prob(Omnibus):                  0.243   Jarque-Bera (JB):                1.192\n",
      "Skew:                          -0.076   Prob(JB):                        0.551\n",
      "Kurtosis:                       1.783   Cond. No.                         6.45\n",
      "==============================================================================\n",
      "\n",
      "Notes:\n",
      "[1] Standard Errors assume that the covariance matrix of the errors is correctly specified. \n",
      "\n",
      "所求的预测值为: [74.56154603186403]\n"
     ]
    }
   ],
   "source": [
    "import statsmodels.api as sm\n",
    "\n",
    "\n",
    "import warnings\n",
    "warnings.filterwarnings(\"ignore\")\n",
    "\n",
    "\n",
    "x=[2.5, 3.9, 2.9, 2.4, 2.9, 0.8, 9.1, 0.8, 0.7,7.9,\n",
    "   1.8, 1.9, 0.8, 6.5, 1.6, 5.8, 1.3, 1.2, 2.7]\n",
    "y=[211, 167, 131, 191, 220, 297, 71, 211, 300, 107,\n",
    "   167, 266, 277, 86, 207, 115, 285, 199, 172]\n",
    "df={'x':x,'y':y}\n",
    "res=sm.formula.ols('y~x',data=df).fit()\n",
    "print(res.summary(),'\\n')\n",
    "ypred=res.predict(dict(x=8))\n",
    "print('所求的预测值为:',list(ypred))"
   ]
  },
  {
   "cell_type": "code",
   "execution_count": 26,
   "metadata": {},
   "outputs": [
    {
     "name": "stdout",
     "output_type": "stream",
     "text": [
      "[266.16625506 -23.95058863] \n",
      "--------\n",
      "\n",
      "                 Results: Ordinary least squares\n",
      "=================================================================\n",
      "Model:              OLS              Adj. R-squared:     0.705   \n",
      "Dependent Variable: y                AIC:                194.4811\n",
      "Date:               2022-08-12 12:22 BIC:                196.3700\n",
      "No. Observations:   19               Log-Likelihood:     -95.241 \n",
      "Df Model:           1                F-statistic:        43.99   \n",
      "Df Residuals:       17               Prob (F-statistic): 4.23e-06\n",
      "R-squared:          0.721            Scale:              1478.3  \n",
      "------------------------------------------------------------------\n",
      "            Coef.    Std.Err.     t     P>|t|    [0.025    0.975] \n",
      "------------------------------------------------------------------\n",
      "const      266.1663   14.0437  18.9527  0.0000  236.5365  295.7960\n",
      "x1         -23.9506    3.6110  -6.6327  0.0000  -31.5691  -16.3321\n",
      "-----------------------------------------------------------------\n",
      "Omnibus:               2.827        Durbin-Watson:          2.120\n",
      "Prob(Omnibus):         0.243        Jarque-Bera (JB):       1.192\n",
      "Skew:                  -0.076       Prob(JB):               0.551\n",
      "Kurtosis:              1.783        Condition No.:          6    \n",
      "=================================================================\n",
      "\n",
      "预测值为： [74.56154603]\n"
     ]
    }
   ],
   "source": [
    "import statsmodels.api as sm\n",
    "import numpy as np\n",
    "\n",
    "\n",
    "\n",
    "x=np.array([2.5, 3.9, 2.9, 2.4, 2.9, 0.8, 9.1, 0.8, 0.7,\n",
    "    7.9, 1.8, 1.9, 0.8, 6.5, 1.6, 5.8, 1.3, 1.2, 2.7])\n",
    "y=np.array([211, 167, 131, 191, 220, 297, 71, 211, 300,\n",
    "    107, 167, 266, 277, 86, 207, 115, 285, 199, 172])\n",
    "X=sm.add_constant(x)\n",
    "md=sm.OLS(y,X).fit()  #构建并拟合模型\n",
    "print(md.params,'\\n--------\\n')  #提取回归系数\n",
    "print(md.summary2())\n",
    "ypred=md.predict([1,8])  #第一列必须加1\n",
    "print(\"预测值为：\",ypred)"
   ]
  },
  {
   "cell_type": "code",
   "execution_count": 31,
   "metadata": {},
   "outputs": [
    {
     "name": "stdout",
     "output_type": "stream",
     "text": [
      "是否存在重复观测： True\n"
     ]
    }
   ],
   "source": [
    "import pandas as pd\n",
    "\n",
    "\n",
    "\n",
    "a=pd.read_excel(\"./数据集/Pdata4_26_1.xlsx\")\n",
    "print(\"是否存在重复观测：\",any(a.duplicated()))  #输出：True\n",
    "a.drop_duplicates(inplace=True)  #inplace=True时，直接删除a中的重复数据\n",
    "f=pd.ExcelWriter('./数据集/Pdata4_26_2.xlsx')  #创建文件对象\n",
    "a.to_excel(f)  #把a写入新Excel文件中\n",
    "f.save()       #保存文件，数据才真正写入Excel文件\n",
    "f.close()"
   ]
  },
  {
   "cell_type": "code",
   "execution_count": 32,
   "metadata": {},
   "outputs": [
    {
     "name": "stdout",
     "output_type": "stream",
     "text": [
      "0    False\n",
      "1     True\n",
      "2    False\n",
      "3     True\n",
      "4    False\n",
      "dtype: bool\n",
      "是否存在缺失值： True\n"
     ]
    }
   ],
   "source": [
    "from numpy import NaN\n",
    "from pandas import Series\n",
    "\n",
    "\n",
    "data=Series([10.0, None, 20, NaN, 30])\n",
    "print(data.isnull())  #输出每个元素的检测结果\n",
    "print(\"是否存在缺失值：\", any(data.isnull()))  #输出：True"
   ]
  },
  {
   "cell_type": "code",
   "execution_count": 33,
   "metadata": {},
   "outputs": [
    {
     "name": "stdout",
     "output_type": "stream",
     "text": [
      "      用户A     用户B      用户C\n",
      "0  235.83  324.03  478.320\n",
      "1  236.27  325.63  515.450\n",
      "2  238.05  328.08  517.090\n",
      "6  237.41  391.26  516.230\n",
      "8  237.61  388.02  435.350\n",
      "9  238.03  206.43  487.675 \n",
      "---------------\n",
      "       用户A     用户B\n",
      "0  235.83  324.03\n",
      "1  236.27  325.63\n",
      "2  238.05  328.08\n",
      "3  235.90     NaN\n",
      "4  236.76  268.82\n",
      "5     NaN  404.04\n",
      "6  237.41  391.26\n",
      "7  238.65  380.81\n",
      "8  237.61  388.02\n",
      "9  238.03  206.43 \n",
      "---------------\n",
      "       用户A      用户C\n",
      "0  235.83  478.320\n",
      "1  236.27  515.450\n",
      "2  238.05  517.090\n",
      "3  235.90  514.890\n",
      "4  236.76      NaN\n",
      "5     NaN  486.090\n",
      "6  237.41  516.230\n",
      "7  238.65      NaN\n",
      "8  237.61  435.350\n",
      "9  238.03  487.675\n"
     ]
    }
   ],
   "source": [
    "from pandas import read_excel\n",
    "\n",
    "\n",
    "\n",
    "a=read_excel(\"./数据集/Pdata2_33.xlsx\",usecols=range(1,4))\n",
    "b1=a.dropna()  #删除所有的缺失值\n",
    "b2=a.dropna(axis=1, thresh=9)  #删除有效数据个数小于9的列\n",
    "b3=a.drop('用户B', axis=1)      #删除用户B的数据\n",
    "print(b1,'\\n---------------\\n',b2,'\\n---------------\\n',b3)"
   ]
  },
  {
   "cell_type": "code",
   "execution_count": 36,
   "metadata": {},
   "outputs": [
    {
     "name": "stdout",
     "output_type": "stream",
     "text": [
      "        uid regit_date gender   age   income\n",
      "0  81200457 2016-10-30      M  23.0   6500.0\n",
      "1  81201135 2016-11-08      M  27.0  10300.0\n",
      "2  80043782 2016-10-13      F   0.0  13500.0\n",
      "3  84639281 2017-04-17      M  26.0   6000.0\n",
      "4  73499801 2016-03-21      0   0.0   4500.0\n",
      "5  72399510 2016-01-18      M  19.0      0.0\n",
      "6  63881943 2015-10-07      M  21.0  10000.0\n",
      "7  35442690 2015-04-10      F   0.0   5800.0\n",
      "8  77638351 2016-07-12      M  25.0  18000.0\n",
      "9  85200189 2017-05-18      M  22.0      0.0 \n",
      "---------------\n",
      "         uid regit_date gender   age   income\n",
      "0  81200457 2016-10-30      M  23.0   6500.0\n",
      "1  81201135 2016-11-08      M  27.0  10300.0\n",
      "2  80043782 2016-10-13      F  27.0  13500.0\n",
      "3  84639281 2017-04-17      M  26.0   6000.0\n",
      "4  73499801 2016-03-21      M  26.0   4500.0\n",
      "5  72399510 2016-01-18      M  19.0   4500.0\n",
      "6  63881943 2015-10-07      M  21.0  10000.0\n",
      "7  35442690 2015-04-10      F  21.0   5800.0\n",
      "8  77638351 2016-07-12      M  25.0  18000.0\n",
      "9  85200189 2017-05-18      M  22.0  18000.0 \n",
      "---------------\n",
      "         uid regit_date gender   age   income\n",
      "0  81200457 2016-10-30      M  23.0   6500.0\n",
      "1  81201135 2016-11-08      M  27.0  10300.0\n",
      "2  80043782 2016-10-13      F  26.0  13500.0\n",
      "3  84639281 2017-04-17      M  26.0   6000.0\n",
      "4  73499801 2016-03-21      M  19.0   4500.0\n",
      "5  72399510 2016-01-18      M  19.0  10000.0\n",
      "6  63881943 2015-10-07      M  21.0  10000.0\n",
      "7  35442690 2015-04-10      F  25.0   5800.0\n",
      "8  77638351 2016-07-12      M  25.0  18000.0\n",
      "9  85200189 2017-05-18      M  22.0      NaN \n",
      "---------------\n",
      "         uid regit_date gender        age   income\n",
      "0  81200457 2016-10-30      M  23.000000   6500.0\n",
      "1  81201135 2016-11-08      M  27.000000  10300.0\n",
      "2  80043782 2016-10-13      F  23.285714  13500.0\n",
      "3  84639281 2017-04-17      M  26.000000   6000.0\n",
      "4  73499801 2016-03-21      M  23.285714   4500.0\n",
      "5  72399510 2016-01-18      M  19.000000   8250.0\n",
      "6  63881943 2015-10-07      M  21.000000  10000.0\n",
      "7  35442690 2015-04-10      F  23.285714   5800.0\n",
      "8  77638351 2016-07-12      M  25.000000  18000.0\n",
      "9  85200189 2017-05-18      M  22.000000   8250.0\n"
     ]
    }
   ],
   "source": [
    "from pandas import read_excel\n",
    "\n",
    "\n",
    "\n",
    "a=read_excel(\"./数据集/Pdata4_29.xlsx\")\n",
    "b1=a.fillna(0)  #用0填补所有的缺失值\n",
    "b2=a.fillna(method='ffill')  #用前一行的值填补缺失值\n",
    "b3=a.fillna(method='bfill')  #用后一行的值填补，最后一行缺失值不处理\n",
    "b4=a.fillna(value={'gender':a.gender.mode()[0],   #性别使用众数替换\n",
    "                'age':a.age.mean(),          #年龄使用均值替换\n",
    "                'income':a.income.median()}) #收入使用中位数替换\n",
    "\n",
    "\n",
    "print(b1,'\\n---------------\\n',b2,'\\n---------------\\n',b3,'\\n---------------\\n',b4)"
   ]
  },
  {
   "cell_type": "code",
   "execution_count": 38,
   "metadata": {},
   "outputs": [
    {
     "name": "stdout",
     "output_type": "stream",
     "text": [
      "        uid regit_date gender   age   income\n",
      "0  81200457 2016-10-30      M  23.0   6500.0\n",
      "1  81201135 2016-11-08      M  27.0  10300.0\n",
      "2  80043782 2016-10-13      F   NaN  13500.0\n",
      "3  84639281 2017-04-17      M  26.0   6000.0\n",
      "4  73499801 2016-03-21    NaN   NaN   4500.0\n",
      "5  72399510 2016-01-18      M  19.0      NaN\n",
      "6  63881943 2015-10-07      M  21.0  10000.0\n",
      "7  35442690 2015-04-10      F   NaN   5800.0\n",
      "8  77638351 2016-07-12      M  25.0  18000.0\n",
      "9  85200189 2017-05-18      M  22.0      NaN \n",
      "---------------\n",
      "         uid regit_date gender        age   income\n",
      "0  81200457 2016-10-30      M  23.000000   6500.0\n",
      "1  81201135 2016-11-08      M  27.000000  10300.0\n",
      "2  80043782 2016-10-13      F  27.875282  13500.0\n",
      "3  84639281 2017-04-17      M  26.000000   6000.0\n",
      "4  73499801 2016-03-21      M  21.748310   4500.0\n",
      "5  72399510 2016-01-18      M  19.000000   7250.0\n",
      "6  63881943 2015-10-07      M  21.000000  10000.0\n",
      "7  35442690 2015-04-10      F  23.939144   5800.0\n",
      "8  77638351 2016-07-12      M  25.000000  18000.0\n",
      "9  85200189 2017-05-18      M  22.000000  18000.0\n"
     ]
    }
   ],
   "source": [
    "from pandas import read_excel\n",
    "import numpy as np\n",
    "\n",
    "\n",
    "\n",
    "a=read_excel(\"./数据集/Pdata4_29.xlsx\")\n",
    "b=a.fillna(value={'gender':a.gender.mode()[0],\n",
    "                'age':a.age.interpolate(method='polynomial', order=2),\n",
    "#年龄使用二次多项式插值替换\n",
    "                'income':a.income.interpolate()}) #收入使用线性插值替换\n",
    "\n",
    "print(a,'\\n---------------\\n',b)"
   ]
  },
  {
   "cell_type": "code",
   "execution_count": 39,
   "metadata": {},
   "outputs": [
    {
     "name": "stdout",
     "output_type": "stream",
     "text": [
      "标准差法异常值上限检测： True\n",
      "标准差法异常值下限检测： False\n",
      "箱线图法异常值上限检测： True\n",
      "箱线图法异常值下限检测： False\n"
     ]
    },
    {
     "data": {
      "image/png": "[encoded data removed]",
      "text/plain": [
       "<Figure size 432x288 with 1 Axes>"
      ]
     },
     "metadata": {},
     "output_type": "display_data"
    },
    {
     "name": "stdout",
     "output_type": "stream",
     "text": [
      "异常值替换前的数据统计特征 count    289.000000\n",
      "mean      48.613495\n",
      "std       39.474103\n",
      "min        0.000000\n",
      "25%       15.600000\n",
      "50%       39.000000\n",
      "75%       68.900000\n",
      "max      190.200000\n",
      "Name: counts, dtype: float64\n",
      "判别异常值的上限临界值为: 148.85000000000002\n",
      "用以替换异常值的数据为： 141.7\n",
      "异常值替换后的数据统计特征 count    289.000000\n",
      "mean      48.066090\n",
      "std       37.918895\n",
      "min        0.000000\n",
      "25%       15.600000\n",
      "50%       39.000000\n",
      "75%       68.900000\n",
      "max      141.700000\n",
      "Name: counts, dtype: float64\n"
     ]
    }
   ],
   "source": [
    "from pandas import read_csv\n",
    "import numpy as np\n",
    "import matplotlib.pyplot as plt\n",
    "\n",
    "\n",
    "\n",
    "\n",
    "a=read_csv(\"./数据集/sunspots.csv\")\n",
    "mu=a.counts.mean()  #计算黑子个数年平均值\n",
    "s=a.counts.std()  #计算黑子个数标准差\n",
    "print(\"标准差法异常值上限检测：\",any(a.counts>mu+2*s))  #输出：True\n",
    "print(\"标准差法异常值下限检测：\",any(a.counts<mu-2*s))  #输出：False\n",
    "Q1=a.counts.quantile(0.25)  #计算下四分位数\n",
    "Q3=a.counts.quantile(0.75)  #计算上四分位数\n",
    "IQR=Q3-Q1\n",
    "print(\"箱线图法异常值上限检测：\",any(a.counts>Q3+1.5*IQR))  #输出：True\n",
    "print(\"箱线图法异常值下限检测：\",any(a.counts<Q1-1.5*IQR))  #输出：False\n",
    "plt.style.use('ggplot')  #设置绘图风格\n",
    "a.counts.plot(kind='hist',bins=30,density=True)  #绘制直方图\n",
    "a.counts.plot(kind='kde')  #绘制核密度曲线\n",
    "plt.show()\n",
    "print(\"异常值替换前的数据统计特征\",a.counts.describe())\n",
    "UB=Q3+1.5*IQR;\n",
    "st=a.counts[a.counts<UB].max()  #找出低于判别上限的最大值\n",
    "print(\"判别异常值的上限临界值为:\",UB)\n",
    "print(\"用以替换异常值的数据为：\",st)\n",
    "a.loc[a.counts>UB, 'counts']=st  #替换超过判别上限异常值\n",
    "print(\"异常值替换后的数据统计特征\",a.counts.describe())\n"
   ]
  },
  {
   "cell_type": "code",
   "execution_count": null,
   "metadata": {},
   "outputs": [],
   "source": []
  }
 ],
 "metadata": {
  "kernelspec": {
   "display_name": "Python 3.9.13 64-bit",
   "language": "python",
   "name": "python3"
  },
  "language_info": {
   "codemirror_mode": {
    "name": "ipython",
    "version": 3
   },
   "file_extension": ".py",
   "mimetype": "text/x-python",
   "name": "python",
   "nbconvert_exporter": "python",
   "pygments_lexer": "ipython3",
   "version": "3.9.13"
  },
  "orig_nbformat": 4,
  "vscode": {
   "interpreter": {
    "hash": "2469a70536e4d2335a2ea8907942d0699c37342a371ac185bdb5b0aa6f073890"
   }
  }
 },
 "nbformat": 4,
 "nbformat_minor": 2
}
