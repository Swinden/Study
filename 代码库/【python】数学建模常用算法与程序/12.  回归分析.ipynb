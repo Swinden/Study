{
 "cells": [
  {
   "cell_type": "code",
   "execution_count": 2,
   "metadata": {},
   "outputs": [
    {
     "name": "stdout",
     "output_type": "stream",
     "text": [
      "b0=52.5773\n",
      "b12=1.4683    0.6623\n",
      "拟合优度R^2=0.9787\n"
     ]
    }
   ],
   "source": [
    "import numpy as np\n",
    "from sklearn.linear_model import LinearRegression\n",
    "\n",
    "\n",
    "\n",
    "a=np.loadtxt(\"./数据集/Pdata12_1.txt\")   #加载表中x1,x2,y的13行3列数据\n",
    "md=LinearRegression().fit(a[:,:2],a[:,2])    #构建并拟合模型\n",
    "y=md.predict(a[:,:2])       #求预测值\n",
    "b0=md.intercept_; b12=md.coef_   #输出回归系数\n",
    "R2=md.score(a[:,:2],a[:,2])      #计算R^2\n",
    "print(\"b0=%.4f\\nb12=%.4f%10.4f\"%(b0,b12[0],b12[1]))\n",
    "print(\"拟合优度R^2=%.4f\"%R2)\n"
   ]
  },
  {
   "cell_type": "code",
   "execution_count": 2,
   "metadata": {},
   "outputs": [
    {
     "name": "stdout",
     "output_type": "stream",
     "text": [
      "                            OLS Regression Results                            \n",
      "==============================================================================\n",
      "Dep. Variable:                      y   R-squared:                       0.979\n",
      "Model:                            OLS   Adj. R-squared:                  0.974\n",
      "Method:                 Least Squares   F-statistic:                     229.5\n",
      "Date:                Sat, 13 Aug 2022   Prob (F-statistic):           4.41e-09\n",
      "Time:                        16:45:46   Log-Likelihood:                -28.156\n",
      "No. Observations:                  13   AIC:                             62.31\n",
      "Df Residuals:                      10   BIC:                             64.01\n",
      "Df Model:                           2                                         \n",
      "Covariance Type:            nonrobust                                         \n",
      "==============================================================================\n",
      "                 coef    std err          t      P>|t|      [0.025      0.975]\n",
      "------------------------------------------------------------------------------\n",
      "Intercept     52.5773      2.286     22.998      0.000      47.483      57.671\n",
      "x1             1.4683      0.121     12.105      0.000       1.198       1.739\n",
      "x2             0.6623      0.046     14.442      0.000       0.560       0.764\n",
      "==============================================================================\n",
      "Omnibus:                        1.509   Durbin-Watson:                   1.922\n",
      "Prob(Omnibus):                  0.470   Jarque-Bera (JB):                1.104\n",
      "Skew:                           0.503   Prob(JB):                        0.576\n",
      "Kurtosis:                       1.987   Cond. No.                         175.\n",
      "==============================================================================\n",
      "\n",
      "Notes:\n",
      "[1] Standard Errors assume that the covariance matrix of the errors is correctly specified. \n",
      "------------\n",
      "\n",
      "0      80.074002\n",
      "1      73.250919\n",
      "2     105.814740\n",
      "3      89.258477\n",
      "4      97.292515\n",
      "5     105.152489\n",
      "6     104.002051\n",
      "7      74.575420\n",
      "8      91.275487\n",
      "9     114.537543\n",
      "10     80.535674\n",
      "11    112.437244\n",
      "12    112.293440\n",
      "dtype: float64\n"
     ]
    }
   ],
   "source": [
    "import numpy as np; import statsmodels.api as sm\n",
    "\n",
    "\n",
    "import warnings\n",
    "warnings.filterwarnings(\"ignore\")\n",
    "\n",
    "\n",
    "a=np.loadtxt(\"./数据集/Pdata12_1.txt\")\n",
    "#加载表中x1,x2,y的13行3列数据（数据见封底二维码）\n",
    "d={'x1':a[:,0],'x2':a[:,1],'y':a[:,2]}\n",
    "md=sm.formula.ols('y~x1+x2',d).fit()  #构建并拟合模型\n",
    "print(md.summary(),'\\n------------\\n')  #显示模型所有信息\n",
    "ypred=md.predict({'x1':a[:,0],'x2':a[:,1]})  #计算预测值\n",
    "print(ypred)  #输出预测值"
   ]
  },
  {
   "cell_type": "code",
   "execution_count": 3,
   "metadata": {},
   "outputs": [
    {
     "name": "stdout",
     "output_type": "stream",
     "text": [
      "[52.57734888  1.46830574  0.66225049] \n",
      "------------\n",
      "\n",
      "                 Results: Ordinary least squares\n",
      "=================================================================\n",
      "Model:              OLS              Adj. R-squared:     0.974   \n",
      "Dependent Variable: y                AIC:                62.3124 \n",
      "Date:               2022-08-13 16:46 BIC:                64.0072 \n",
      "No. Observations:   13               Log-Likelihood:     -28.156 \n",
      "Df Model:           2                F-statistic:        229.5   \n",
      "Df Residuals:       10               Prob (F-statistic): 4.41e-09\n",
      "R-squared:          0.979            Scale:              5.7904  \n",
      "-------------------------------------------------------------------\n",
      "           Coef.    Std.Err.      t      P>|t|     [0.025    0.975]\n",
      "-------------------------------------------------------------------\n",
      "const     52.5773     2.2862   22.9980   0.0000   47.4834   57.6713\n",
      "x1         1.4683     0.1213   12.1047   0.0000    1.1980    1.7386\n",
      "x2         0.6623     0.0459   14.4424   0.0000    0.5601    0.7644\n",
      "-----------------------------------------------------------------\n",
      "Omnibus:              1.509        Durbin-Watson:           1.922\n",
      "Prob(Omnibus):        0.470        Jarque-Bera (JB):        1.104\n",
      "Skew:                 0.503        Prob(JB):                0.576\n",
      "Kurtosis:             1.987        Condition No.:           175  \n",
      "=================================================================\n",
      "\n"
     ]
    }
   ],
   "source": [
    "import numpy as np; import statsmodels.api as sm\n",
    "\n",
    "\n",
    "\n",
    "a=np.loadtxt(\"./数据集/Pdata12_1.txt\")\n",
    "#加载表中x1,x2,y的13行3列数据（数据见封底二维码）\n",
    "X = sm.add_constant(a[:,:2])  #增加第一列全部元素为1得到增广矩阵\n",
    "md=sm.OLS(a[:,2],X).fit()  #构建并拟合模型\n",
    "print(md.params,'\\n------------\\n')  #提取所有回归系数\n",
    "y=md.predict(X)      #求已知自变量值的预测值\n",
    "print(md.summary2())  #输出模型的所有结果"
   ]
  },
  {
   "cell_type": "code",
   "execution_count": 4,
   "metadata": {},
   "outputs": [
    {
     "name": "stdout",
     "output_type": "stream",
     "text": [
      "                            OLS Regression Results                            \n",
      "==============================================================================\n",
      "Dep. Variable:                      y   R-squared:                       0.996\n",
      "Model:                            OLS   Adj. R-squared:                  0.994\n",
      "Method:                 Least Squares   F-statistic:                     542.0\n",
      "Date:                Sat, 13 Aug 2022   Prob (F-statistic):           1.20e-08\n",
      "Time:                        16:47:26   Log-Likelihood:                -1.7480\n",
      "No. Observations:                  11   AIC:                             11.50\n",
      "Df Residuals:                       7   BIC:                             13.09\n",
      "Df Model:                           3                                         \n",
      "Covariance Type:            nonrobust                                         \n",
      "==============================================================================\n",
      "                 coef    std err          t      P>|t|      [0.025      0.975]\n",
      "------------------------------------------------------------------------------\n",
      "const         -8.6203      0.897     -9.611      0.000     -10.741      -6.499\n",
      "x1            -0.0742      0.028     -2.691      0.031      -0.139      -0.009\n",
      "x2             0.5104      0.075      6.781      0.000       0.332       0.688\n",
      "x3             0.3116      0.037      8.357      0.000       0.223       0.400\n",
      "==============================================================================\n",
      "Omnibus:                        5.258   Durbin-Watson:                   2.400\n",
      "Prob(Omnibus):                  0.072   Jarque-Bera (JB):                2.250\n",
      "Skew:                           1.080   Prob(JB):                        0.325\n",
      "Kurtosis:                       3.495   Cond. No.                     2.05e+03\n",
      "==============================================================================\n",
      "\n",
      "Notes:\n",
      "[1] Standard Errors assume that the covariance matrix of the errors is correctly specified.\n",
      "[2] The condition number is large, 2.05e+03. This might indicate that there are\n",
      "strong multicollinearity or other numerical problems.\n",
      "相关系数矩阵:\n",
      " [[ 1.         -0.03291436  0.98690551]\n",
      " [-0.03291436  1.          0.03567322]\n",
      " [ 0.98690551  0.03567322  1.        ]]\n",
      "回归系数为： [-4.96322784  0.72966696]\n"
     ]
    }
   ],
   "source": [
    "import numpy as np; import statsmodels.api as sm\n",
    "\n",
    "\n",
    "\n",
    "\n",
    "a=np.loadtxt(\"./数据集/Pdata12_3.txt\")   #加载表中x1,x2,x3,y的11行4列数据\n",
    "x=a[:,:3]  #提出自变量观测值矩阵\n",
    "X=sm.add_constant(x)  #增加第一列全部元素为1得到增广矩阵\n",
    "md=sm.OLS(a[:,3],X).fit()  #构建并拟合模型\n",
    "b=md.params          #提取所有回归系数\n",
    "y=md.predict(X)      #求已知自变量值的预测值\n",
    "print(md.summary())  #输出模型的所有结果\n",
    "print(\"相关系数矩阵:\\n\",np.corrcoef(x.T))\n",
    "X1=sm.add_constant(a[:,0])\n",
    "md1=sm.OLS(a[:,2],X1).fit()\n",
    "print(\"回归系数为：\",md1.params)"
   ]
  },
  {
   "cell_type": "code",
   "execution_count": 7,
   "metadata": {},
   "outputs": [
    {
     "data": {
      "image/png": "[encoded data removed]",
      "text/plain": [
       "<Figure size 432x288 with 1 Axes>"
      ]
     },
     "metadata": {
      "needs_background": "light"
     },
     "output_type": "display_data"
    },
    {
     "name": "stdout",
     "output_type": "stream",
     "text": [
      "最优alpha= 0.001788649529057435\n",
      "标准化数据的所有回归系数为： [0.25175125 0.2261851  0.6902453 ]\n",
      "原数据的回归系数为： [-9.53202618703748, array([0.04098598, 0.62314057, 0.15199106])]\n",
      "拟合优度： 0.9843368597895965\n"
     ]
    }
   ],
   "source": [
    "import numpy as np; import matplotlib.pyplot as plt\n",
    "from sklearn.linear_model import Ridge, RidgeCV\n",
    "from scipy.stats import zscore\n",
    "\n",
    "\n",
    "\n",
    "\n",
    "\n",
    "plt.rc('text', usetex=True)  #没装LaTeX宏包把该句注释\n",
    "a=np.loadtxt(\"./数据集/Pdata12_3.txt\")\n",
    "n=a.shape[1]-1  #自变量的总个数\n",
    "aa=zscore(a)  #数据标准化\n",
    "x=aa[:,:n]; y=aa[:,n]  #提出自变量和因变量观测值矩阵\n",
    "b=[]  #用于存储回归系数的空列表\n",
    "kk=np.logspace(-4,0,100)  #循环迭代的不同k值\n",
    "for k in kk:\n",
    "    md=Ridge(alpha=k).fit(x,y)\n",
    "    b.append(md.coef_)\n",
    "st=['s-r','*-k','p-b']  #下面画图的控制字符串\n",
    "for i in range(3): plt.plot(kk,np.array(b)[:,i],st[i]);\n",
    "plt.legend(['$x_1$','$x_2$','$x_3$'],fontsize=15); plt.show()\n",
    "mdcv=RidgeCV(alphas=np.logspace(-4,0,100)).fit(x,y);\n",
    "print(\"最优alpha=\",mdcv.alpha_) \n",
    "md0=Ridge(mdcv.alpha_).fit(x,y)  #构建并拟合模型\n",
    "md0=Ridge(0.4).fit(x,y)  #构建并拟合模型\n",
    "cs0=md0.coef_  #提出标准化数据的回归系数b1,b2,b3\n",
    "print(\"标准化数据的所有回归系数为：\",cs0)\n",
    "mu=np.mean(a,axis=0); s=np.std(a,axis=0,ddof=1) #计算所有指标的均值和标准差\n",
    "params=[mu[-1]-s[-1]*sum(cs0*mu[:-1]/s[:-1]),s[-1]*cs0/s[:-1]] \n",
    "print(\"原数据的回归系数为：\",params)\n",
    "print(\"拟合优度：\",md0.score(x,y))"
   ]
  },
  {
   "cell_type": "code",
   "execution_count": 8,
   "metadata": {},
   "outputs": [
    {
     "data": {
      "image/png": "[encoded data removed]",
      "text/plain": [
       "<Figure size 432x288 with 1 Axes>"
      ]
     },
     "metadata": {
      "needs_background": "light"
     },
     "output_type": "display_data"
    },
    {
     "name": "stdout",
     "output_type": "stream",
     "text": [
      "最优alpha= 0.0001\n",
      "标准化数据的所有回归系数为： [0.         0.01358604 0.76138391]\n",
      "原数据的回归系数为： [-1.660204910919525, array([0.        , 0.03742957, 0.16765569])]\n",
      "拟合优度： 0.9061154424386821\n"
     ]
    }
   ],
   "source": [
    "import numpy as np; import matplotlib.pyplot as plt\n",
    "from sklearn.linear_model import Lasso, LassoCV\n",
    "from scipy.stats import zscore\n",
    "\n",
    "\n",
    "\n",
    "\n",
    "\n",
    "plt.rc('font',size=16)\n",
    "plt.rc('text', usetex=True)  #没装LaTeX宏包把该句注释\n",
    "a=np.loadtxt(\"./数据集/Pdata12_3.txt\")\n",
    "n=a.shape[1]-1  #自变量的总个数\n",
    "aa=zscore(a)  #数据标准化\n",
    "x=aa[:,:n]; y=aa[:,n]  #提出自变量和因变量观测值矩阵\n",
    "b=[]  #用于存储回归系数的空列表\n",
    "kk=np.logspace(-4,0,100)  #循环迭代的不同k值\n",
    "for k in kk:\n",
    "    md=Lasso(alpha=k).fit(x,y)\n",
    "    b.append(md.coef_)\n",
    "st=['s-r','*-k','p-b']  #下面画图的控制字符串\n",
    "for i in range(3): plt.plot(kk,np.array(b)[:,i],st[i]);\n",
    "plt.legend(['$x_1$','$x_2$','$x_3$'],fontsize=15); plt.show()\n",
    "mdcv=LassoCV(alphas=np.logspace(-4,0,100)).fit(x,y);\n",
    "print(\"最优alpha=\",mdcv.alpha_) \n",
    "#md0=Lasso(mdcv.alpha_).fit(x,y)  #构建并拟合模型\n",
    "md0=Lasso(0.21).fit(x,y)  #构建并拟合模型\n",
    "cs0=md0.coef_  #提出标准化数据的回归系数b1,b2,b3\n",
    "print(\"标准化数据的所有回归系数为：\",cs0)\n",
    "mu=np.mean(a,axis=0); s=np.std(a,axis=0,ddof=1) #计算所有指标的均值和标准差\n",
    "params=[mu[-1]-s[-1]*sum(cs0*mu[:-1]/s[:-1]),s[-1]*cs0/s[:-1]] \n",
    "print(\"原数据的回归系数为：\",params)\n",
    "print(\"拟合优度：\",md0.score(x,y))"
   ]
  },
  {
   "cell_type": "code",
   "execution_count": 9,
   "metadata": {},
   "outputs": [
    {
     "name": "stdout",
     "output_type": "stream",
     "text": [
      "                            OLS Regression Results                            \n",
      "==============================================================================\n",
      "Dep. Variable:                      y   R-squared:                       0.999\n",
      "Model:                            OLS   Adj. R-squared:                  0.999\n",
      "Method:                 Least Squares   F-statistic:                     1623.\n",
      "Date:                Sat, 13 Aug 2022   Prob (F-statistic):           1.14e-06\n",
      "Time:                        16:56:24   Log-Likelihood:                -28.919\n",
      "No. Observations:                   9   AIC:                             67.84\n",
      "Df Residuals:                       4   BIC:                             68.82\n",
      "Df Model:                           4                                         \n",
      "Covariance Type:            nonrobust                                         \n",
      "==============================================================================\n",
      "                 coef    std err          t      P>|t|      [0.025      0.975]\n",
      "------------------------------------------------------------------------------\n",
      "const      -1028.4134     58.305    -17.638      0.000   -1190.294    -866.532\n",
      "x1            -0.0159      0.015     -1.043      0.356      -0.058       0.026\n",
      "x2           245.6120     34.213      7.179      0.002     150.622     340.602\n",
      "x3             1.6316      0.178      9.148      0.001       1.136       2.127\n",
      "x4             2.0294      0.580      3.500      0.025       0.420       3.639\n",
      "==============================================================================\n",
      "Omnibus:                        0.575   Durbin-Watson:                   2.151\n",
      "Prob(Omnibus):                  0.750   Jarque-Bera (JB):                0.560\n",
      "Skew:                           0.368   Prob(JB):                        0.756\n",
      "Kurtosis:                       2.025   Cond. No.                     1.24e+05\n",
      "==============================================================================\n",
      "\n",
      "Notes:\n",
      "[1] Standard Errors assume that the covariance matrix of the errors is correctly specified.\n",
      "[2] The condition number is large, 1.24e+05. This might indicate that there are\n",
      "strong multicollinearity or other numerical problems.\n"
     ]
    },
    {
     "data": {
      "image/png": "[encoded data removed]",
      "text/plain": [
       "<Figure size 432x288 with 1 Axes>"
      ]
     },
     "metadata": {
      "needs_background": "light"
     },
     "output_type": "display_data"
    },
    {
     "name": "stdout",
     "output_type": "stream",
     "text": [
      "标准化数据的所有回归系数为： [0.         0.44723893 0.34045523 0.18555833]\n",
      "原数据的回归系数为： [-908.2058953990945, array([  0.        , 203.09384921,   1.45621116,   2.04693134])]\n",
      "拟合优度： 0.9965807211503689\n"
     ]
    }
   ],
   "source": [
    "import numpy as np; import matplotlib.pyplot as plt\n",
    "import statsmodels.api as sm\n",
    "from sklearn.linear_model import Lasso\n",
    "from scipy.stats import zscore\n",
    "\n",
    "\n",
    "\n",
    "\n",
    "plt.rc('text', usetex=True)  #没装LaTeX宏包把该句注释\n",
    "a=np.loadtxt(\"./数据集/Pdata12_6.txt\")  #加载表中的9行5列数据\n",
    "n=a.shape[1]-1  #自变量的总个数\n",
    "x=a[:,:n]  #提出自变量观测值矩阵\n",
    "X = sm.add_constant(x)\n",
    "md=sm.OLS(a[:,n],X).fit()  #构建并拟合模型\n",
    "print(md.summary())  #输出模型的所有结果\n",
    "\n",
    "aa=zscore(a)  #数据标准化\n",
    "x=aa[:,:n]; y=aa[:,n]  #提出自变量和因变量观测值矩阵\n",
    "b=[]  #用于存储回归系数的空列表\n",
    "kk=np.logspace(-4,0,100)  #循环迭代的不同k值\n",
    "for k in kk:\n",
    "    md=Lasso(alpha=k).fit(x,y)\n",
    "    b.append(md.coef_)\n",
    "st=['s-r','*-k','p-b','^-y']  #下面画图的控制字符串\n",
    "for i in range(n): plt.plot(kk,np.array(b)[:,i],st[i]);\n",
    "plt.legend(['$x_1$','$x_2$','$x_3$','$x_4$'],fontsize=15); plt.show()\n",
    "md0=Lasso(0.05).fit(x,y)  #构建并拟合模型\n",
    "cs0=md0.coef_  #提出标准化数据的回归系数b1,b2,b3,b4\n",
    "print(\"标准化数据的所有回归系数为：\",cs0)\n",
    "mu=a.mean(axis=0); s=a.std(axis=0,ddof=1) #计算所有指标的均值和标准差\n",
    "params=[mu[-1]-s[-1]*sum(cs0*mu[:-1]/s[:-1]),s[-1]*cs0/s[:-1]] \n",
    "print(\"原数据的回归系数为：\",params)\n",
    "print(\"拟合优度：\",md0.score(x,y))"
   ]
  },
  {
   "cell_type": "code",
   "execution_count": 10,
   "metadata": {},
   "outputs": [
    {
     "name": "stdout",
     "output_type": "stream",
     "text": [
      "                            OLS Regression Results                            \n",
      "==============================================================================\n",
      "Dep. Variable:                      y   R-squared:                       0.924\n",
      "Model:                            OLS   Adj. R-squared:                  0.913\n",
      "Method:                 Least Squares   F-statistic:                     85.42\n",
      "Date:                Sat, 13 Aug 2022   Prob (F-statistic):           3.59e-05\n",
      "Time:                        16:57:18   Log-Likelihood:                 6.6829\n",
      "No. Observations:                   9   AIC:                            -9.366\n",
      "Df Residuals:                       7   BIC:                            -8.971\n",
      "Df Model:                           1                                         \n",
      "Covariance Type:            nonrobust                                         \n",
      "==============================================================================\n",
      "                 coef    std err          t      P>|t|      [0.025      0.975]\n",
      "------------------------------------------------------------------------------\n",
      "const         -0.8863      0.102     -8.653      0.000      -1.128      -0.644\n",
      "x1             0.1558      0.017      9.242      0.000       0.116       0.196\n",
      "==============================================================================\n",
      "Omnibus:                        5.866   Durbin-Watson:                   2.311\n",
      "Prob(Omnibus):                  0.053   Jarque-Bera (JB):                1.209\n",
      "Skew:                          -0.036   Prob(JB):                        0.546\n",
      "Kurtosis:                       1.206   Cond. No.                         14.6\n",
      "==============================================================================\n",
      "\n",
      "Notes:\n",
      "[1] Standard Errors assume that the covariance matrix of the errors is correctly specified.\n",
      "所求概率p0=0.6262\n"
     ]
    }
   ],
   "source": [
    "import numpy as np\n",
    "import statsmodels.api as sm\n",
    "\n",
    "\n",
    "\n",
    "\n",
    "\n",
    "a=np.loadtxt(\"./数据集/Pdata12_7_1.txt\")   #加载表中x,ni,mi的9行3列数据\n",
    "x=a[:,0]; pi=a[:,2]/a[:,1]\n",
    "X=sm.add_constant(x); yi=np.log(pi/(1-pi))\n",
    "md=sm.OLS(yi,X).fit()  #构建并拟合模型\n",
    "print(md.summary())  #输出模型的所有结果\n",
    "b=md.params  #提出所有的回归系数\n",
    "p0=1/(1+np.exp(-np.dot(b,[1,9])))\n",
    "print(\"所求概率p0=%.4f\"%p0)\n",
    "np.savetxt(\"./数据集/Pdata12_7_2.txt\", b)  #把回归系数保存到文本文件\n"
   ]
  },
  {
   "cell_type": "code",
   "execution_count": 11,
   "metadata": {},
   "outputs": [
    {
     "name": "stdout",
     "output_type": "stream",
     "text": [
      "odds9=1.6752,odds9vs8=1.1686\n"
     ]
    }
   ],
   "source": [
    "import numpy as np\n",
    "\n",
    "\n",
    "\n",
    "b=np.loadtxt(\"./数据集/Pdata12_7_2.txt\")\n",
    "odds9=np.exp(np.dot(b,[1,9]))\n",
    "odds9vs8=np.exp(np.dot([1,9],b))/np.exp(np.dot([1,8],b))\n",
    "print(\"odds9=%.4f,odds9vs8=%.4f\"%(odds9,odds9vs8))\n"
   ]
  },
  {
   "cell_type": "code",
   "execution_count": 12,
   "metadata": {},
   "outputs": [
    {
     "name": "stdout",
     "output_type": "stream",
     "text": [
      "Optimization terminated successfully.\n",
      "         Current function value: 0.000002\n",
      "         Iterations: 18\n",
      "         Function evaluations: 21\n",
      "         Gradient evaluations: 21\n",
      "[-0.34967435  3.22899624  2.23724381] \n",
      "----------\n",
      "\n",
      "                          Results: Logit\n",
      "==================================================================\n",
      "Model:              Logit            Pseudo R-squared: 1.000      \n",
      "Dependent Variable: y                AIC:              6.0001     \n",
      "Date:               2022-08-13 17:06 BIC:              8.9873     \n",
      "No. Observations:   20               Log-Likelihood:   -4.6356e-05\n",
      "Df Model:           2                LL-Null:          -13.863    \n",
      "Df Residuals:       17               LLR p-value:      9.5372e-07 \n",
      "Converged:          1.0000           Scale:            1.0000     \n",
      "-------------------------------------------------------------------\n",
      "        Coef.    Std.Err.     z     P>|z|      [0.025      0.975]  \n",
      "-------------------------------------------------------------------\n",
      "x1     -0.3497   187.8424  -0.0019  0.9985    -368.5140    367.8147\n",
      "x2      3.2290  1520.2500   0.0021  0.9983   -2976.4062   2982.8642\n",
      "x3      2.2372  5400.7295   0.0004  0.9997  -10582.9981  10587.4726\n",
      "==================================================================\n",
      "\n",
      "[4.39453842e-17 1.00000000e+00]\n"
     ]
    }
   ],
   "source": [
    "import numpy as np\n",
    "import statsmodels.api as sm\n",
    "\n",
    "\n",
    "\n",
    "\n",
    "a=np.loadtxt(\"./数据集/Pdata12_9.txt\")\n",
    "n=a.shape[1] #提取矩阵的列数\n",
    "x=a[:,:n-1]; y=a[:,n-1]\n",
    "md=sm.Logit(y,x)\n",
    "md=md.fit(method=\"bfgs\")  #这里必须使用bfgs方法，使用默认牛顿方法出错\n",
    "print(md.params,'\\n----------\\n'); print(md.summary2())\n",
    "print(md.predict([[-49.2,-17.2,0.3],[40.6,26.4,1.8]]))  #求预测值\n"
   ]
  },
  {
   "cell_type": "code",
   "execution_count": 13,
   "metadata": {},
   "outputs": [
    {
     "name": "stdout",
     "output_type": "stream",
     "text": [
      "[-0.39060121] [[-0.05073412  0.67071015  0.10511888]]\n",
      "[0. 0. 0. 0. 0. 0. 0. 0. 0. 0. 1. 1. 1. 1. 1. 1. 1. 1. 1. 1.]\n",
      "[0. 1.]\n"
     ]
    }
   ],
   "source": [
    "import numpy as np\n",
    "from sklearn.linear_model import LogisticRegression\n",
    "\n",
    "\n",
    "\n",
    "\n",
    "a=np.loadtxt(\"./数据集/Pdata12_9.txt\")\n",
    "n=a.shape[1]  #提取矩阵的列数\n",
    "x=a[:,:n-1]; y=a[:,n-1]\n",
    "md=LogisticRegression(solver='lbfgs')\n",
    "md=md.fit(x,y)\n",
    "print(md.intercept_,md.coef_)\n",
    "print(md.predict(x))   #检验预测模型\n",
    "print(md.predict([[-49.2,-17.2,0.3],[40.6,26.4,1.8]]))  #求预测值\n"
   ]
  },
  {
   "cell_type": "code",
   "execution_count": null,
   "metadata": {},
   "outputs": [],
   "source": []
  }
 ],
 "metadata": {
  "kernelspec": {
   "display_name": "Python 3.9.13 64-bit",
   "language": "python",
   "name": "python3"
  },
  "language_info": {
   "codemirror_mode": {
    "name": "ipython",
    "version": 3
   },
   "file_extension": ".py",
   "mimetype": "text/x-python",
   "name": "python",
   "nbconvert_exporter": "python",
   "pygments_lexer": "ipython3",
   "version": "3.9.13"
  },
  "orig_nbformat": 4,
  "vscode": {
   "interpreter": {
    "hash": "2469a70536e4d2335a2ea8907942d0699c37342a371ac185bdb5b0aa6f073890"
   }
  }
 },
 "nbformat": 4,
 "nbformat_minor": 2
}
