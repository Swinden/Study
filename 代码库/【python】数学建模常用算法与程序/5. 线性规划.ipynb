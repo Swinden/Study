{
 "cells": [
  {
   "cell_type": "code",
   "execution_count": 1,
   "metadata": {},
   "outputs": [
    {
     "data": {
      "image/png": "[encoded data removed]",
      "text/plain": [
       "<Figure size 432x288 with 1 Axes>"
      ]
     },
     "metadata": {
      "needs_background": "light"
     },
     "output_type": "display_data"
    }
   ],
   "source": [
    "import matplotlib.pyplot as plt\n",
    "from numpy import ones, diag, c_, zeros\n",
    "from scipy.optimize import linprog\n",
    "\n",
    "\n",
    "\n",
    "plt.rc('text',usetex=True); plt.rc('font',size=16)\n",
    "c = [-0.05,-0.27,-0.19,-0.185,-0.185]\n",
    "A = c_[zeros(4),diag([0.025,0.015,0.055,0.026])]\n",
    "Aeq =[[1,1.01,1.02,1.045,1.065]]; beq = [1]\n",
    "a=0; aa=[]; ss=[];\n",
    "\n",
    "while a<0.05:\n",
    "    b = ones(4)*a\n",
    "    res = linprog(c,A,b,Aeq,beq)\n",
    "    x = res.x; Q = -res.fun\n",
    "    aa.append(a); ss.append(Q) #把最优值都保存起来\n",
    "    a = a+0.001\n",
    "\n",
    "\n",
    "plt.plot(aa,ss,'r*')\n",
    "plt.xlabel('$a$'); plt.ylabel('$Q$',rotation=90)\n",
    "plt.savefig('./线性规划/figure5_1_1.png',dpi=500); plt.show()"
   ]
  },
  {
   "cell_type": "code",
   "execution_count": 1,
   "metadata": {},
   "outputs": [
    {
     "data": {
      "image/png": "[encoded data removed]",
      "text/plain": [
       "<Figure size 432x288 with 1 Axes>"
      ]
     },
     "metadata": {
      "needs_background": "light"
     },
     "output_type": "display_data"
    }
   ],
   "source": [
    "import pylab as plt\n",
    "import numpy as np\n",
    "import cvxpy as cp\n",
    "\n",
    "\n",
    "\n",
    "plt.rc('text',usetex=True); plt.rc('font',size=16)\n",
    "x=cp.Variable(6,pos=True)\n",
    "obj=cp.Minimize(x[5])\n",
    "a1=np.array([0.025, 0.015, 0.055, 0.026])\n",
    "a2=np.array([0.05, 0.27, 0.19, 0.185, 0.185])\n",
    "a3=np.array([1, 1.01, 1.02, 1.045, 1.065])\n",
    "k=0.05; kk=[]; ss=[]\n",
    "\n",
    "while k<0.27:\n",
    "    con=[cp.multiply(a1,x[1:5])-x[5]<=0,\n",
    "         a2@x[:-1]>=k, a3@x[:-1]==1]\n",
    "    prob=cp.Problem(obj,con)\n",
    "    prob.solve(solver='GLPK_MI')\n",
    "    kk.append(k); ss.append(prob.value)\n",
    "    k=k+0.005\n",
    "\n",
    "\n",
    "plt.plot(kk,ss,'r*')\n",
    "plt.xlabel('$k$'); plt.ylabel('$R$',rotation=90)\n",
    "plt.savefig('./线性规划/figure5_1_2.png',dpi=500); plt.show()"
   ]
  },
  {
   "cell_type": "code",
   "execution_count": 2,
   "metadata": {},
   "outputs": [
    {
     "name": "stdout",
     "output_type": "stream",
     "text": [
      "[-0.          0.30887428  0.51479046  0.1403974   0.01524453  0.00772186] \n",
      "\n",
      "0.007721856950851832\n"
     ]
    }
   ],
   "source": [
    "import pylab as plt\n",
    "import numpy as np\n",
    "import cvxpy as cp\n",
    "\n",
    "\n",
    "\n",
    "#plt.rc('text',usetex=True); plt.rc('font',size=16)\n",
    "x=cp.Variable(6,pos=True)\n",
    "obj=cp.Minimize(x[5])\n",
    "a1=np.array([0.025, 0.015, 0.055, 0.026])\n",
    "a2=np.array([0.05, 0.27, 0.19, 0.185, 0.185])\n",
    "a3=np.array([1, 1.01, 1.02, 1.045, 1.065])\n",
    "k=0.21; kk=[]; ss=[]\n",
    "con=[cp.multiply(a1,x[1:5])-x[5]<=0,\n",
    "    a2@x[:-1]>=0.21, a3@x[:-1]==1]\n",
    "prob=cp.Problem(obj,con)\n",
    "prob.solve(solver='GLPK_MI')\n",
    "print(x.value,'\\n'); print(prob.value)"
   ]
  },
  {
   "cell_type": "code",
   "execution_count": 3,
   "metadata": {},
   "outputs": [
    {
     "name": "stdout",
     "output_type": "stream",
     "text": [
      "目标函数的最小值： -21.99999984082494\n",
      "最优解为： [ 9.99999989 -2.99999999]\n"
     ]
    }
   ],
   "source": [
    "from scipy.optimize import linprog\n",
    "\n",
    "\n",
    "\n",
    "c = [-1, 4]; A = [[-3, 1], [1, 2]]\n",
    "b = [6, 4]; bound=((None,None),(-3,None))\n",
    "res=linprog(c,A,b,None,None,bound)\n",
    "print(\"目标函数的最小值：\",res.fun)\n",
    "print(\"最优解为：\",res.x)"
   ]
  },
  {
   "cell_type": "code",
   "execution_count": 4,
   "metadata": {},
   "outputs": [
    {
     "name": "stdout",
     "output_type": "stream",
     "text": [
      "目标函数的最小值： 0.40000000065269975\n",
      "最优解为： [-1.60000000e+00  8.29674988e-11 -4.00000000e-01]\n"
     ]
    }
   ],
   "source": [
    "from scipy.optimize import linprog\n",
    "\n",
    "\n",
    "\n",
    "\n",
    "c=[-1, 2, 3]; A = [[-2, 1, 1], [3, -1, -2]]\n",
    "b=[[9], [-4]]; Aeq=[[4, -2, -1]]; beq=[-6]\n",
    "LB=[-10, 0, None];\n",
    "UB=[None]*len(c)  #生成3个None的列表\n",
    "bound=tuple(zip(LB, UB))  #生成决策向量界限的元组\n",
    "res=linprog(c,A,b,Aeq,beq,bound)\n",
    "print(\"目标函数的最小值：\",res.fun)\n",
    "print(\"最优解为：\",res.x)"
   ]
  },
  {
   "cell_type": "code",
   "execution_count": 5,
   "metadata": {},
   "outputs": [
    {
     "name": "stdout",
     "output_type": "stream",
     "text": [
      "目标函数的最小值： 0.40000000065269975\n",
      "最优解为： [-1.60000000e+00  8.29674988e-11 -4.00000000e-01]\n"
     ]
    }
   ],
   "source": [
    "from scipy.optimize import linprog\n",
    "import numpy as np\n",
    "\n",
    "\n",
    "c=np.array([1, -2, -3])  #为了下面取相反数，这里使用数组\n",
    "A =[[-2, 1, 1], [3, -1, -2]]\n",
    "b=[[9], [-4]]; Aeq=[[4, -2, -1]]; beq=[-6]\n",
    "LB=[-10, 0, None];\n",
    "UB=[None]*len(c)  #生成3个None的列表\n",
    "bound=tuple(zip(LB, UB))  #生成决策向量界限的元组\n",
    "res=linprog(-c,A,b,Aeq,beq,bound)\n",
    "print(\"目标函数的最小值：\",res.fun)\n",
    "print(\"最优解为：\",res.x)"
   ]
  },
  {
   "cell_type": "code",
   "execution_count": 6,
   "metadata": {},
   "outputs": [
    {
     "name": "stdout",
     "output_type": "stream",
     "text": [
      "目标函数的最小值： -17592.592317631676\n",
      "最优解为： [1.59259257e+02 4.07407403e+01 8.86007774e-09 2.49999996e+02\n",
      " 2.64755824e-07 4.49999993e+02]\n"
     ]
    }
   ],
   "source": [
    "from scipy.optimize import linprog\n",
    "\n",
    "\n",
    "\n",
    "\n",
    "c=[110, 120, 130, 110, 115,-150]    #目标向量\n",
    "A =[[1,1,0,0,0, 0],[0,0,1,1,1,0],[8.8,6.1,2.0,4.2,5.0,-6],[-8.8,-6.1,-2.0,-4.2,-5.0,3]]\n",
    "b=[[200],[250],[0],[0]]; Aeq=[[1,1,1,1,1,-1]]; beq=[0]\n",
    "res=linprog(c,A,b,Aeq,beq)\n",
    "print(\"目标函数的最小值：\",res.fun)\n",
    "print(\"最优解为：\",res.x)"
   ]
  },
  {
   "cell_type": "code",
   "execution_count": 7,
   "metadata": {},
   "outputs": [
    {
     "name": "stdout",
     "output_type": "stream",
     "text": [
      "     pcost       dcost       gap    pres   dres   k/t\n",
      " 0: -8.1000e+00 -1.8300e+01  4e+00  0e+00  8e-01  1e+00\n",
      " 1: -8.8055e+00 -9.4357e+00  2e-01  2e-16  4e-02  3e-02\n",
      " 2: -8.9981e+00 -9.0049e+00  2e-03  3e-16  5e-04  4e-04\n",
      " 3: -9.0000e+00 -9.0000e+00  2e-05  9e-17  5e-06  4e-06\n",
      " 4: -9.0000e+00 -9.0000e+00  2e-07  9e-17  5e-08  4e-08\n",
      "Optimal solution found.\n",
      "最优解为：\n",
      " [ 1.00e+00]\n",
      "[ 1.00e+00]\n",
      "\n",
      "最优值为： -8.99999981140672\n"
     ]
    }
   ],
   "source": [
    "import numpy as np\n",
    "from cvxopt import matrix, solvers\n",
    "\n",
    "\n",
    "\n",
    "c=matrix([-4.,-5]); A=matrix([[2.,1],[1,2],[-1,0],[0,-1]]).T\n",
    "b=matrix([3.,3,0,0]); sol=solvers.lp(c,A,b)\n",
    "print(\"最优解为：\\n\",sol['x'])\n",
    "print(\"最优值为：\",sol['primal objective'])"
   ]
  },
  {
   "cell_type": "code",
   "execution_count": 8,
   "metadata": {},
   "outputs": [
    {
     "name": "stdout",
     "output_type": "stream",
     "text": [
      "     pcost       dcost       gap    pres   dres   k/t\n",
      " 0:  5.5556e+00  1.2222e+00  1e+01  0e+00  2e+00  1e+00\n",
      " 1:  4.6038e+00  3.7995e+00  2e+00  2e-16  4e-01  2e-01\n",
      " 2:  2.5229e+00  2.4639e+00  2e-01  3e-16  4e-02  4e-02\n",
      " 3:  2.5002e+00  2.4997e+00  2e-03  4e-16  4e-04  4e-04\n",
      " 4:  2.5000e+00  2.5000e+00  2e-05  6e-17  4e-06  4e-06\n",
      " 5:  2.5000e+00  2.5000e+00  2e-07  7e-16  4e-08  4e-08\n",
      "Optimal solution found.\n",
      "最优解为：\n",
      " [ 5.00e-01]\n",
      "[ 1.50e+00]\n",
      "\n",
      "最优值为： 2.500000024611048\n"
     ]
    }
   ],
   "source": [
    "import numpy\n",
    "from cvxopt import matrix, solvers\n",
    "\n",
    "\n",
    "\n",
    "c=matrix([2.,1]); A=matrix([[-1.,1],[-1,-1],[1,-2],[0,-1]]).T\n",
    "b=matrix([1.,-2,4,0]); Aeq=matrix([1.,2],(1,2)) #Aeq为行向量\n",
    "beq=matrix(3.5); sol=solvers.lp(c,A,b,Aeq,beq)\n",
    "print(\"最优解为：\\n\",sol['x'])\n",
    "print(\"最优值为：\",sol['primal objective'])"
   ]
  },
  {
   "cell_type": "code",
   "execution_count": 9,
   "metadata": {},
   "outputs": [
    {
     "name": "stdout",
     "output_type": "stream",
     "text": [
      "===============================================================================\n",
      "                                     CVXPY                                     \n",
      "                                     v1.2.0                                    \n",
      "===============================================================================\n",
      "(CVXPY) Aug 12 06:18:23 PM: Your problem has 48 variables, 3 constraints, and 0 parameters.\n",
      "(CVXPY) Aug 12 06:18:23 PM: It is compliant with the following grammars: DCP, DQCP\n",
      "(CVXPY) Aug 12 06:18:23 PM: (If you need to solve this problem multiple times, but with different data, consider using parameters.)\n",
      "(CVXPY) Aug 12 06:18:23 PM: CVXPY will first compile your problem; then, it will invoke a numerical solver to obtain a solution.\n",
      "-------------------------------------------------------------------------------\n",
      "                                  Compilation                                  \n",
      "-------------------------------------------------------------------------------\n",
      "(CVXPY) Aug 12 06:18:23 PM: Compiling problem (target solver=GLPK_MI).\n",
      "(CVXPY) Aug 12 06:18:23 PM: Reduction chain: Dcp2Cone -> CvxAttr2Constr -> ConeMatrixStuffing -> GLPK_MI\n",
      "(CVXPY) Aug 12 06:18:23 PM: Applying reduction Dcp2Cone\n",
      "(CVXPY) Aug 12 06:18:23 PM: Applying reduction CvxAttr2Constr\n",
      "(CVXPY) Aug 12 06:18:23 PM: Applying reduction ConeMatrixStuffing\n",
      "(CVXPY) Aug 12 06:18:23 PM: Applying reduction GLPK_MI\n",
      "(CVXPY) Aug 12 06:18:23 PM: Finished problem compilation (took 1.000e-02 seconds).\n",
      "-------------------------------------------------------------------------------\n",
      "                                Numerical solver                               \n",
      "-------------------------------------------------------------------------------\n",
      "(CVXPY) Aug 12 06:18:23 PM: Invoking solver GLPK_MI  to obtain a solution.\n",
      "-------------------------------------------------------------------------------\n",
      "                                    Summary                                    \n",
      "-------------------------------------------------------------------------------\n",
      "(CVXPY) Aug 12 06:18:23 PM: Problem status: optimal\n",
      "(CVXPY) Aug 12 06:18:23 PM: Optimal value: 6.640e+02\n",
      "(CVXPY) Aug 12 06:18:23 PM: Compilation took 1.000e-02 seconds\n",
      "(CVXPY) Aug 12 06:18:23 PM: Solver (including time spent in interface) took 9.906e-04 seconds\n",
      "最优值为： 664.0\n",
      "最优解为：\n",
      " [[-0. 19. -0. -0. 41. -0. -0. -0.]\n",
      " [-0. -0. -0. 32. -0. -0. -0.  1.]\n",
      " [-0. 12. 22. -0. -0. -0. 17. -0.]\n",
      " [-0. -0. -0. -0. -0.  6. -0. 37.]\n",
      " [35.  6. -0. -0. -0. -0. -0. -0.]\n",
      " [-0. -0. -0. -0. -0. 26. 26. -0.]]\n"
     ]
    }
   ],
   "source": [
    "import cvxpy as cp\n",
    "import numpy as np\n",
    "import pandas as pd\n",
    "\n",
    "\n",
    "\n",
    "d1=pd.read_excel(\"./数据集/Pdata5_6.xlsx\",header=None)\n",
    "d2=d1.values; c=d2[:-1,:-1]\n",
    "d=d2[-1,:-1].reshape(1,-1); e=d2[:-1,-1].reshape(-1,1)\n",
    "x=cp.Variable((6,8))\n",
    "obj=cp.Minimize(cp.sum(cp.multiply(c,x)))  #构造目标函数\n",
    "con=[cp.sum(x,axis=1,keepdims=True)<=e,\n",
    "cp.sum(x,axis=0,keepdims=True)==d,x>=0]  #构造约束条件\n",
    "prob=cp.Problem(obj,con)  #构造模型\n",
    "prob.solve(solver='GLPK_MI',verbose =True)    #求解模型\n",
    "print(\"最优值为：\",prob.value)\n",
    "print(\"最优解为：\\n\",x.value)"
   ]
  },
  {
   "cell_type": "code",
   "execution_count": 10,
   "metadata": {},
   "outputs": [
    {
     "name": "stdout",
     "output_type": "stream",
     "text": [
      "Optimization terminated successfully.\n",
      "         Current function value: -3360.000000\n",
      "         Iterations: 4\n",
      "求解结果如下：      con: array([], dtype=float64)\n",
      "     fun: -3360.0\n",
      " message: 'Optimization terminated successfully.'\n",
      "     nit: 4\n",
      "   slack: array([0., 0.])\n",
      "  status: 0\n",
      " success: True\n",
      "       x: array([20., 30.])\n"
     ]
    }
   ],
   "source": [
    "from scipy.optimize import linprog\n",
    "\n",
    "\n",
    "\n",
    "c=[-72, -64]    #目标向量\n",
    "A =[[1, 1],[12, 8]]; b=[[50],[480]]\n",
    "bound=((0,100/3.0),(0,None))\n",
    "res=linprog(c,A,b,None,None,bound,method='simplex',options={\"disp\": True})\n",
    "print(\"求解结果如下：\",res)"
   ]
  },
  {
   "cell_type": "code",
   "execution_count": 11,
   "metadata": {},
   "outputs": [
    {
     "name": "stdout",
     "output_type": "stream",
     "text": [
      "Optimization terminated successfully.\n",
      "         Current function value: -3720.000000\n",
      "         Iterations: 4\n",
      "求解结果如下：      con: array([], dtype=float64)\n",
      "     fun: -3720.0\n",
      " message: 'Optimization terminated successfully.'\n",
      "     nit: 4\n",
      "   slack: array([0., 0.])\n",
      "  status: 0\n",
      " success: True\n",
      "       x: array([20., 30.])\n"
     ]
    }
   ],
   "source": [
    "from scipy.optimize import linprog\n",
    "\n",
    "\n",
    "\n",
    "c=[-90, -64]    #目标向量\n",
    "A =[[1, 1],[12, 8]]; b=[[50],[480]]\n",
    "bound=((0,100/3.0),(0,None))\n",
    "res=linprog(c,A,b,None,None,bound,method='simplex',options={\"disp\": True})\n",
    "print(\"求解结果如下：\",res)"
   ]
  },
  {
   "cell_type": "code",
   "execution_count": null,
   "metadata": {},
   "outputs": [],
   "source": []
  }
 ],
 "metadata": {
  "kernelspec": {
   "display_name": "Python 3.8.13 ('base')",
   "language": "python",
   "name": "python3"
  },
  "language_info": {
   "codemirror_mode": {
    "name": "ipython",
    "version": 3
   },
   "file_extension": ".py",
   "mimetype": "text/x-python",
   "name": "python",
   "nbconvert_exporter": "python",
   "pygments_lexer": "ipython3",
   "version": "3.8.13"
  },
  "orig_nbformat": 4,
  "vscode": {
   "interpreter": {
    "hash": "b09ec625f77bf4fd762565a912b97636504ad6ec901eb2d0f4cf5a7de23e1ee5"
   }
  }
 },
 "nbformat": 4,
 "nbformat_minor": 2
}
