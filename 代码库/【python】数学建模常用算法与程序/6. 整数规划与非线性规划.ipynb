{
 "cells": [
  {
   "cell_type": "code",
   "execution_count": 2,
   "metadata": {},
   "outputs": [],
   "source": [
    "import numpy as np\n",
    "import pandas as pd\n",
    "\n",
    "\n",
    "\n",
    "x0=np.array([150, 85, 150, 145, 130, 0])\n",
    "y0=np.array([140, 85, 155, 50, 150, 0])\n",
    "q=np.array([243, 236, 220.5, 159, 230, 52])\n",
    "d=np.zeros((6,6)); a0=np.zeros((6,6)); b0=np.zeros((6,6))\n",
    "xy0=np.c_[x0,y0]\n",
    "\n",
    "\n",
    "for i in range(6):\n",
    "    for j in range(6):\n",
    "        d[i,j]=np.linalg.norm(xy0[i]-xy0[j])\n",
    "\n",
    "\n",
    "d[np.where(d==0)]=np.inf\n",
    "a0=np.arcsin(8./d)*180/np.pi\n",
    "xy1=x0+1j*y0; xy2=np.exp(1j*q*np.pi/180)\n",
    "\n",
    "\n",
    "for m in range(6):\n",
    "    for n in range(6):\n",
    "        if n!=m:\n",
    "            b0[m,n]=np.angle((xy2[n]-xy2[m])/(xy1[m]-xy1[n]))\n",
    "b0=b0*180/np.pi\n",
    "f=pd.ExcelWriter('./整数规划与非线性规划/Pan6_1.xlsx')  #创建文件对象\n",
    "pd.DataFrame(a0).to_excel(f,\"sheet1\",index=None)  #把a0写入Excel文件\n",
    "pd.DataFrame(b0).to_excel(f,\"sheet2\",index=None)  #把b0写入表单2\n",
    "f.save()"
   ]
  },
  {
   "cell_type": "code",
   "execution_count": 4,
   "metadata": {},
   "outputs": [
    {
     "name": "stdout",
     "output_type": "stream",
     "text": [
      "     fun: 0.7909172985328354\n",
      "     jac: array([-1., -1., -1., -1.,  1.,  1.])\n",
      " message: 'Optimization terminated successfully'\n",
      "    nfev: 54\n",
      "     nit: 6\n",
      "    njev: 6\n",
      "  status: 0\n",
      " success: True\n",
      "       x: array([2.53262997e-07, 2.53262998e-07, 2.53262998e-07, 2.53262998e-07,\n",
      "       3.95458143e-01, 3.95458143e-01])\n"
     ]
    }
   ],
   "source": [
    "import numpy as np\n",
    "import pandas as pd\n",
    "from scipy.optimize import minimize\n",
    "a0=pd.read_excel(\"./整数规划与非线性规划/Pan6_1.xlsx\")    #读入第1个表单\n",
    "b0=pd.read_excel(\"./整数规划与非线性规划/Pan6_1.xlsx\",1)  #读入第2个表单\n",
    "a0=a0.values; b0=b0.values  #提取数值\n",
    "obj=lambda x: np.sum(np.abs(x))\n",
    "bd=[(-30,30) for i in range(6)]   #决策向量的界限\n",
    "x0=np.ones((1,6))\n",
    "\n",
    "cons=[]\n",
    "for i in range(5):\n",
    "    for j in range(i+1,6):\n",
    "        cons.append({'type': 'ineq', 'fun': lambda x: np.abs(b0[i,j]+(x[i]+x[j])/2)-a0[i,j]})\n",
    "\n",
    "res = minimize(obj, np.ones((1, 6)), constraints=cons, bounds=bd)\n",
    "print(res)"
   ]
  },
  {
   "cell_type": "code",
   "execution_count": 5,
   "metadata": {},
   "outputs": [
    {
     "name": "stdout",
     "output_type": "stream",
     "text": [
      "===============================================================================\n",
      "                                     CVXPY                                     \n",
      "                                     v1.2.0                                    \n",
      "===============================================================================\n",
      "(CVXPY) Aug 12 07:08:20 PM: Your problem has 2 variables, 2 constraints, and 0 parameters.\n",
      "(CVXPY) Aug 12 07:08:20 PM: It is compliant with the following grammars: DCP, DQCP\n",
      "(CVXPY) Aug 12 07:08:20 PM: (If you need to solve this problem multiple times, but with different data, consider using parameters.)\n",
      "(CVXPY) Aug 12 07:08:20 PM: CVXPY will first compile your problem; then, it will invoke a numerical solver to obtain a solution.\n",
      "-------------------------------------------------------------------------------\n",
      "                                  Compilation                                  \n",
      "-------------------------------------------------------------------------------\n",
      "(CVXPY) Aug 12 07:08:20 PM: Compiling problem (target solver=GLPK_MI).\n",
      "(CVXPY) Aug 12 07:08:20 PM: Reduction chain: Dcp2Cone -> CvxAttr2Constr -> ConeMatrixStuffing -> GLPK_MI\n",
      "(CVXPY) Aug 12 07:08:20 PM: Applying reduction Dcp2Cone\n",
      "(CVXPY) Aug 12 07:08:20 PM: Applying reduction CvxAttr2Constr\n",
      "(CVXPY) Aug 12 07:08:20 PM: Applying reduction ConeMatrixStuffing\n",
      "(CVXPY) Aug 12 07:08:20 PM: Applying reduction GLPK_MI\n",
      "(CVXPY) Aug 12 07:08:20 PM: Finished problem compilation (took 1.658e-02 seconds).\n",
      "-------------------------------------------------------------------------------\n",
      "                                Numerical solver                               \n",
      "-------------------------------------------------------------------------------\n",
      "(CVXPY) Aug 12 07:08:20 PM: Invoking solver GLPK_MI  to obtain a solution.\n",
      "-------------------------------------------------------------------------------\n",
      "                                    Summary                                    \n",
      "-------------------------------------------------------------------------------\n",
      "(CVXPY) Aug 12 07:08:20 PM: Problem status: optimal\n",
      "(CVXPY) Aug 12 07:08:20 PM: Optimal value: 3.500e+02\n",
      "(CVXPY) Aug 12 07:08:20 PM: Compilation took 1.658e-02 seconds\n",
      "(CVXPY) Aug 12 07:08:20 PM: Solver (including time spent in interface) took 0.000e+00 seconds\n",
      "最优值为: 350.0\n",
      "最优解为：\n",
      " [2. 3.]\n"
     ]
    },
    {
     "name": "stderr",
     "output_type": "stream",
     "text": [
      "d:\\Anaconda3\\lib\\site-packages\\cvxpy\\expressions\\expression.py:593: UserWarning: \n",
      "This use of ``*`` has resulted in matrix multiplication.\n",
      "Using ``*`` for matrix multiplication has been deprecated since CVXPY 1.1.\n",
      "    Use ``*`` for matrix-scalar and vector-scalar multiplication.\n",
      "    Use ``@`` for matrix-matrix and matrix-vector multiplication.\n",
      "    Use ``multiply`` for elementwise multiplication.\n",
      "This code path has been hit 1 times so far.\n",
      "\n",
      "  warnings.warn(msg, UserWarning)\n",
      "d:\\Anaconda3\\lib\\site-packages\\cvxpy\\expressions\\expression.py:593: UserWarning: \n",
      "This use of ``*`` has resulted in matrix multiplication.\n",
      "Using ``*`` for matrix multiplication has been deprecated since CVXPY 1.1.\n",
      "    Use ``*`` for matrix-scalar and vector-scalar multiplication.\n",
      "    Use ``@`` for matrix-matrix and matrix-vector multiplication.\n",
      "    Use ``multiply`` for elementwise multiplication.\n",
      "This code path has been hit 2 times so far.\n",
      "\n",
      "  warnings.warn(msg, UserWarning)\n"
     ]
    }
   ],
   "source": [
    "import cvxpy as cp\n",
    "from numpy import array\n",
    "\n",
    "\n",
    "c=array([40,90])  #定义目标向量\n",
    "a=array([[9,7],[-7,-20]])  #定义约束矩阵\n",
    "b=array([56,-70])  #定义约束条件的右边向量\n",
    "x=cp.Variable(2,integer=True)  #定义两个整数决策变量\n",
    "obj=cp.Minimize(c*x)  #构造目标函数\n",
    "cons=[a*x<=b, x>=0]    #构造约束条件\n",
    "prob=cp.Problem(obj, cons)  #构建问题模型\n",
    "prob.solve(solver='GLPK_MI',verbose =True)  #求解问题\n",
    "print(\"最优值为:\",prob.value)\n",
    "print(\"最优解为：\\n\",x.value)"
   ]
  },
  {
   "cell_type": "code",
   "execution_count": 6,
   "metadata": {},
   "outputs": [
    {
     "name": "stdout",
     "output_type": "stream",
     "text": [
      "最优值为: 34.0\n",
      "最优解为：\n",
      " [[0. 0. 1. 0. 0.]\n",
      " [0. 1. 0. 0. 0.]\n",
      " [1. 0. 0. 0. 0.]\n",
      " [0. 0. 0. 1. 0.]\n",
      " [0. 0. 0. 0. 1.]]\n"
     ]
    }
   ],
   "source": [
    "import cvxpy as cp\n",
    "import numpy as np\n",
    "\n",
    "\n",
    "\n",
    "c=np.array([[4, 8, 7, 15, 12],\n",
    "            [7, 9, 17, 14, 10],\n",
    "            [6, 9, 12, 8, 7],\n",
    "            [6, 7, 14, 6, 10],\n",
    "            [6, 9, 12, 10, 6]])\n",
    "x = cp.Variable((5,5),integer=True)\n",
    "obj = cp.Minimize(cp.sum(cp.multiply(c,x)))\n",
    "con= [0 <= x, x <= 1, cp.sum(x, axis=0, keepdims=True)==1,\\\n",
    "    cp.sum(x, axis=1, keepdims=True)==1]\n",
    "prob = cp.Problem(obj, con)\n",
    "prob.solve(solver='GLPK_MI')\n",
    "print(\"最优值为:\",prob.value)\n",
    "print(\"最优解为：\\n\",x.value)\n"
   ]
  },
  {
   "cell_type": "code",
   "execution_count": 7,
   "metadata": {},
   "outputs": [
    {
     "name": "stdout",
     "output_type": "stream",
     "text": [
      "===============================================================================\n",
      "                                     CVXPY                                     \n",
      "                                     v1.2.0                                    \n",
      "===============================================================================\n",
      "(CVXPY) Aug 12 08:08:39 PM: Your problem has 14 variables, 5 constraints, and 0 parameters.\n",
      "(CVXPY) Aug 12 08:08:39 PM: It is compliant with the following grammars: DCP, DQCP\n",
      "(CVXPY) Aug 12 08:08:39 PM: (If you need to solve this problem multiple times, but with different data, consider using parameters.)\n",
      "(CVXPY) Aug 12 08:08:39 PM: CVXPY will first compile your problem; then, it will invoke a numerical solver to obtain a solution.\n",
      "-------------------------------------------------------------------------------\n",
      "                                  Compilation                                  \n",
      "-------------------------------------------------------------------------------\n",
      "(CVXPY) Aug 12 08:08:39 PM: Compiling problem (target solver=GLPK_MI).\n",
      "(CVXPY) Aug 12 08:08:39 PM: Reduction chain: FlipObjective -> Dcp2Cone -> CvxAttr2Constr -> ConeMatrixStuffing -> GLPK_MI\n",
      "(CVXPY) Aug 12 08:08:39 PM: Applying reduction FlipObjective\n",
      "(CVXPY) Aug 12 08:08:39 PM: Applying reduction Dcp2Cone\n",
      "(CVXPY) Aug 12 08:08:39 PM: Applying reduction CvxAttr2Constr\n",
      "(CVXPY) Aug 12 08:08:39 PM: Applying reduction ConeMatrixStuffing\n",
      "(CVXPY) Aug 12 08:08:39 PM: Applying reduction GLPK_MI\n",
      "(CVXPY) Aug 12 08:08:39 PM: Finished problem compilation (took 1.445e-02 seconds).\n",
      "-------------------------------------------------------------------------------\n",
      "                                Numerical solver                               \n",
      "-------------------------------------------------------------------------------\n",
      "(CVXPY) Aug 12 08:08:39 PM: Invoking solver GLPK_MI  to obtain a solution.\n"
     ]
    },
    {
     "name": "stderr",
     "output_type": "stream",
     "text": [
      "d:\\Anaconda3\\lib\\site-packages\\cvxpy\\expressions\\expression.py:593: UserWarning: \n",
      "This use of ``*`` has resulted in matrix multiplication.\n",
      "Using ``*`` for matrix multiplication has been deprecated since CVXPY 1.1.\n",
      "    Use ``*`` for matrix-scalar and vector-scalar multiplication.\n",
      "    Use ``@`` for matrix-matrix and matrix-vector multiplication.\n",
      "    Use ``multiply`` for elementwise multiplication.\n",
      "This code path has been hit 3 times so far.\n",
      "\n",
      "  warnings.warn(msg, UserWarning)\n",
      "d:\\Anaconda3\\lib\\site-packages\\cvxpy\\expressions\\expression.py:593: UserWarning: \n",
      "This use of ``*`` has resulted in matrix multiplication.\n",
      "Using ``*`` for matrix multiplication has been deprecated since CVXPY 1.1.\n",
      "    Use ``*`` for matrix-scalar and vector-scalar multiplication.\n",
      "    Use ``@`` for matrix-matrix and matrix-vector multiplication.\n",
      "    Use ``multiply`` for elementwise multiplication.\n",
      "This code path has been hit 4 times so far.\n",
      "\n",
      "  warnings.warn(msg, UserWarning)\n",
      "d:\\Anaconda3\\lib\\site-packages\\cvxpy\\expressions\\expression.py:593: UserWarning: \n",
      "This use of ``*`` has resulted in matrix multiplication.\n",
      "Using ``*`` for matrix multiplication has been deprecated since CVXPY 1.1.\n",
      "    Use ``*`` for matrix-scalar and vector-scalar multiplication.\n",
      "    Use ``@`` for matrix-matrix and matrix-vector multiplication.\n",
      "    Use ``multiply`` for elementwise multiplication.\n",
      "This code path has been hit 5 times so far.\n",
      "\n",
      "  warnings.warn(msg, UserWarning)\n",
      "d:\\Anaconda3\\lib\\site-packages\\cvxpy\\expressions\\expression.py:593: UserWarning: \n",
      "This use of ``*`` has resulted in matrix multiplication.\n",
      "Using ``*`` for matrix multiplication has been deprecated since CVXPY 1.1.\n",
      "    Use ``*`` for matrix-scalar and vector-scalar multiplication.\n",
      "    Use ``@`` for matrix-matrix and matrix-vector multiplication.\n",
      "    Use ``multiply`` for elementwise multiplication.\n",
      "This code path has been hit 6 times so far.\n",
      "\n",
      "  warnings.warn(msg, UserWarning)\n"
     ]
    },
    {
     "name": "stdout",
     "output_type": "stream",
     "text": [
      "-------------------------------------------------------------------------------\n",
      "                                    Summary                                    \n",
      "-------------------------------------------------------------------------------\n",
      "(CVXPY) Aug 12 08:08:40 PM: Problem status: optimal\n",
      "(CVXPY) Aug 12 08:08:40 PM: Optimal value: 2.039e+03\n",
      "(CVXPY) Aug 12 08:08:40 PM: Compilation took 1.445e-02 seconds\n",
      "(CVXPY) Aug 12 08:08:40 PM: Solver (including time spent in interface) took 9.465e-01 seconds\n",
      "最优值为: 2039.4\n",
      "最优解为：\n",
      " [[4. 1. 5. 3. 3. 2. 0.]\n",
      " [4. 6. 4. 3. 0. 1. 0.]]\n"
     ]
    }
   ],
   "source": [
    "import cvxpy as cp\n",
    "import numpy as np\n",
    "\n",
    "\n",
    "\n",
    "L=np.array([48.7,52.0,61.3,72.0,48.7,52.0,64.0])\n",
    "w=np.array([2000,3000,1000,500,4000,2000,1000])\n",
    "a=np.array([8,7,9,6,6,4,8])\n",
    "x=cp.Variable((2,7), integer=True)\n",
    "obj=cp.Maximize(cp.sum(x*L))\n",
    "con=[cp.sum(x,axis=0,keepdims=True)<=a.reshape(1,7),\\\n",
    "    x*L<=1020, x*w<=40000, cp.sum(x[:,4:]*L[4:])<=302.7, x>=0]\n",
    "prob = cp.Problem(obj, con)\n",
    "prob.solve(solver='GLPK_MI',verbose =True)\n",
    "print(\"最优值为:\",prob.value)\n",
    "print(\"最优解为：\\n\",x.value)"
   ]
  },
  {
   "cell_type": "code",
   "execution_count": 8,
   "metadata": {},
   "outputs": [
    {
     "name": "stdout",
     "output_type": "stream",
     "text": [
      "===============================================================================\n",
      "                                     CVXPY                                     \n",
      "                                     v1.2.0                                    \n",
      "===============================================================================\n",
      "(CVXPY) Aug 12 08:21:00 PM: Your problem has 14 variables, 5 constraints, and 0 parameters.\n",
      "(CVXPY) Aug 12 08:21:00 PM: It is compliant with the following grammars: DCP, DQCP\n",
      "(CVXPY) Aug 12 08:21:00 PM: (If you need to solve this problem multiple times, but with different data, consider using parameters.)\n",
      "(CVXPY) Aug 12 08:21:00 PM: CVXPY will first compile your problem; then, it will invoke a numerical solver to obtain a solution.\n",
      "-------------------------------------------------------------------------------\n",
      "                                  Compilation                                  \n",
      "-------------------------------------------------------------------------------\n",
      "(CVXPY) Aug 12 08:21:00 PM: Compiling problem (target solver=GLPK_MI).\n",
      "(CVXPY) Aug 12 08:21:00 PM: Reduction chain: FlipObjective -> Dcp2Cone -> CvxAttr2Constr -> ConeMatrixStuffing -> GLPK_MI\n",
      "(CVXPY) Aug 12 08:21:00 PM: Applying reduction FlipObjective\n",
      "(CVXPY) Aug 12 08:21:00 PM: Applying reduction Dcp2Cone\n",
      "(CVXPY) Aug 12 08:21:00 PM: Applying reduction CvxAttr2Constr\n",
      "(CVXPY) Aug 12 08:21:00 PM: Applying reduction ConeMatrixStuffing\n",
      "(CVXPY) Aug 12 08:21:00 PM: Applying reduction GLPK_MI\n",
      "(CVXPY) Aug 12 08:21:00 PM: Finished problem compilation (took 2.269e-02 seconds).\n",
      "-------------------------------------------------------------------------------\n",
      "                                Numerical solver                               \n",
      "-------------------------------------------------------------------------------\n",
      "(CVXPY) Aug 12 08:21:00 PM: Invoking solver GLPK_MI  to obtain a solution.\n",
      "-------------------------------------------------------------------------------\n",
      "                                    Summary                                    \n",
      "-------------------------------------------------------------------------------\n",
      "(CVXPY) Aug 12 08:21:00 PM: Problem status: optimal\n",
      "(CVXPY) Aug 12 08:21:00 PM: Optimal value: 7.300e+04\n",
      "(CVXPY) Aug 12 08:21:00 PM: Compilation took 2.269e-02 seconds\n",
      "(CVXPY) Aug 12 08:21:00 PM: Solver (including time spent in interface) took 6.349e-04 seconds\n",
      "最优值为: 73000.0\n",
      "最优解为：\n",
      " [[6. 0. 0. 6. 6. 0. 0.]\n",
      " [2. 7. 9. 0. 0. 0. 0.]]\n"
     ]
    },
    {
     "name": "stderr",
     "output_type": "stream",
     "text": [
      "d:\\Anaconda3\\lib\\site-packages\\cvxpy\\expressions\\expression.py:593: UserWarning: \n",
      "This use of ``*`` has resulted in matrix multiplication.\n",
      "Using ``*`` for matrix multiplication has been deprecated since CVXPY 1.1.\n",
      "    Use ``*`` for matrix-scalar and vector-scalar multiplication.\n",
      "    Use ``@`` for matrix-matrix and matrix-vector multiplication.\n",
      "    Use ``multiply`` for elementwise multiplication.\n",
      "This code path has been hit 7 times so far.\n",
      "\n",
      "  warnings.warn(msg, UserWarning)\n",
      "d:\\Anaconda3\\lib\\site-packages\\cvxpy\\expressions\\expression.py:593: UserWarning: \n",
      "This use of ``*`` has resulted in matrix multiplication.\n",
      "Using ``*`` for matrix multiplication has been deprecated since CVXPY 1.1.\n",
      "    Use ``*`` for matrix-scalar and vector-scalar multiplication.\n",
      "    Use ``@`` for matrix-matrix and matrix-vector multiplication.\n",
      "    Use ``multiply`` for elementwise multiplication.\n",
      "This code path has been hit 8 times so far.\n",
      "\n",
      "  warnings.warn(msg, UserWarning)\n",
      "d:\\Anaconda3\\lib\\site-packages\\cvxpy\\expressions\\expression.py:593: UserWarning: \n",
      "This use of ``*`` has resulted in matrix multiplication.\n",
      "Using ``*`` for matrix multiplication has been deprecated since CVXPY 1.1.\n",
      "    Use ``*`` for matrix-scalar and vector-scalar multiplication.\n",
      "    Use ``@`` for matrix-matrix and matrix-vector multiplication.\n",
      "    Use ``multiply`` for elementwise multiplication.\n",
      "This code path has been hit 9 times so far.\n",
      "\n",
      "  warnings.warn(msg, UserWarning)\n",
      "d:\\Anaconda3\\lib\\site-packages\\cvxpy\\expressions\\expression.py:593: UserWarning: \n",
      "This use of ``*`` has resulted in matrix multiplication.\n",
      "Using ``*`` for matrix multiplication has been deprecated since CVXPY 1.1.\n",
      "    Use ``*`` for matrix-scalar and vector-scalar multiplication.\n",
      "    Use ``@`` for matrix-matrix and matrix-vector multiplication.\n",
      "    Use ``multiply`` for elementwise multiplication.\n",
      "This code path has been hit 10 times so far.\n",
      "\n",
      "  warnings.warn(msg, UserWarning)\n"
     ]
    }
   ],
   "source": [
    "import cvxpy as cp\n",
    "import numpy as np\n",
    "\n",
    "\n",
    "\n",
    "L=np.array([48.7,52.0,61.3,72.0,48.7,52.0,64.0])\n",
    "w=np.array([2000,3000,1000,500,4000,2000,1000])\n",
    "a=np.array([8,7,9,6,6,4,8])\n",
    "x=cp.Variable((2,7), integer=True)\n",
    "obj=cp.Maximize(cp.sum(x*w))\n",
    "con=[cp.sum(x,axis=0,keepdims=True)<=a.reshape(1,7), \\\n",
    "    x*L<=1020, x*w<=40000, cp.sum(x[:,4:]*L[4:])<=302.7,x>=0]\n",
    "prob = cp.Problem(obj, con)\n",
    "prob.solve(solver='GLPK_MI',verbose =True)\n",
    "print(\"最优值为:\",prob.value)\n",
    "print(\"最优解为：\\n\",x.value)"
   ]
  },
  {
   "cell_type": "code",
   "execution_count": 9,
   "metadata": {},
   "outputs": [
    {
     "name": "stdout",
     "output_type": "stream",
     "text": [
      "-0.7736842105263159 \n",
      " True \n",
      " [0.9 0.9 0.1]\n"
     ]
    }
   ],
   "source": [
    "from scipy.optimize import minimize\n",
    "from numpy import ones\n",
    "\n",
    "\n",
    "def obj(x):\n",
    "    x1,x2,x3=x\n",
    "    return (2+x1)/(1+x2)-3*x1+4*x3\n",
    "\n",
    "\n",
    "LB=[0.1]*3; UB=[0.9]*3\n",
    "bound=tuple(zip(LB, UB))   #生成决策向量界限的元组\n",
    "res=minimize(obj,ones(3),bounds=bound) #第2个参数为初值\n",
    "print(res.fun,'\\n',res.success,'\\n',res.x)  #输出最优值、求解状态、最优解\n"
   ]
  },
  {
   "cell_type": "code",
   "execution_count": 10,
   "metadata": {},
   "outputs": [
    {
     "name": "stdout",
     "output_type": "stream",
     "text": [
      "     fun: -51629.930000636145\n",
      "     jac: array([ -93.        , -196.        ,    3.        , -791.        ,\n",
      "        -78.79980469])\n",
      " message: 'Optimization terminated successfully'\n",
      "    nfev: 36\n",
      "     nit: 5\n",
      "    njev: 4\n",
      "  status: 0\n",
      " success: True\n",
      "       x: array([50.5, 99. ,  0. , 99. , 20.2])\n"
     ]
    }
   ],
   "source": [
    "from scipy.optimize import minimize\n",
    "import numpy as np\n",
    "\n",
    "\n",
    "\n",
    "c1=np.array([1,1,3,4,2]); c2=np.array([-8,-2,-3,-1,-2])\n",
    "A=np.array([[1,1,1,1,1],[1,2,2,1,6],\n",
    "            [2,1,6,0,0],[0,0,1,1,5]])\n",
    "b=np.array([400,800,200,200])\n",
    "obj=lambda x: np.dot(-c1,x**2)+np.dot(-c2,x)\n",
    "cons={'type':'ineq','fun':lambda x:b-A@x}\n",
    "bd=[(0,99) for i in range(A.shape[1])]\n",
    "res=minimize(obj,np.ones(5)*90,constraints=cons,bounds=bd)\n",
    "print(res)  #输出解的信息"
   ]
  },
  {
   "cell_type": "code",
   "execution_count": 11,
   "metadata": {},
   "outputs": [
    {
     "name": "stdout",
     "output_type": "stream",
     "text": [
      "     pcost       dcost       gap    pres   dres\n",
      " 0: -1.3148e+01 -4.4315e+00  1e+01  1e+00  9e-01\n",
      " 1: -6.4674e+00 -7.5675e+00  1e+00  1e-16  2e-16\n",
      " 2: -7.1538e+00 -7.1854e+00  3e-02  0e+00  7e-16\n",
      " 3: -7.1758e+00 -7.1761e+00  3e-04  1e-16  1e-15\n",
      " 4: -7.1760e+00 -7.1760e+00  3e-06  1e-16  7e-16\n",
      "Optimal solution found.\n",
      "最优解为： [ 8.00e-01]\n",
      "[ 1.40e+00]\n",
      "[ 8.00e-01]\n",
      "\n",
      "最优值为： -7.175997768777275\n"
     ]
    }
   ],
   "source": [
    "import numpy as np\n",
    "from cvxopt import matrix,solvers\n",
    "\n",
    "\n",
    "\n",
    "n=3; P=matrix(0.,(n,n))\n",
    "P[::n+1]=[3,2,1.7]; q=matrix([3,-8.2,-1.95])\n",
    "A=matrix([[1.,0,1],[-1,2,0],[0,1,2]]).T\n",
    "b=matrix([2.,2,3])\n",
    "Aeq=matrix(1.,(1,n)); beq=matrix(3.)\n",
    "s=solvers.qp(P,q,A,b,Aeq,beq)\n",
    "print(\"最优解为：\",s['x'])\n",
    "print(\"最优值为：\",s['primal objective'])"
   ]
  },
  {
   "cell_type": "code",
   "execution_count": 12,
   "metadata": {},
   "outputs": [
    {
     "name": "stderr",
     "output_type": "stream",
     "text": [
      "d:\\Anaconda3\\lib\\site-packages\\cvxpy\\expressions\\expression.py:593: UserWarning: \n",
      "This use of ``*`` has resulted in matrix multiplication.\n",
      "Using ``*`` for matrix multiplication has been deprecated since CVXPY 1.1.\n",
      "    Use ``*`` for matrix-scalar and vector-scalar multiplication.\n",
      "    Use ``@`` for matrix-matrix and matrix-vector multiplication.\n",
      "    Use ``multiply`` for elementwise multiplication.\n",
      "This code path has been hit 11 times so far.\n",
      "\n",
      "  warnings.warn(msg, UserWarning)\n",
      "d:\\Anaconda3\\lib\\site-packages\\cvxpy\\expressions\\expression.py:593: UserWarning: \n",
      "This use of ``*`` has resulted in matrix multiplication.\n",
      "Using ``*`` for matrix multiplication has been deprecated since CVXPY 1.1.\n",
      "    Use ``*`` for matrix-scalar and vector-scalar multiplication.\n",
      "    Use ``@`` for matrix-matrix and matrix-vector multiplication.\n",
      "    Use ``multiply`` for elementwise multiplication.\n",
      "This code path has been hit 12 times so far.\n",
      "\n",
      "  warnings.warn(msg, UserWarning)\n",
      "d:\\Anaconda3\\lib\\site-packages\\cvxpy\\expressions\\expression.py:593: UserWarning: \n",
      "This use of ``*`` has resulted in matrix multiplication.\n",
      "Using ``*`` for matrix multiplication has been deprecated since CVXPY 1.1.\n",
      "    Use ``*`` for matrix-scalar and vector-scalar multiplication.\n",
      "    Use ``@`` for matrix-matrix and matrix-vector multiplication.\n",
      "    Use ``multiply`` for elementwise multiplication.\n",
      "This code path has been hit 13 times so far.\n",
      "\n",
      "  warnings.warn(msg, UserWarning)\n"
     ]
    },
    {
     "ename": "SolverError",
     "evalue": "Either candidate conic solvers (['GLPK_MI']) do not support the cones output by the problem (SOC, NonNeg), or there are not enough constraints in the problem.",
     "output_type": "error",
     "traceback": [
      "\u001b[1;31m---------------------------------------------------------------------------\u001b[0m",
      "\u001b[1;31mSolverError\u001b[0m                               Traceback (most recent call last)",
      "\u001b[1;32me:\\代码库\\【python】数学建模常用算法与程序\\6. 整数规划与非线性规划.ipynb Cell 10\u001b[0m in \u001b[0;36m<cell line: 14>\u001b[1;34m()\u001b[0m\n\u001b[0;32m     <a href='vscode-notebook-cell:/e%3A/%E4%BB%A3%E7%A0%81%E5%BA%93/%E3%80%90python%E3%80%91%E6%95%B0%E5%AD%A6%E5%BB%BA%E6%A8%A1%E5%B8%B8%E7%94%A8%E7%AE%97%E6%B3%95%E4%B8%8E%E7%A8%8B%E5%BA%8F/6.%20%E6%95%B4%E6%95%B0%E8%A7%84%E5%88%92%E4%B8%8E%E9%9D%9E%E7%BA%BF%E6%80%A7%E8%A7%84%E5%88%92.ipynb#X12sZmlsZQ%3D%3D?line=11'>12</a>\u001b[0m con\u001b[39m=\u001b[39m[\u001b[39m0\u001b[39m\u001b[39m<\u001b[39m\u001b[39m=\u001b[39mx, x\u001b[39m<\u001b[39m\u001b[39m=\u001b[39m\u001b[39m99\u001b[39m, a\u001b[39m*\u001b[39mx\u001b[39m<\u001b[39m\u001b[39m=\u001b[39mb]\n\u001b[0;32m     <a href='vscode-notebook-cell:/e%3A/%E4%BB%A3%E7%A0%81%E5%BA%93/%E3%80%90python%E3%80%91%E6%95%B0%E5%AD%A6%E5%BB%BA%E6%A8%A1%E5%B8%B8%E7%94%A8%E7%AE%97%E6%B3%95%E4%B8%8E%E7%A8%8B%E5%BA%8F/6.%20%E6%95%B4%E6%95%B0%E8%A7%84%E5%88%92%E4%B8%8E%E9%9D%9E%E7%BA%BF%E6%80%A7%E8%A7%84%E5%88%92.ipynb#X12sZmlsZQ%3D%3D?line=12'>13</a>\u001b[0m prob \u001b[39m=\u001b[39m cp\u001b[39m.\u001b[39mProblem(obj, con)\n\u001b[1;32m---> <a href='vscode-notebook-cell:/e%3A/%E4%BB%A3%E7%A0%81%E5%BA%93/%E3%80%90python%E3%80%91%E6%95%B0%E5%AD%A6%E5%BB%BA%E6%A8%A1%E5%B8%B8%E7%94%A8%E7%AE%97%E6%B3%95%E4%B8%8E%E7%A8%8B%E5%BA%8F/6.%20%E6%95%B4%E6%95%B0%E8%A7%84%E5%88%92%E4%B8%8E%E9%9D%9E%E7%BA%BF%E6%80%A7%E8%A7%84%E5%88%92.ipynb#X12sZmlsZQ%3D%3D?line=13'>14</a>\u001b[0m prob\u001b[39m.\u001b[39;49msolve()\n\u001b[0;32m     <a href='vscode-notebook-cell:/e%3A/%E4%BB%A3%E7%A0%81%E5%BA%93/%E3%80%90python%E3%80%91%E6%95%B0%E5%AD%A6%E5%BB%BA%E6%A8%A1%E5%B8%B8%E7%94%A8%E7%AE%97%E6%B3%95%E4%B8%8E%E7%A8%8B%E5%BA%8F/6.%20%E6%95%B4%E6%95%B0%E8%A7%84%E5%88%92%E4%B8%8E%E9%9D%9E%E7%BA%BF%E6%80%A7%E8%A7%84%E5%88%92.ipynb#X12sZmlsZQ%3D%3D?line=14'>15</a>\u001b[0m \u001b[39mprint\u001b[39m(\u001b[39m\"\u001b[39m\u001b[39m最优值为:\u001b[39m\u001b[39m\"\u001b[39m,prob\u001b[39m.\u001b[39mvalue)\n\u001b[0;32m     <a href='vscode-notebook-cell:/e%3A/%E4%BB%A3%E7%A0%81%E5%BA%93/%E3%80%90python%E3%80%91%E6%95%B0%E5%AD%A6%E5%BB%BA%E6%A8%A1%E5%B8%B8%E7%94%A8%E7%AE%97%E6%B3%95%E4%B8%8E%E7%A8%8B%E5%BA%8F/6.%20%E6%95%B4%E6%95%B0%E8%A7%84%E5%88%92%E4%B8%8E%E9%9D%9E%E7%BA%BF%E6%80%A7%E8%A7%84%E5%88%92.ipynb#X12sZmlsZQ%3D%3D?line=15'>16</a>\u001b[0m \u001b[39mprint\u001b[39m(\u001b[39m\"\u001b[39m\u001b[39m最优解为：\u001b[39m\u001b[39m\\n\u001b[39;00m\u001b[39m\"\u001b[39m,x\u001b[39m.\u001b[39mvalue)\n",
      "File \u001b[1;32md:\\Anaconda3\\lib\\site-packages\\cvxpy\\problems\\problem.py:481\u001b[0m, in \u001b[0;36mProblem.solve\u001b[1;34m(self, *args, **kwargs)\u001b[0m\n\u001b[0;32m    479\u001b[0m \u001b[39melse\u001b[39;00m:\n\u001b[0;32m    480\u001b[0m     solve_func \u001b[39m=\u001b[39m Problem\u001b[39m.\u001b[39m_solve\n\u001b[1;32m--> 481\u001b[0m \u001b[39mreturn\u001b[39;00m solve_func(\u001b[39mself\u001b[39;49m, \u001b[39m*\u001b[39;49margs, \u001b[39m*\u001b[39;49m\u001b[39m*\u001b[39;49mkwargs)\n",
      "File \u001b[1;32md:\\Anaconda3\\lib\\site-packages\\cvxpy\\problems\\problem.py:1003\u001b[0m, in \u001b[0;36mProblem._solve\u001b[1;34m(self, solver, warm_start, verbose, gp, qcp, requires_grad, enforce_dpp, ignore_dpp, **kwargs)\u001b[0m\n\u001b[0;32m   1000\u001b[0m         \u001b[39mself\u001b[39m\u001b[39m.\u001b[39munpack(chain\u001b[39m.\u001b[39mretrieve(soln))\n\u001b[0;32m   1001\u001b[0m         \u001b[39mreturn\u001b[39;00m \u001b[39mself\u001b[39m\u001b[39m.\u001b[39mvalue\n\u001b[1;32m-> 1003\u001b[0m data, solving_chain, inverse_data \u001b[39m=\u001b[39m \u001b[39mself\u001b[39;49m\u001b[39m.\u001b[39;49mget_problem_data(\n\u001b[0;32m   1004\u001b[0m     solver, gp, enforce_dpp, ignore_dpp, verbose)\n\u001b[0;32m   1006\u001b[0m \u001b[39mif\u001b[39;00m verbose:\n\u001b[0;32m   1007\u001b[0m     \u001b[39mprint\u001b[39m(_NUM_SOLVER_STR)\n",
      "File \u001b[1;32md:\\Anaconda3\\lib\\site-packages\\cvxpy\\problems\\problem.py:607\u001b[0m, in \u001b[0;36mProblem.get_problem_data\u001b[1;34m(self, solver, gp, enforce_dpp, ignore_dpp, verbose)\u001b[0m\n\u001b[0;32m    605\u001b[0m \u001b[39mif\u001b[39;00m key \u001b[39m!=\u001b[39m \u001b[39mself\u001b[39m\u001b[39m.\u001b[39m_cache\u001b[39m.\u001b[39mkey:\n\u001b[0;32m    606\u001b[0m     \u001b[39mself\u001b[39m\u001b[39m.\u001b[39m_cache\u001b[39m.\u001b[39minvalidate()\n\u001b[1;32m--> 607\u001b[0m     solving_chain \u001b[39m=\u001b[39m \u001b[39mself\u001b[39;49m\u001b[39m.\u001b[39;49m_construct_chain(\n\u001b[0;32m    608\u001b[0m         solver\u001b[39m=\u001b[39;49msolver, gp\u001b[39m=\u001b[39;49mgp,\n\u001b[0;32m    609\u001b[0m         enforce_dpp\u001b[39m=\u001b[39;49menforce_dpp,\n\u001b[0;32m    610\u001b[0m         ignore_dpp\u001b[39m=\u001b[39;49mignore_dpp)\n\u001b[0;32m    611\u001b[0m     \u001b[39mself\u001b[39m\u001b[39m.\u001b[39m_cache\u001b[39m.\u001b[39mkey \u001b[39m=\u001b[39m key\n\u001b[0;32m    612\u001b[0m     \u001b[39mself\u001b[39m\u001b[39m.\u001b[39m_cache\u001b[39m.\u001b[39msolving_chain \u001b[39m=\u001b[39m solving_chain\n",
      "File \u001b[1;32md:\\Anaconda3\\lib\\site-packages\\cvxpy\\problems\\problem.py:841\u001b[0m, in \u001b[0;36mProblem._construct_chain\u001b[1;34m(self, solver, gp, enforce_dpp, ignore_dpp)\u001b[0m\n\u001b[0;32m    839\u001b[0m candidate_solvers \u001b[39m=\u001b[39m \u001b[39mself\u001b[39m\u001b[39m.\u001b[39m_find_candidate_solvers(solver\u001b[39m=\u001b[39msolver, gp\u001b[39m=\u001b[39mgp)\n\u001b[0;32m    840\u001b[0m \u001b[39mself\u001b[39m\u001b[39m.\u001b[39m_sort_candidate_solvers(candidate_solvers)\n\u001b[1;32m--> 841\u001b[0m \u001b[39mreturn\u001b[39;00m construct_solving_chain(\u001b[39mself\u001b[39;49m, candidate_solvers, gp\u001b[39m=\u001b[39;49mgp,\n\u001b[0;32m    842\u001b[0m                                enforce_dpp\u001b[39m=\u001b[39;49menforce_dpp,\n\u001b[0;32m    843\u001b[0m                                ignore_dpp\u001b[39m=\u001b[39;49mignore_dpp)\n",
      "File \u001b[1;32md:\\Anaconda3\\lib\\site-packages\\cvxpy\\reductions\\solvers\\solving_chain.py:259\u001b[0m, in \u001b[0;36mconstruct_solving_chain\u001b[1;34m(problem, candidates, gp, enforce_dpp, ignore_dpp)\u001b[0m\n\u001b[0;32m    256\u001b[0m         reductions \u001b[39m+\u001b[39m\u001b[39m=\u001b[39m [ConeMatrixStuffing(), solver_instance]\n\u001b[0;32m    257\u001b[0m         \u001b[39mreturn\u001b[39;00m SolvingChain(reductions\u001b[39m=\u001b[39mreductions)\n\u001b[1;32m--> 259\u001b[0m \u001b[39mraise\u001b[39;00m SolverError(\u001b[39m\"\u001b[39m\u001b[39mEither candidate conic solvers (\u001b[39m\u001b[39m%s\u001b[39;00m\u001b[39m) do not support the \u001b[39m\u001b[39m\"\u001b[39m\n\u001b[0;32m    260\u001b[0m                   \u001b[39m\"\u001b[39m\u001b[39mcones output by the problem (\u001b[39m\u001b[39m%s\u001b[39;00m\u001b[39m), or there are not \u001b[39m\u001b[39m\"\u001b[39m\n\u001b[0;32m    261\u001b[0m                   \u001b[39m\"\u001b[39m\u001b[39menough constraints in the problem.\u001b[39m\u001b[39m\"\u001b[39m \u001b[39m%\u001b[39m (\n\u001b[0;32m    262\u001b[0m                       candidates[\u001b[39m'\u001b[39m\u001b[39mconic_solvers\u001b[39m\u001b[39m'\u001b[39m],\n\u001b[0;32m    263\u001b[0m                       \u001b[39m\"\u001b[39m\u001b[39m, \u001b[39m\u001b[39m\"\u001b[39m\u001b[39m.\u001b[39mjoin([cone\u001b[39m.\u001b[39m\u001b[39m__name__\u001b[39m \u001b[39mfor\u001b[39;00m cone \u001b[39min\u001b[39;00m cones])))\n",
      "\u001b[1;31mSolverError\u001b[0m: Either candidate conic solvers (['GLPK_MI']) do not support the cones output by the problem (SOC, NonNeg), or there are not enough constraints in the problem."
     ]
    }
   ],
   "source": [
    "import cvxpy as cp\n",
    "import numpy as np\n",
    "\n",
    "\n",
    "\n",
    "c1=np.array([1, 1, 3, 4, 2])\n",
    "c2=np.array([-8, -2, -3, -1, -2])\n",
    "a=np.array([[1, 1, 1, 1, 1], [1, 2, 2, 1, 6], [2, 1, 6, 0, 0], [0, 0, 1, 1, 5]])\n",
    "b=np.array([400, 800, 200, 200])\n",
    "x=cp.Variable(5,integer=True)\n",
    "obj=cp.Minimize(c1*x**2+c2*x)\n",
    "con=[0<=x, x<=99, a*x<=b]\n",
    "prob = cp.Problem(obj, con)\n",
    "prob.solve()\n",
    "print(\"最优值为:\",prob.value)\n",
    "print(\"最优解为：\\n\",x.value)"
   ]
  },
  {
   "cell_type": "code",
   "execution_count": null,
   "metadata": {},
   "outputs": [],
   "source": []
  }
 ],
 "metadata": {
  "kernelspec": {
   "display_name": "Python 3.8.13 ('base')",
   "language": "python",
   "name": "python3"
  },
  "language_info": {
   "codemirror_mode": {
    "name": "ipython",
    "version": 3
   },
   "file_extension": ".py",
   "mimetype": "text/x-python",
   "name": "python",
   "nbconvert_exporter": "python",
   "pygments_lexer": "ipython3",
   "version": "3.8.13"
  },
  "orig_nbformat": 4,
  "vscode": {
   "interpreter": {
    "hash": "b09ec625f77bf4fd762565a912b97636504ad6ec901eb2d0f4cf5a7de23e1ee5"
   }
  }
 },
 "nbformat": 4,
 "nbformat_minor": 2
}
