{
 "cells": [
  {
   "cell_type": "code",
   "execution_count": 1,
   "metadata": {},
   "outputs": [
    {
     "name": "stdout",
     "output_type": "stream",
     "text": [
      "sigma= 0.009886255778095274\n",
      "所求的解为：\n",
      " [ 1.          1.6863383   5.97953014 11.67676321]\n"
     ]
    }
   ],
   "source": [
    "import numpy as np\n",
    "from scipy.integrate import odeint\n",
    "\n",
    "\n",
    "\n",
    "s0=155.0;  i0=1.0;  s_inf=60.0;\n",
    "sigma=(np.log(s0)-np.log(s_inf))/(s0+i0-s_inf)\n",
    "print(\"sigma=\",sigma)\n",
    "S=np.array([155, 153, 139, 101])\n",
    "I=(s0+i0)-S+1/sigma*np.log(S/s0)\n",
    "print(\"所求的解为：\\n\",I)"
   ]
  },
  {
   "cell_type": "code",
   "execution_count": 2,
   "metadata": {},
   "outputs": [
    {
     "name": "stdout",
     "output_type": "stream",
     "text": [
      "Eq(y(x), exp(-x)*sin(x))\n"
     ]
    }
   ],
   "source": [
    "from sympy.abc import x\n",
    "from sympy import diff, dsolve, simplify, Function\n",
    "\n",
    "\n",
    "\n",
    "y=Function('y')\n",
    "eq=diff(y(x),x,2)+2*diff(y(x),x)+2*y(x)  #定义方程\n",
    "con={y(0): 0, diff(y(x),x).subs(x,0): 1}  #定义初值条件\n",
    "y=dsolve(eq, ics=con)\n",
    "print(simplify(y))"
   ]
  },
  {
   "cell_type": "code",
   "execution_count": 3,
   "metadata": {},
   "outputs": [
    {
     "name": "stdout",
     "output_type": "stream",
     "text": [
      "Eq(y(x), (6*sin(x)/5 + 2*cos(x)/5)*exp(-x) + sin(x)/5 - 2*cos(x)/5)\n"
     ]
    }
   ],
   "source": [
    "from sympy.abc import x  #引进符号变量x\n",
    "from sympy import Function, diff, dsolve, sin\n",
    "\n",
    "\n",
    "\n",
    "y=Function('y')\n",
    "eq=diff(y(x),x,2)+2*diff(y(x),x)+2*y(x)-sin(x)  #定义方程\n",
    "con={y(0): 0, diff(y(x), x).subs(x,0): 1}  #定义初值条件\n",
    "y=dsolve(eq, ics=con)\n",
    "print(y)"
   ]
  },
  {
   "cell_type": "code",
   "execution_count": 4,
   "metadata": {},
   "outputs": [
    {
     "name": "stdout",
     "output_type": "stream",
     "text": [
      "[Eq(x1(t), 2*exp(2*t) - exp(-t)), Eq(x2(t), 2*exp(2*t) - exp(-t) + exp(-2*t)), Eq(x3(t), 2*exp(2*t) + exp(-2*t))]\n"
     ]
    }
   ],
   "source": [
    "import sympy as sp\n",
    "\n",
    "\n",
    "\n",
    "t=sp.symbols('t')\n",
    "x1,x2,x3=sp.symbols('x1,x2,x3',cls=sp.Function)\n",
    "eq=[x1(t).diff(t)-2*x1(t)+3*x2(t)-3*x3(t),\n",
    "    x2(t).diff(t)-4*x1(t)+5*x2(t)-3*x3(t),\n",
    "    x3(t).diff(t)-4*x1(t)+4*x2(t)-2*x3(t)]\n",
    "con={x1(0):1, x2(0):2, x3(0):3}\n",
    "s=sp.dsolve(eq, ics=con); print(s)"
   ]
  },
  {
   "cell_type": "code",
   "execution_count": 5,
   "metadata": {},
   "outputs": [
    {
     "name": "stdout",
     "output_type": "stream",
     "text": [
      "[Eq(x1(t), 2*exp(2*t) - exp(-t)), Eq(x2(t), 2*exp(2*t) - exp(-t) + exp(-2*t)), Eq(x3(t), 2*exp(2*t) + exp(-2*t))]\n"
     ]
    }
   ],
   "source": [
    "import sympy as sp\n",
    "\n",
    "\n",
    "\n",
    "t=sp.symbols('t')\n",
    "x1,x2,x3=sp.symbols('x1:4',cls=sp.Function)\n",
    "x=sp.Matrix([x1(t),x2(t),x3(t)])\n",
    "A=sp.Matrix([[2,-3,3],[4,-5,3],[4,-4,2]])\n",
    "eq=x.diff(t)-A*x\n",
    "s=sp.dsolve(eq,ics={x1(0):1,x2(0):2,x3(0):3})\n",
    "print(s)"
   ]
  },
  {
   "cell_type": "code",
   "execution_count": 8,
   "metadata": {},
   "outputs": [
    {
     "name": "stdout",
     "output_type": "stream",
     "text": [
      "x=\n",
      "[ 1.   1.5  2.   2.5  3.   3.5  4.   4.5  5.   5.5  6.   6.5  7.   7.5\n",
      "  8.   8.5  9.   9.5 10. ]\n",
      "对应的数值解y=\n",
      "[[ 2.          2.08484933  2.9191691   4.18723381  5.77289452  7.63342241\n",
      "   9.75309843 12.12613985 14.75041934 17.62515427 20.75005673 24.12502089\n",
      "  27.7500077  31.62500278 35.75000104 40.1250004  44.75000015 49.62500006\n",
      "  54.75000002]]\n"
     ]
    }
   ],
   "source": [
    "from scipy.integrate import odeint\n",
    "from numpy import arange\n",
    "\n",
    "\n",
    "\n",
    "dy=lambda y, x: -2*y+x**2+2*x\n",
    "x=arange(1, 10.5, 0.5)\n",
    "sol=odeint(dy, 2, x)\n",
    "print(\"x=\\n{}\\n对应的数值解y=\\n{}\".format(x, sol.T))"
   ]
  },
  {
   "cell_type": "code",
   "execution_count": 9,
   "metadata": {},
   "outputs": [
    {
     "data": {
      "image/png": "[encoded data removed]",
      "text/plain": [
       "<Figure size 432x288 with 1 Axes>"
      ]
     },
     "metadata": {
      "needs_background": "light"
     },
     "output_type": "display_data"
    }
   ],
   "source": [
    "from scipy.integrate import odeint\n",
    "from sympy.abc import t\n",
    "import numpy as np\n",
    "import matplotlib.pyplot as plt\n",
    "\n",
    "\n",
    "\n",
    "def Pfun(y,x):\n",
    "    y1, y2=y;\n",
    "    return np.array([y2, -2*y1-2*y2])\n",
    "x=np.arange(0, 10, 0.1)  #创建时间点\n",
    "sol1=odeint(Pfun, [0.0, 1.0], x)  #求数值解\n",
    "plt.rc('font',size=16); plt.rc('font',family='SimHei')\n",
    "plt.plot(x, sol1[:,0],'r*',label=\"数值解\")\n",
    "plt.plot(x, np.exp(-x)*np.sin(x), 'g', label=\"符号解曲线\")\n",
    "plt.legend(); plt.savefig(\"./微分方程模型/figure8_5.png\"); plt.show()"
   ]
  },
  {
   "cell_type": "code",
   "execution_count": 10,
   "metadata": {},
   "outputs": [
    {
     "data": {
      "image/png": "[encoded data removed]",
      "text/plain": [
       "<Figure size 432x288 with 2 Axes>"
      ]
     },
     "metadata": {
      "needs_background": "light"
     },
     "output_type": "display_data"
    },
    {
     "name": "stdout",
     "output_type": "stream",
     "text": [
      "sol1= [[ 0.00000000e+00  1.00000000e+00  0.00000000e+00]\n",
      " [ 9.51228522e-02  1.00353502e+00  4.79004160e-04]\n",
      " [ 1.82774668e-01  1.03241643e+00  1.86842924e-03]\n",
      " ...\n",
      " [-8.11714544e-02 -4.62253844e-01  1.63249369e+01]\n",
      " [-1.17747914e-01 -4.69467656e-01  1.58958170e+01]\n",
      " [-1.51756328e-01 -4.81345293e-01  1.54781637e+01]] \n",
      "\n",
      " sol1-sol2= [[ 0.00000000e+00 -1.00000000e-04  0.00000000e+00]\n",
      " [-9.51228551e-06 -1.00353479e-04 -9.58055863e-08]\n",
      " [-1.82774502e-05 -1.03241296e-04 -3.73704777e-07]\n",
      " ...\n",
      " [ 4.73845276e+00  7.05830089e+00  1.22583772e-01]\n",
      " [ 4.98326548e+00  7.55968830e+00 -2.60695739e-01]\n",
      " [ 5.25374294e+00  8.08688747e+00 -6.83353812e-01]]\n"
     ]
    }
   ],
   "source": [
    "from scipy.integrate import odeint\n",
    "import numpy as np\n",
    "from mpl_toolkits import mplot3d\n",
    "import matplotlib.pyplot as plt\n",
    "\n",
    "\n",
    "\n",
    "\n",
    "def lorenz(w,t):\n",
    "    sigma=10; rho=28; beta=8/3\n",
    "    x, y, z=w;\n",
    "    return np.array([sigma*(y-x), rho*x-y-x*z, x*y-beta*z])\n",
    "\n",
    "\n",
    "\n",
    "t=np.arange(0, 50, 0.01)  #创建时间点\n",
    "sol1=odeint(lorenz, [0.0, 1.0, 0.0], t)  #第一个初值问题求解\n",
    "sol2=odeint(lorenz, [0.0, 1.0001, 0.0], t)  #第二个初值问题求解\n",
    "plt.rc('font',size=16); plt.rc('text',usetex=True)\n",
    "ax1=plt.subplot(121,projection='3d')\n",
    "ax1.plot(sol1[:,0], sol1[:,1], sol1[:,2],'r')\n",
    "ax1.set_xlabel('$x$'); ax1.set_ylabel('$y$'); ax1.set_zlabel('$z$')\n",
    "ax2=plt.subplot(122,projection='3d')\n",
    "ax2.plot(sol1[:,0]-sol2[:,0], sol1[:,1]-sol2[:,1], sol1[:,2]-sol2[:,2],'g')\n",
    "ax2.set_xlabel('$x$'); ax2.set_ylabel('$y$'); ax2.set_zlabel('$z$')\n",
    "plt.savefig(\"./微分方程模型/figure8_6.png\", dpi=500); plt.show()\n",
    "print(\"sol1=\",sol1, '\\n\\n', \"sol1-sol2=\", sol1-sol2)"
   ]
  },
  {
   "cell_type": "code",
   "execution_count": 11,
   "metadata": {},
   "outputs": [
    {
     "name": "stdout",
     "output_type": "stream",
     "text": [
      "Eq(u(t), 24 + 126*exp(-k*t))\n",
      "[log(126/(u(t) - 24))/t] \t 0.0505548566665147\n",
      "20分钟后的温度为： 69.8412698412698\n"
     ]
    }
   ],
   "source": [
    "import sympy as sp\n",
    "\n",
    "\n",
    "\n",
    "sp.var('t, k')  #定义符号变量t,k\n",
    "u = sp.var('u', cls=sp.Function)  #定义符号函数\n",
    "eq = sp.diff(u(t), t) + k * (u(t) - 24)  #定义方程\n",
    "uu = sp.dsolve(eq, ics={u(0): 150}) #求微分方程的符号解\n",
    "print(uu)\n",
    "kk = sp.solve(uu, k)  #kk返回值是列表，可能有多个解\n",
    "k0 = kk[0].subs({t: 10.0, u(t): 100.0})\n",
    "print(kk, '\\t', k0)\n",
    "u1 = uu.args[1]  #提出符号表达式\n",
    "u0 = u1.subs({t: 20, k: k0})  #代入具体值\n",
    "print(\"20分钟后的温度为：\", u0)\n"
   ]
  },
  {
   "cell_type": "code",
   "execution_count": 1,
   "metadata": {},
   "outputs": [
    {
     "name": "stdout",
     "output_type": "stream",
     "text": [
      "-15260.5042*h**1.5 + 4578.15127*h**2.5 + 10682.353\n"
     ]
    }
   ],
   "source": [
    "import sympy as sp\n",
    "\n",
    "\n",
    "\n",
    "sp.var('h')  #定义符号变量\n",
    "sp.var('t', cls=sp.Function)  #定义符号函数\n",
    "g = 9.8\n",
    "eq = t(h).diff(h) -10000*sp.pi/0.62/sp.sqrt(2*g)*(h**(3/2)-2*h**(1/2))  #定义方程\n",
    "t = sp.dsolve(eq, ics={t(1): 0}) #求微分方程的符号解\n",
    "t = sp.simplify(t)\n",
    "print(t.args[1].n(9))"
   ]
  },
  {
   "cell_type": "code",
   "execution_count": 13,
   "metadata": {},
   "outputs": [
    {
     "name": "stdout",
     "output_type": "stream",
     "text": [
      "[4.57988338 5.94530164 6.99965379]\n"
     ]
    }
   ],
   "source": [
    "from numpy import array\n",
    "\n",
    "\n",
    "\n",
    "v0=array([45, 65, 80])\n",
    "T0=1; L=4.5; I=9; mu=0.7; g=9.8\n",
    "T=v0/(2*mu*g)+(I+L)/v0+T0\n",
    "print(T)\n"
   ]
  },
  {
   "cell_type": "code",
   "execution_count": 14,
   "metadata": {},
   "outputs": [
    {
     "name": "stdout",
     "output_type": "stream",
     "text": [
      "[2.73527906e-02 3.42441913e+02]\n",
      "2010年的预测值为： 282.67978317394085\n"
     ]
    }
   ],
   "source": [
    "import numpy as np\n",
    "from scipy.optimize import curve_fit\n",
    "\n",
    "\n",
    "\n",
    "a=[]; b=[];\n",
    "with open(\"./数据集/Pdata8_10_1.txt\") as f:    #打开文件并绑定对象f\n",
    "    s=f.read().splitlines()  #返回每一行的数据\n",
    "\n",
    "\n",
    "for i in range(0, len(s),2):  #读入奇数行数据\n",
    "    d1=s[i].split(\"\\t\")\n",
    "    for j in range(len(d1)):\n",
    "        if d1[j]!=\"\":\n",
    "            a.append(eval(d1[j]))  #把非空的字符串转换为年代数据\n",
    "\n",
    "\n",
    "for i in range(1, len(s), 2):  #读入偶数行数据\n",
    "    d2=s[i].split(\"\\t\")\n",
    "    for j in range(len(d2)):\n",
    "        if d2[j] != \"\":\n",
    "            b.append(eval(d2[j])) #把非空的字符串转换为人口数据\n",
    "\n",
    "\n",
    "c=np.vstack((a,b))  #构造两行的数组\n",
    "np.savetxt(\"./数据集/Pdata8_10_2.txt\", c)  #把数据保存起来供下面使用\n",
    "x=lambda t, r, xm: xm/(1+(xm/3.9-1)*np.exp(-r*(t-1790)))\n",
    "bd=((0, 200), (0.1,1000))  #约束两个参数的下界和上界\n",
    "popt, pcov=curve_fit(x, a[1:], b[1:], bounds=bd)\n",
    "print(popt); print(\"2010年的预测值为：\", x(2010, *popt))"
   ]
  },
  {
   "cell_type": "code",
   "execution_count": 15,
   "metadata": {},
   "outputs": [
    {
     "name": "stdout",
     "output_type": "stream",
     "text": [
      "人口增长率r和人口最大值xm的拟合值分别为 [3.25000e-02 2.94386e+02]\n",
      "2010年的预测值为： 277.9634\n"
     ]
    }
   ],
   "source": [
    "import numpy as np\n",
    "\n",
    "\n",
    "\n",
    "d=np.loadtxt(\"./数据集/Pdata8_10_2.txt\")  #加载文件中的数据\n",
    "t0=d[0]; x0=d[1]  #提取年代数据及对应的人口数据\n",
    "b=np.diff(x0)/10/x0[:-1]  #构造线性方程组的常数项列\n",
    "a=np.vstack([np.ones(len(x0)-1),-x0[:-1]]).T #构造线性方程组系数矩阵\n",
    "rs=np.linalg.pinv(a)@b;  r=rs[0]; xm=r/rs[1]\n",
    "print(\"人口增长率r和人口最大值xm的拟合值分别为\", np.round([r,xm],4))\n",
    "xhat=xm/(1+(xm/3.9-1)*np.exp(-r*(2010-1790)))  #求预测值\n",
    "print(\"2010年的预测值为：\",round(xhat,4))"
   ]
  },
  {
   "cell_type": "code",
   "execution_count": 16,
   "metadata": {},
   "outputs": [
    {
     "name": "stdout",
     "output_type": "stream",
     "text": [
      "y(t)= t*exp(t) + t*sin(t) - 2*exp(t) + sin(t) + 2*cos(t)\n",
      "y(t)= (t*exp(t) + t*sin(t) - 2*exp(t) + sin(t) + 2*cos(t), 0)\n",
      "y(t)= t*exp(t) + t*sin(t) - 2*exp(t) + sin(t) + 2*cos(t)\n"
     ]
    }
   ],
   "source": [
    "import sympy as sp\n",
    "\n",
    "\n",
    "\n",
    "sp.var('t',positive=True); sp.var('s')  #定义符号变量\n",
    "sp.var('Y',cls=sp.Function)  #定义符号函数\n",
    "g=4*t*sp.exp(t)\n",
    "Lg=sp.laplace_transform(g,t,s)  #方程右端项的拉氏变换\n",
    "d=s**4*Y(s)+2*s**2*Y(s)+Y(s)\n",
    "de=d-Lg[0]    #定义取拉氏变换后的代数方程\n",
    "Ys=sp.solve(de,Y(s))[0]  #求像函数\n",
    "Ys=sp.factor(Ys)\n",
    "yt=sp.inverse_laplace_transform(Ys,s,t)\n",
    "print(\"y(t)=\",yt); yt=yt.rewrite(sp.exp)\n",
    "#这里的变换只是为了把解化成指数函数，并且不出现虚数\n",
    "yt=yt.as_real_imag(); print(\"y(t)=\",yt)\n",
    "yt=sp.simplify(yt[0]); print(\"y(t)=\",yt)"
   ]
  },
  {
   "cell_type": "code",
   "execution_count": 17,
   "metadata": {},
   "outputs": [
    {
     "name": "stdout",
     "output_type": "stream",
     "text": [
      "x(t)= 5*sin(t) - 4*sin(2*t) + sin(3*t)\n",
      "y(t)= 10*sin(t) + 4*sin(2*t) - 6*sin(3*t)\n"
     ]
    },
    {
     "data": {
      "image/png": "[encoded data removed]",
      "text/plain": [
       "<Figure size 432x288 with 1 Axes>"
      ]
     },
     "metadata": {
      "needs_background": "light"
     },
     "output_type": "display_data"
    }
   ],
   "source": [
    "import sympy as sp\n",
    "import pylab as plt\n",
    "import numpy as np\n",
    "\n",
    "\n",
    "\n",
    "sp.var('t',positive=True); sp.var('s')  #定义符号变量\n",
    "sp.var('X,Y',cls=sp.Function)  #定义符号函数\n",
    "g=40*sp.sin(3*t)\n",
    "Lg=sp.laplace_transform(g,t,s)\n",
    "eq1=2*s**2*X(s)+6*X(s)-2*Y(s)\n",
    "eq2=s**2*Y(s)-2*X(s)+2*Y(s)-Lg[0]\n",
    "eq=[eq1,eq2]    #定义取拉氏变换后的代数方程组\n",
    "XYs=sp.solve(eq,(X(s),Y(s)))  #求像函数\n",
    "Xs=XYs[X(s)]; Ys=XYs[Y(s)]\n",
    "Xs=sp.factor(Xs); Ys=sp.factor(Ys)\n",
    "xt=sp.inverse_laplace_transform(Xs,s,t)\n",
    "yt=sp.inverse_laplace_transform(Ys,s,t)\n",
    "print(\"x(t)=\",xt); print(\"y(t)=\",yt)\n",
    "fx=sp.lambdify(t,xt,'numpy')  #转换为匿名函数\n",
    "fy=sp.lambdify(t,yt,'numpy')\n",
    "t=np.linspace(-5,5,100)\n",
    "plt.rc('text',usetex=True)\n",
    "plt.plot(t,fx(t),'*-k',label='$x(t)$')\n",
    "plt.plot(t,fy(t),'.-r',label='$y(t)$')\n",
    "plt.xlabel('$t$'); plt.legend(); plt.show()"
   ]
  },
  {
   "cell_type": "code",
   "execution_count": null,
   "metadata": {},
   "outputs": [],
   "source": []
  }
 ],
 "metadata": {
  "kernelspec": {
   "display_name": "Python 3.9.13 64-bit",
   "language": "python",
   "name": "python3"
  },
  "language_info": {
   "codemirror_mode": {
    "name": "ipython",
    "version": 3
   },
   "file_extension": ".py",
   "mimetype": "text/x-python",
   "name": "python",
   "nbconvert_exporter": "python",
   "pygments_lexer": "ipython3",
   "version": "3.9.13"
  },
  "orig_nbformat": 4,
  "vscode": {
   "interpreter": {
    "hash": "2469a70536e4d2335a2ea8907942d0699c37342a371ac185bdb5b0aa6f073890"
   }
  }
 },
 "nbformat": 4,
 "nbformat_minor": 2
}
