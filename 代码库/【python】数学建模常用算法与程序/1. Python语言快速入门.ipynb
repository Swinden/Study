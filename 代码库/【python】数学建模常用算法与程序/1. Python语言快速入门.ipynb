{
 "cells": [
  {
   "cell_type": "code",
   "execution_count": 1,
   "metadata": {},
   "outputs": [
    {
     "data": {
      "application/json": {
       "cell": {
        "!": "OSMagics",
        "HTML": "Other",
        "SVG": "Other",
        "bash": "Other",
        "capture": "ExecutionMagics",
        "cmd": "Other",
        "debug": "ExecutionMagics",
        "file": "Other",
        "html": "DisplayMagics",
        "javascript": "DisplayMagics",
        "js": "DisplayMagics",
        "latex": "DisplayMagics",
        "markdown": "DisplayMagics",
        "perl": "Other",
        "prun": "ExecutionMagics",
        "pypy": "Other",
        "python": "Other",
        "python2": "Other",
        "python3": "Other",
        "ruby": "Other",
        "script": "ScriptMagics",
        "sh": "Other",
        "svg": "DisplayMagics",
        "sx": "OSMagics",
        "system": "OSMagics",
        "time": "ExecutionMagics",
        "timeit": "ExecutionMagics",
        "writefile": "OSMagics"
       },
       "line": {
        "alias": "OSMagics",
        "alias_magic": "BasicMagics",
        "autoawait": "AsyncMagics",
        "autocall": "AutoMagics",
        "automagic": "AutoMagics",
        "autosave": "KernelMagics",
        "bookmark": "OSMagics",
        "cd": "OSMagics",
        "clear": "KernelMagics",
        "cls": "KernelMagics",
        "colors": "BasicMagics",
        "conda": "PackagingMagics",
        "config": "ConfigMagics",
        "connect_info": "KernelMagics",
        "copy": "Other",
        "ddir": "Other",
        "debug": "ExecutionMagics",
        "dhist": "OSMagics",
        "dirs": "OSMagics",
        "doctest_mode": "BasicMagics",
        "echo": "Other",
        "ed": "Other",
        "edit": "KernelMagics",
        "env": "OSMagics",
        "gui": "BasicMagics",
        "hist": "Other",
        "history": "HistoryMagics",
        "killbgscripts": "ScriptMagics",
        "ldir": "Other",
        "less": "KernelMagics",
        "load": "CodeMagics",
        "load_ext": "ExtensionMagics",
        "loadpy": "CodeMagics",
        "logoff": "LoggingMagics",
        "logon": "LoggingMagics",
        "logstart": "LoggingMagics",
        "logstate": "LoggingMagics",
        "logstop": "LoggingMagics",
        "ls": "Other",
        "lsmagic": "BasicMagics",
        "macro": "ExecutionMagics",
        "magic": "BasicMagics",
        "matplotlib": "PylabMagics",
        "mkdir": "Other",
        "more": "KernelMagics",
        "notebook": "BasicMagics",
        "page": "BasicMagics",
        "pastebin": "CodeMagics",
        "pdb": "ExecutionMagics",
        "pdef": "NamespaceMagics",
        "pdoc": "NamespaceMagics",
        "pfile": "NamespaceMagics",
        "pinfo": "NamespaceMagics",
        "pinfo2": "NamespaceMagics",
        "pip": "PackagingMagics",
        "popd": "OSMagics",
        "pprint": "BasicMagics",
        "precision": "BasicMagics",
        "prun": "ExecutionMagics",
        "psearch": "NamespaceMagics",
        "psource": "NamespaceMagics",
        "pushd": "OSMagics",
        "pwd": "OSMagics",
        "pycat": "OSMagics",
        "pylab": "PylabMagics",
        "qtconsole": "KernelMagics",
        "quickref": "BasicMagics",
        "recall": "HistoryMagics",
        "rehashx": "OSMagics",
        "reload_ext": "ExtensionMagics",
        "ren": "Other",
        "rep": "Other",
        "rerun": "HistoryMagics",
        "reset": "NamespaceMagics",
        "reset_selective": "NamespaceMagics",
        "rmdir": "Other",
        "run": "ExecutionMagics",
        "save": "CodeMagics",
        "sc": "OSMagics",
        "set_env": "OSMagics",
        "store": "StoreMagics",
        "sx": "OSMagics",
        "system": "OSMagics",
        "tb": "ExecutionMagics",
        "time": "ExecutionMagics",
        "timeit": "ExecutionMagics",
        "unalias": "OSMagics",
        "unload_ext": "ExtensionMagics",
        "who": "NamespaceMagics",
        "who_ls": "NamespaceMagics",
        "whos": "NamespaceMagics",
        "xdel": "NamespaceMagics",
        "xmode": "BasicMagics"
       }
      },
      "text/plain": [
       "Available line magics:\n",
       "%alias  %alias_magic  %autoawait  %autocall  %automagic  %autosave  %bookmark  %cd  %clear  %cls  %colors  %conda  %config  %connect_info  %copy  %ddir  %debug  %dhist  %dirs  %doctest_mode  %echo  %ed  %edit  %env  %gui  %hist  %history  %killbgscripts  %ldir  %less  %load  %load_ext  %loadpy  %logoff  %logon  %logstart  %logstate  %logstop  %ls  %lsmagic  %macro  %magic  %matplotlib  %mkdir  %more  %notebook  %page  %pastebin  %pdb  %pdef  %pdoc  %pfile  %pinfo  %pinfo2  %pip  %popd  %pprint  %precision  %prun  %psearch  %psource  %pushd  %pwd  %pycat  %pylab  %qtconsole  %quickref  %recall  %rehashx  %reload_ext  %ren  %rep  %rerun  %reset  %reset_selective  %rmdir  %run  %save  %sc  %set_env  %store  %sx  %system  %tb  %time  %timeit  %unalias  %unload_ext  %who  %who_ls  %whos  %xdel  %xmode\n",
       "\n",
       "Available cell magics:\n",
       "%%!  %%HTML  %%SVG  %%bash  %%capture  %%cmd  %%debug  %%file  %%html  %%javascript  %%js  %%latex  %%markdown  %%perl  %%prun  %%pypy  %%python  %%python2  %%python3  %%ruby  %%script  %%sh  %%svg  %%sx  %%system  %%time  %%timeit  %%writefile\n",
       "\n",
       "Automagic is ON, % prefix IS NOT needed for line magics."
      ]
     },
     "execution_count": 1,
     "metadata": {},
     "output_type": "execute_result"
    }
   ],
   "source": [
    "%lsmagic"
   ]
  },
  {
   "cell_type": "code",
   "execution_count": 2,
   "metadata": {},
   "outputs": [
    {
     "name": "stdout",
     "output_type": "stream",
     "text": [
      "Overwriting function/function.py\n"
     ]
    }
   ],
   "source": [
    "%%writefile function/function.py\n",
    "#!/usr/bin/env python3\n",
    "# coding=utf-8\n",
    "\n",
    "def f(x):\n",
    "    return x**2+x+1\n",
    "\n",
    "def g(x):\n",
    "    return pow(x,3)+2*x+1\n",
    "\n",
    "def h(x):\n",
    "    return 1/f(x)"
   ]
  },
  {
   "cell_type": "code",
   "execution_count": 3,
   "metadata": {},
   "outputs": [
    {
     "name": "stdout",
     "output_type": "stream",
     "text": [
      "圆的周长是：12.566370614359172 \n"
     ]
    }
   ],
   "source": [
    "# 计算圆周长\n",
    "pi=3.141592653589793238\n",
    "r=float(input(\"请输入圆的半径：\"))\n",
    "C=2*pi*r\n",
    "print(\"圆的周长是：%s \" % C)"
   ]
  },
  {
   "cell_type": "code",
   "execution_count": 4,
   "metadata": {},
   "outputs": [
    {
     "name": "stdout",
     "output_type": "stream",
     "text": [
      "最大数为： 8\n"
     ]
    }
   ],
   "source": [
    "# 判断输入的两个数的最大数\n",
    "a, b = eval(input(\"请输入a,b两个数(格式:a,b)：\"))  #把字符串转化为数值\n",
    "if a>=b: print(\"最大数为：\",a)\n",
    "else: print(\"最大数为：\",b)"
   ]
  },
  {
   "cell_type": "code",
   "execution_count": 5,
   "metadata": {},
   "outputs": [
    {
     "name": "stdout",
     "output_type": "stream",
     "text": [
      "从小到大排列输出数字：\n",
      "1+2+3+4+5+6+7+8+9+10=55\n",
      "从大到小排列输出数字：\n",
      "10+9+8+7+6+5+4+3+2+1=55\n"
     ]
    }
   ],
   "source": [
    "# 求和并把连加算式倒顺输出\n",
    "s=0; number=int(input(\"请输入整数：\"))\n",
    "print(\"从小到大排列输出数字：\")\n",
    "for i in range(1,number+1):\n",
    "    s += i  #设置s为i的和\n",
    "    print(\"%d\"%(i),end='')\n",
    "    if i<number: print(\"+\",end='')  #设置输出连加的算式\n",
    "    else: print(\"=\",end='')\n",
    "print(\"%d\"%(s))\n",
    "s=0\n",
    "print(\"从大到小排列输出数字：\")\n",
    "for i in range(number,0,-1):\n",
    "    s += i  #设置s为i的和\n",
    "    print(\"%d\"%(i),end='')\n",
    "    if i>1: print(\"+\",end='')  #设置输出连加的算式\n",
    "    else: print(\"=\",end='')\n",
    "print(\"%d\"%(s))"
   ]
  },
  {
   "cell_type": "code",
   "execution_count": 6,
   "metadata": {},
   "outputs": [
    {
     "name": "stdout",
     "output_type": "stream",
     "text": [
      "x=30.0,sin(x)=0.49999999999999994=0.49999999999999994=0.49999999999999994\n"
     ]
    }
   ],
   "source": [
    "# 计算某角度的sin值\n",
    "import numpy as np\n",
    "from math import *   #加载数学模块math的所有对象\n",
    "n=0; x1=float(input(\"请输入角度：\"))\n",
    "x=radians(x1)\n",
    "s=a=x\n",
    "while abs(a)>=1e-16:\n",
    "    a *= -x*x/(2*n+3)/(2*n+2)\n",
    "    n +=1; s += a\n",
    "print(\"x={},sin(x)={}={}={}\".format(x1,s,sin(x),np.sin(x)))"
   ]
  },
  {
   "cell_type": "code",
   "execution_count": 7,
   "metadata": {},
   "outputs": [
    {
     "name": "stdout",
     "output_type": "stream",
     "text": [
      "Overwriting function/factorial.py\n"
     ]
    }
   ],
   "source": [
    "%%writefile function/factorial.py\n",
    "#!/usr/bin/env python3\n",
    "# coding=utf-8\n",
    "\n",
    "# 计算n的阶乘\n",
    "def factorial(n):\n",
    "    r = 1\n",
    "    while n > 1:\n",
    "        r *= n;n -= 1\n",
    "    return r"
   ]
  },
  {
   "cell_type": "code",
   "execution_count": 8,
   "metadata": {},
   "outputs": [
    {
     "name": "stdout",
     "output_type": "stream",
     "text": [
      "120\n"
     ]
    }
   ],
   "source": [
    "# 库导入，计算5的阶乘\n",
    "from function.factorial import *\n",
    "\n",
    "print(factorial(5))"
   ]
  },
  {
   "cell_type": "code",
   "execution_count": 9,
   "metadata": {},
   "outputs": [
    {
     "name": "stdout",
     "output_type": "stream",
     "text": [
      "120\n"
     ]
    }
   ],
   "source": [
    "# 直接调用，计算5的阶乘\n",
    "def factorial(n):\n",
    "    r = 1\n",
    "    while n > 1: r *= n; n -= 1\n",
    "    return r\n",
    "\n",
    "\n",
    "print(factorial(5))  #调用函数"
   ]
  },
  {
   "cell_type": "code",
   "execution_count": 10,
   "metadata": {},
   "outputs": [
    {
     "name": "stdout",
     "output_type": "stream",
     "text": [
      "f= -5 \n",
      "f= 20\n",
      "f= 0\n"
     ]
    }
   ],
   "source": [
    "# 匿名函数\n",
    "f =lambda a,b = 2,c = 5 : a-b+c         #使用默认值参数\n",
    "\n",
    "\n",
    "print(\"f= %s \"% f(10,20))               #输出: f=-5\n",
    "print(\"f= %s\"% f(10,20,30))             #输出：f=20\n",
    "print(\"f= %s\"% f(c=20,a=10,b=30))       #使用关键字实参，输出：f=0"
   ]
  },
  {
   "cell_type": "code",
   "execution_count": 11,
   "metadata": {},
   "outputs": [
    {
     "name": "stdout",
     "output_type": "stream",
     "text": [
      "s=47977.9290\n"
     ]
    }
   ],
   "source": [
    "# 匿名函数\n",
    "f=lambda n,m:sum([pow(k,m) for k in range(1,n+1)])\n",
    "\n",
    "\n",
    "s=f(100,1)+f(50,2)+f(10,-1)\n",
    "print(\"s=%10.4f\"%(s))"
   ]
  },
  {
   "cell_type": "code",
   "execution_count": 12,
   "metadata": {},
   "outputs": [
    {
     "name": "stdout",
     "output_type": "stream",
     "text": [
      "8!=40320\n"
     ]
    }
   ],
   "source": [
    "# 递归\n",
    "n=int(input(\"请输入n的值：\"))\n",
    "def fac(n):\n",
    "    if n<=1:\n",
    "        return 1\n",
    "    else:\n",
    "        return n*fac(n-1)\n",
    "m=fac(n)     #调用函数\n",
    "print(\"%d!=%5d\"%(n,m))"
   ]
  },
  {
   "cell_type": "code",
   "execution_count": 13,
   "metadata": {},
   "outputs": [
    {
     "name": "stdout",
     "output_type": "stream",
     "text": [
      "p(5,5)=2605\n"
     ]
    }
   ],
   "source": [
    "x,n=eval(input(\"请输入x和n的值(格式：x,n)：\"))\n",
    "def p(x,n):\n",
    "    if n==1:\n",
    "        return x\n",
    "    else:\n",
    "        return x*(1-p(x,n-1))\n",
    "v=p(x,n)     #调用函数\n",
    "print(\"p(%d,%d)=%d\"%(x,n,v))\n"
   ]
  },
  {
   "cell_type": "code",
   "execution_count": 14,
   "metadata": {},
   "outputs": [
    {
     "name": "stdout",
     "output_type": "stream",
     "text": [
      "y = 81.1752\n"
     ]
    }
   ],
   "source": [
    "from math import log, exp, sin, pi\n",
    "f=lambda n:(1+log(n)+sin(n))/(2*pi)\n",
    "y=exp(2)\n",
    "for n in range(1,101):\n",
    "    y += f(n)\n",
    "print(\"y = %7.4f\"% y)\n"
   ]
  },
  {
   "cell_type": "code",
   "execution_count": 15,
   "metadata": {},
   "outputs": [
    {
     "name": "stdout",
     "output_type": "stream",
     "text": [
      "3 \t 13 \t 0.07692307692307693\n"
     ]
    }
   ],
   "source": [
    "from function import function as fc\n",
    "\n",
    "print(fc.f(1), \\\n",
    "    '\\t', fc.g(2), \\\n",
    "        '\\t', fc.h(3))"
   ]
  },
  {
   "cell_type": "code",
   "execution_count": 16,
   "metadata": {},
   "outputs": [
    {
     "name": "stdout",
     "output_type": "stream",
     "text": [
      "3 \t 13 \t 0.07692307692307693\n"
     ]
    }
   ],
   "source": [
    "from function.function import f,g,h\n",
    "\n",
    "print(f(1), \\\n",
    "    '\\t', g(2), \\\n",
    "        '\\t', h(3))"
   ]
  },
  {
   "cell_type": "code",
   "execution_count": 17,
   "metadata": {},
   "outputs": [
    {
     "name": "stdout",
     "output_type": "stream",
     "text": [
      "sum = 500500\n"
     ]
    }
   ],
   "source": [
    "# 循环求和\n",
    "\n",
    "i=1\n",
    "m=0\n",
    "while i<=1000:\n",
    "    m+=i\n",
    "    i += 1\n",
    "\n",
    "print(\"sum = %s\"% m)"
   ]
  },
  {
   "cell_type": "code",
   "execution_count": 18,
   "metadata": {},
   "outputs": [
    {
     "name": "stdout",
     "output_type": "stream",
     "text": [
      "Overwriting 基础入门/start.py\n"
     ]
    }
   ],
   "source": [
    "%%writefile 基础入门/start.py\n",
    "#!/usr/bin/env python3\n",
    "# coding=utf-8\n",
    "\n",
    "print(\"Hello, World!!!\")"
   ]
  },
  {
   "cell_type": "code",
   "execution_count": 19,
   "metadata": {},
   "outputs": [
    {
     "name": "stdout",
     "output_type": "stream",
     "text": [
      "Hello, World!!!\n"
     ]
    }
   ],
   "source": [
    "%run 基础入门/start.py"
   ]
  },
  {
   "cell_type": "code",
   "execution_count": 20,
   "metadata": {},
   "outputs": [
    {
     "name": "stdout",
     "output_type": "stream",
     "text": [
      "Overwriting 基础入门/text_print.py\n"
     ]
    }
   ],
   "source": [
    "%%writefile 基础入门/text_print.py\n",
    "#!/usr/bin/env python3\n",
    "# coding=utf-8\n",
    "\n",
    "\n",
    "print(\"四书五经\")\n",
    "print(\"《大学》\",\"《中庸》\",\"《论域》\",\"《孟子》\",sep='、')\n",
    "print(\"《大学》\",\"《中庸》\",\"《论域》\",\"《孟子》\")\n",
    "print(\"《大学》\",\"《中庸》\",\"《论域》\",\"《孟子》\",end='  ')\n",
    "print(\"《诗经》\",\"《尚书》\",\"《礼记》\",\"《易经》\",\"《春秋》\")"
   ]
  },
  {
   "cell_type": "code",
   "execution_count": 21,
   "metadata": {},
   "outputs": [
    {
     "name": "stdout",
     "output_type": "stream",
     "text": [
      "四书五经\n",
      "《大学》、《中庸》、《论域》、《孟子》\n",
      "《大学》 《中庸》 《论域》 《孟子》\n",
      "《大学》 《中庸》 《论域》 《孟子》  《诗经》 《尚书》 《礼记》 《易经》 《春秋》\n"
     ]
    }
   ],
   "source": [
    "%run 基础入门/text_print.py"
   ]
  },
  {
   "cell_type": "code",
   "execution_count": 22,
   "metadata": {},
   "outputs": [
    {
     "name": "stdout",
     "output_type": "stream",
     "text": [
      "张三的年龄是20\n",
      "张三的年龄是20\n"
     ]
    }
   ],
   "source": [
    "# 字符串格式化\n",
    "\n",
    "name=\"张三\"; age=20\n",
    "print(\"%s的年龄是%d\"%(name,age))   #输出结果：张三的年龄是20\n",
    "print(\"{}的年龄是{}\".format(name,age))   #输出结果：张三的年龄是20"
   ]
  },
  {
   "cell_type": "code",
   "execution_count": 23,
   "metadata": {},
   "outputs": [],
   "source": [
    "x1 = 58 + 32     #x1=90\n",
    "x2 = 89 - 28     #x2=61\n",
    "x3 = 3 * 12      #x3=36\n",
    "x4 = 125 / 7     #x4=17.857142857142858\n",
    "x5 =125 // 7     #整除，x5=17\n",
    "x6 = 4**3        #4的3次幂，x6=64\n",
    "x7 = 46 % 5      #求余数，x7=1"
   ]
  },
  {
   "cell_type": "code",
   "execution_count": 24,
   "metadata": {},
   "outputs": [
    {
     "name": "stdout",
     "output_type": "stream",
     "text": [
      "True\n",
      "False\n"
     ]
    }
   ],
   "source": [
    "print (100>2) and (52>41)  #输出True\n",
    "total = 124\n",
    "value = (total % 4 ==0) and (total % 3 == 0)\n",
    "print(value)     #输出False"
   ]
  },
  {
   "cell_type": "code",
   "execution_count": 25,
   "metadata": {},
   "outputs": [
    {
     "name": "stdout",
     "output_type": "stream",
     "text": [
      "-6、-0b110、-0b110\n",
      "20\n",
      "1\n",
      "1\n",
      "7\n",
      "6\n"
     ]
    }
   ],
   "source": [
    "a=5; b=-6\n",
    "print(~a, bin(~a), bin(b),sep='、')  #输出：-6、-0b110、-0b110\n",
    "print(5<<2)      #输出：20\n",
    "print(5>>2)      #输出：1\n",
    "print(5&3)       #输出：1\n",
    "print(5|3)       #输出：7\n",
    "print(5^3)       #输出：6"
   ]
  },
  {
   "cell_type": "code",
   "execution_count": 26,
   "metadata": {},
   "outputs": [
    {
     "name": "stdout",
     "output_type": "stream",
     "text": [
      "[0, 1, 2, 3, 4]\n",
      "[1, 2, 3, 4, 5]\n",
      "[2, 4, 6, 8]\n"
     ]
    }
   ],
   "source": [
    "print(list(range(5)))       #输出：[0, 1, 2, 3, 4]\n",
    "print(list(range(1,6)))     #输出：[1, 2, 3, 4, 5]\n",
    "print(list(range(2,10,2)))  #输出：[2, 4, 6, 8]"
   ]
  },
  {
   "cell_type": "code",
   "execution_count": 28,
   "metadata": {},
   "outputs": [
    {
     "name": "stdout",
     "output_type": "stream",
     "text": [
      "目前累加的结果为：15\n"
     ]
    }
   ],
   "source": [
    "s=0; number=1\n",
    "while True:\n",
    "    if number==0:\n",
    "        break\n",
    "    number=int(input(\"数字0结束程序，请输入数字：\"))\n",
    "    s += number\n",
    "print(\"目前累加的结果为：%d\"%(s))"
   ]
  },
  {
   "cell_type": "code",
   "execution_count": 29,
   "metadata": {},
   "outputs": [
    {
     "name": "stdout",
     "output_type": "stream",
     "text": [
      "张三\n",
      "['身高172', '体重70']\n",
      "体重70\n",
      "['硕士', '已婚', ['身高172', '体重70']]\n",
      "['张三', '男', 23]\n",
      "['张三', 23, '硕士', ['身高172', '体重70']]\n",
      "['张三', '男', 23, '江苏', '硕士', '已婚']\n"
     ]
    }
   ],
   "source": [
    "# 切片\n",
    "a=[\"张三\", \"男\", 23, \"江苏\", \"硕士\", \"已婚\", [\"身高172\", \"体重70\"]]\n",
    "print(a[0])      #显示第一个元素：张三\n",
    "print(a[-1])     #显示最后一个元素：['身高172', '体重70']\n",
    "print(a[-1][1])  #显示最后一个元素中的第二个元素：体重70\n",
    "print(a[-3:])    #显示后三个元素\n",
    "print(a[:3])     #显示前三个元素\n",
    "print(a[::2])    #显示奇数位置的元素\n",
    "print(a[0:-1])   #显示第一个元素到倒数第二个元素"
   ]
  },
  {
   "cell_type": "code",
   "execution_count": 30,
   "metadata": {},
   "outputs": [
    {
     "name": "stdout",
     "output_type": "stream",
     "text": [
      "[1, 2, 3, 4]\n",
      "[1, 2, 3, 4, 3, 2, 1]\n",
      "[-1, 1, 2, 3, 4, 3, 2, 1]\n"
     ]
    }
   ],
   "source": [
    "a=[1,2,3]; a.append(4)  #在列表末尾添加数字4\n",
    "print(a)    #显示：[1, 2, 3, 4]\n",
    "a.extend([3,2,1])  #在列表末尾添加3个元素\n",
    "print(a)    #显示：[1, 2, 3, 4, 3, 2, 1]\n",
    "a.insert(0,-1)   #把-1插到第一个元素的位置\n",
    "print(a)    #显示："
   ]
  },
  {
   "cell_type": "code",
   "execution_count": 31,
   "metadata": {},
   "outputs": [
    {
     "name": "stdout",
     "output_type": "stream",
     "text": [
      "[10, 20, 30, 5, 8, 5, 8, 6]\n",
      "[10, 20, 5, 8, 5, 8, 6]\n",
      "[10, 20, 5, 5, 6]\n",
      "[]\n"
     ]
    }
   ],
   "source": [
    "a=[10, 20, 30, 5, 8, 5, 8, 6, 6];\n",
    "a.pop()  #删除最后一个元素\n",
    "print(a)  #显示：[10, 20, 30, 5, 8, 5, 8, 6]\n",
    "a.pop(2)  #删除第3个元素\n",
    "print(a)  #显示：[10, 20, 5, 8, 5, 8, 6]\n",
    "a.remove(8); a.remove(8) #依次从左往右删除两个8\n",
    "print(a)  #显示：[10, 20, 5, 5, 6]\n",
    "a.clear()  #清空列表\n",
    "print(a)   #显示：[]"
   ]
  },
  {
   "cell_type": "code",
   "execution_count": 32,
   "metadata": {},
   "outputs": [
    {
     "name": "stdout",
     "output_type": "stream",
     "text": [
      "{'姓名': '张三', '年龄': 33, '子女': {'子': '张四', '女': '张玲'}}\n",
      "33\n",
      "{'姓名': '张三', '年龄': 35, '子女': {'子': '张四', '女': '张玲'}}\n",
      "{'姓名': '张三', '年龄': 35, '子女': {'子': '张四', '女': '张玲'}, '户籍': '烟台'}\n",
      "{'姓名': '张三', '年龄': 35, '户籍': '烟台'}\n"
     ]
    }
   ],
   "source": [
    "d={'姓名':'张三','年龄':33,'子女':{'子':'张四','女':'张玲'}} #构造字典\n",
    "print(d)  #显示：{'姓名': '张三', '年龄': 33, '子女': {'子': '张四', '女': '张玲'}}\n",
    "print(d['年龄'])  #显示年龄的值，输出：33\n",
    "d['年龄']=35  #将字典中'年龄'键的值修改为35\n",
    "print(d)  #显示修改后字典，输出：{'姓名': '张三', '年龄': 35, '子女': {'子': '张四', '女': '张玲'}}\n",
    "d['户籍']='烟台'  \n",
    "print(d)\n",
    "d.pop('子女')\n",
    "print(d)"
   ]
  },
  {
   "cell_type": "code",
   "execution_count": 33,
   "metadata": {},
   "outputs": [
    {
     "name": "stdout",
     "output_type": "stream",
     "text": [
      "{'c', 'e', 'b', 'a', 'd'}\n",
      "{1, 2, 3, 5, 6}\n",
      "[1, 2, 3, 5, 6]\n"
     ]
    }
   ],
   "source": [
    "a=set('abcde')  #把字符串转化为集合\n",
    "print(a)   #每次输出是不一样的，如输出：{'a', 'd', 'e', 'c', 'b'}\n",
    "b=[1,2,2,2,3,5,6,6]\n",
    "c=set(b)   #转化为集合，去掉重复元素\n",
    "print(c)\n",
    "print(list(c))  #显示去掉重复元素列表，输出：[1, 2, 3, 5, 6]"
   ]
  },
  {
   "cell_type": "code",
   "execution_count": 34,
   "metadata": {},
   "outputs": [
    {
     "name": "stdout",
     "output_type": "stream",
     "text": [
      "1到10的2次方和为385\n",
      "1到10的3次方和为3025\n"
     ]
    }
   ],
   "source": [
    "def square_sum(n, p=2):\n",
    "    result=sum([pow(i,p) for i in range(1, n+1)])\n",
    "    return (n, p, result)\n",
    "\n",
    "    \n",
    "print(\"1到%d的%d次方和为%d\"%square_sum(10))\n",
    "print(\"1到%d的%d次方和为%d\"%square_sum(10,3))"
   ]
  },
  {
   "cell_type": "code",
   "execution_count": 35,
   "metadata": {},
   "outputs": [
    {
     "name": "stdout",
     "output_type": "stream",
     "text": [
      "10加13的和为23\n"
     ]
    }
   ],
   "source": [
    "def add(a,b): s=sum([a,b]); return (a,b,s)\n",
    "\n",
    "\n",
    "print(\"%d加%d的和为%d\"%add(10,13))\n"
   ]
  },
  {
   "cell_type": "code",
   "execution_count": 36,
   "metadata": {},
   "outputs": [
    {
     "name": "stdout",
     "output_type": "stream",
     "text": [
      "(10, 12, 6, 8)的和为36\n"
     ]
    }
   ],
   "source": [
    "def add(*args): print(args, end=''); s=sum(args); return(s)\n",
    "\n",
    "\n",
    "print(\"的和为%d\"%add(10,12,6,8))"
   ]
  },
  {
   "cell_type": "code",
   "execution_count": 37,
   "metadata": {},
   "outputs": [
    {
     "name": "stdout",
     "output_type": "stream",
     "text": [
      "name: Michael age: 30 other: {}\n",
      "name: Bob age: 35 other: {'city': 'Beijing'}\n",
      "name: Adam age: 45 other: {'gender': 'M', 'job': 'Engineer'}\n"
     ]
    }
   ],
   "source": [
    "def person(name, age, **kw):\n",
    "    print('name:', name, 'age:', age, 'other:', kw)\n",
    "\n",
    "person('Michael', 30) \n",
    "person('Bob', 35, city='Beijing')\n",
    "person('Adam', 45, gender='M', job='Engineer')"
   ]
  },
  {
   "cell_type": "code",
   "execution_count": 38,
   "metadata": {},
   "outputs": [
    {
     "name": "stdout",
     "output_type": "stream",
     "text": [
      "调用函数前的数值：a=10,\tb=15\n",
      "-----------------------------------\n",
      "函数内交换数值后：a=15,\tb=10\n",
      "-----------------------------------\n",
      "调用函数后的数值：a=10,\tb=15\n"
     ]
    }
   ],
   "source": [
    "def fun(a,b):\n",
    "    a, b = b, a;\n",
    "    print(\"函数内交换数值后：a=%d,\\tb=%d\"%(a,b))\n",
    "\n",
    "\n",
    "a=10; b=15\n",
    "print(\"调用函数前的数值：a=%d,\\tb=%d\"%(a,b))\n",
    "print(\"-----------------------------------\")\n",
    "fun(a,b)   #调用函数\n",
    "print(\"-----------------------------------\")\n",
    "print(\"调用函数后的数值：a=%d,\\tb=%d\"%(a,b))"
   ]
  },
  {
   "cell_type": "code",
   "execution_count": 39,
   "metadata": {},
   "outputs": [
    {
     "name": "stdout",
     "output_type": "stream",
     "text": [
      "原始数据为：data[0]=16\tdata[1]=25\t\n",
      "-------------------------------------------------------\n",
      "函数内交换位置后：data[0]=25\tdata[1]=16\t\n",
      "-------------------------------------------------------\n",
      "排序后数据为：data[0]=25\tdata[1]=16\t"
     ]
    }
   ],
   "source": [
    "def change(data):\n",
    "    data[0], data[1] = data[1], data[0]\n",
    "    print(\"函数内交换位置后：\",end='')\n",
    "    for i in range(2):\n",
    "        print(\"data[%d]=%2d\"%(i,data[i]),end='\\t')\n",
    "\n",
    "\n",
    "data=[16, 25]    #主程序\n",
    "print(\"原始数据为：\",end='')\n",
    "for i in range(2): print(\"data[%d]=%2d\"%(i,data[i]),end='\\t')\n",
    "print(\"\\n-------------------------------------------------------\")\n",
    "change(data)\n",
    "print(\"\\n-------------------------------------------------------\")\n",
    "print(\"排序后数据为：\",end='')\n",
    "for i in range(2):\n",
    "    print(\"data[%d]=%2d\"%(i,data[i]),end='\\t')"
   ]
  },
  {
   "cell_type": "code",
   "execution_count": 40,
   "metadata": {},
   "outputs": [
    {
     "name": "stdout",
     "output_type": "stream",
     "text": [
      "三个数的和为： 6\n",
      "三个数的和为： 6\n",
      "三个数的和为： 6\n",
      "三个数的和为： 6\n"
     ]
    }
   ],
   "source": [
    "def fun(a,b,c):\n",
    "    print(\"三个数的和为：\",a+b+c)\n",
    "\n",
    "\n",
    "seq=[1,2,3]; fun(*seq)                  #输出：三个数的和为： 6\n",
    "tup=(1,2,3); fun(*tup)                  #输出：三个数的和为： 6\n",
    "dic={1:'a', 2:'b', 3:'c'}; fun(*dic)    #输出：三个数的和为： 6\n",
    "set1={1,2,3}; fun(*set1)                  #输出：三个数的和为： 6\n"
   ]
  },
  {
   "cell_type": "code",
   "execution_count": 41,
   "metadata": {},
   "outputs": [
    {
     "name": "stdout",
     "output_type": "stream",
     "text": [
      "a的长度为：13.6931\n"
     ]
    }
   ],
   "source": [
    "import numpy as np   #导入numpy库，相当于大模块，并设置别名为np\n",
    "import numpy.linalg as LA  #导入numpy库下linalg（线性代数）模块，别名为LA\n",
    "a=np.linspace(0,10,5)   #产生0到10之间等间距的5个数\n",
    "b=LA.norm(a)    #求b的模，即向量a的长度\n",
    "print(\"a的长度为：%7.4f\"%b)"
   ]
  },
  {
   "cell_type": "code",
   "execution_count": 42,
   "metadata": {},
   "outputs": [
    {
     "name": "stdout",
     "output_type": "stream",
     "text": [
      "[[4 8 9]] 7\n",
      "sin(b)=0.6570\n",
      "cos(b)=0.7539\n"
     ]
    }
   ],
   "source": [
    "from numpy import random  as rd   #从numpy库中导入模块random并设置别名为rd\n",
    "from math import sin, cos     #导入模块中的正弦函数和余弦函数\n",
    "from random import randint\n",
    "a=rd.randint(0,10,(1,3))  #产生[0,10)的3个元素的随机整数数组\n",
    "b=randint(0,10)  #产生[0,10]上的一个随机整数，不能产生向量\n",
    "print(a,b)\n",
    "print(\"sin(b)=%6.4f\"%sin(b))\n",
    "print(\"cos(b)=%6.4f\"%cos(b))"
   ]
  }
 ],
 "metadata": {
  "kernelspec": {
   "display_name": "Python 3.8.13 ('base')",
   "language": "python",
   "name": "python3"
  },
  "language_info": {
   "codemirror_mode": {
    "name": "ipython",
    "version": 3
   },
   "file_extension": ".py",
   "mimetype": "text/x-python",
   "name": "python",
   "nbconvert_exporter": "python",
   "pygments_lexer": "ipython3",
   "version": "3.8.13"
  },
  "orig_nbformat": 4,
  "vscode": {
   "interpreter": {
    "hash": "b09ec625f77bf4fd762565a912b97636504ad6ec901eb2d0f4cf5a7de23e1ee5"
   }
  }
 },
 "nbformat": 4,
 "nbformat_minor": 2
}
