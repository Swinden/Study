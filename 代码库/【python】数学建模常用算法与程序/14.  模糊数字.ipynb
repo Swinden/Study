{
 "cells": [
  {
   "cell_type": "code",
   "execution_count": 1,
   "metadata": {},
   "outputs": [
    {
     "name": "stdout",
     "output_type": "stream",
     "text": [
      "T= [0.3  0.3  0.35]\n"
     ]
    }
   ],
   "source": [
    "import numpy as np\n",
    "\n",
    "\n",
    "a=np.array([0.3,0.35,0.1]); aa=np.tile(a,(len(a),1)) \n",
    "b=np.array([[0.3,0.5,0.2],[0.2,0.2,0.4],[0.3,0.4,0.2]])\n",
    "c=np.minimum(aa.T,b)  #两个矩阵的元素对应取最小值\n",
    "T=c.max(axis=0)  #矩阵逐列取最大值\n",
    "print(\"T=\",T)"
   ]
  },
  {
   "cell_type": "code",
   "execution_count": 3,
   "metadata": {},
   "outputs": [
    {
     "name": "stdout",
     "output_type": "stream",
     "text": [
      "贴近度分别为： [0.8881966011250105, 0.9292893218813453, 0.95]\n"
     ]
    }
   ],
   "source": [
    "import numpy as np\n",
    "\n",
    "\n",
    "a=np.array([[0.4,0.3,0.5,0.3],[0.3,0.3,0.4,0.4],[0.2,0.3,0.3,0.3]])\n",
    "b=np.array([0.2,0.3,0.4,0.3]); N=[]\n",
    "for i in range(len(a)):\n",
    "    N.append(1-(np.linalg.norm(a[i]-b))/2)\n",
    "print(\"贴近度分别为：\",N)"
   ]
  },
  {
   "cell_type": "code",
   "execution_count": 4,
   "metadata": {},
   "outputs": [
    {
     "name": "stdout",
     "output_type": "stream",
     "text": [
      "[[1.  0.1 0.8 0.5 0.3]\n",
      " [0.1 1.  0.1 0.2 0.4]\n",
      " [0.8 0.1 1.  0.3 0.1]\n",
      " [0.5 0.2 0.3 1.  0.6]\n",
      " [0.3 0.4 0.1 0.6 1. ]]\n",
      "\n",
      "------------------------\n",
      " [[1.  0.4 0.8 0.5 0.5]\n",
      " [0.4 1.  0.4 0.4 0.4]\n",
      " [0.8 0.4 1.  0.5 0.5]\n",
      " [0.5 0.4 0.5 1.  0.6]\n",
      " [0.5 0.4 0.5 0.6 1. ]]\n"
     ]
    },
    {
     "data": {
      "image/png": "[encoded data removed]",
      "text/plain": [
       "<Figure size 432x288 with 1 Axes>"
      ]
     },
     "metadata": {
      "needs_background": "light"
     },
     "output_type": "display_data"
    }
   ],
   "source": [
    "from numpy import array, zeros, triu\n",
    "import scipy.cluster.hierarchy as sch\n",
    "import matplotlib.pyplot as plt\n",
    "def hecheng(a,b):\n",
    "    m,N=a.shape; n=b.shape[1]; c=zeros((m,n))\n",
    "    for i in range(m):\n",
    "        for j in range(n):\n",
    "            c[i,j]=max([min(a[i,k],b[k,j]) for k in range(N)])\n",
    "    return c\n",
    "a=array([[5,5,3,2],[2,3,4,5],[5,5,2,3],[1,5,3,1],[2,4,5,1]])\n",
    "d=array([[sum(abs(a[i]-a[j])) for i in range(5)] for j in range(5)])\n",
    "r=1-0.1*d; print(r); tr=hecheng(r,r)\n",
    "while abs(r-tr).sum()>0.00001: r=tr; tr=hecheng(r,r)\n",
    "print('\\n------------------------\\n',tr)\n",
    "d2=1-tr  #为了画图，再次转换为距离关系\n",
    "d2=triu(d2,1); d2=d2[d2!=0] #提取矩阵上三角中的非零元素\n",
    "z=sch.linkage(d2); s=['I','II','III','IV','V']\n",
    "sch.dendrogram(z,labels=s)  #画聚类树\n",
    "plt.yticks([])  #y轴不可见\n",
    "plt.show()"
   ]
  },
  {
   "cell_type": "code",
   "execution_count": 5,
   "metadata": {},
   "outputs": [
    {
     "name": "stdout",
     "output_type": "stream",
     "text": [
      "[0.6        0.18571429 0.12857143 0.04285714 0.04285714] \n",
      "---------------------------------------\n",
      " [0.25714286 0.12857143 0.41428571 0.1        0.1       ]\n"
     ]
    }
   ],
   "source": [
    "import numpy as np\n",
    "\n",
    "\n",
    "\n",
    "d=np.array([[4,2,1,0,0],[6,1,0,0,0],[0,0,5,1,1],[2,2,1,1,1]])\n",
    "r=d/7; w1=np.array([0.2,0.5,0.1,0.2])\n",
    "w2=np.array([0.2,0.1,0.5,0.2])\n",
    "a1=np.dot(w1,r); a2=np.dot(w2,r)\n",
    "print(a1,'\\n---------------------------------------\\n',a2)\n"
   ]
  },
  {
   "cell_type": "code",
   "execution_count": 6,
   "metadata": {},
   "outputs": [
    {
     "name": "stdout",
     "output_type": "stream",
     "text": [
      "R= [[0.97   0.716  0.248 ]\n",
      " [0.6    0.8    1.    ]\n",
      " [0.125  0.55   0.7   ]\n",
      " [0.275  0.6875 0.4375]\n",
      " [0.2    0.6    0.8   ]] \n",
      "---------------------------\n",
      " A= [0.40525 0.66195 0.58585]\n"
     ]
    }
   ],
   "source": [
    "from numpy import array, piecewise, c_\n",
    "\n",
    "\n",
    "\n",
    "d=array([[592.5,3,55,72,5],[529,2,38,105,3],[412,1,32,85,2]]); d=d.T\n",
    "c1=lambda x: piecewise(x, [(350<x) & (x<600),  x>=600], [lambda x:(x-350)/250., 1])\n",
    "c2=lambda x: piecewise(x, [(1.0<x) & (x<6.0), (x<=1.0)],[lambda x:1-(x-1)/5.0,1])\n",
    "c3=lambda x: piecewise(x, [(20<x) & (x<60), x<=20], [lambda x:1-(x-20)/40., 1])\n",
    "c4=lambda x: piecewise(x, [(50<x) & (x<130), x>=130], [lambda x:(x-50)/80., 1])\n",
    "c5=lambda x: piecewise(x, [(1<x) & (x<6), x<=1], [lambda x:1-(x-1)/5., 1])\n",
    "r=c_[c1(d[0]),c2(d[1]),c3(d[2]),c4(d[3]),c5(d[4])].T\n",
    "w=array([0.2, 0.1, 0.15, 0.3, 0.25]);\n",
    "A=w.dot(r); print('R=',r,'\\n---------------------------\\n','A=',A)\n"
   ]
  },
  {
   "cell_type": "code",
   "execution_count": null,
   "metadata": {},
   "outputs": [],
   "source": []
  }
 ],
 "metadata": {
  "kernelspec": {
   "display_name": "Python 3.8.13 ('base')",
   "language": "python",
   "name": "python3"
  },
  "language_info": {
   "codemirror_mode": {
    "name": "ipython",
    "version": 3
   },
   "file_extension": ".py",
   "mimetype": "text/x-python",
   "name": "python",
   "nbconvert_exporter": "python",
   "pygments_lexer": "ipython3",
   "version": "3.8.13"
  },
  "orig_nbformat": 4,
  "vscode": {
   "interpreter": {
    "hash": "b09ec625f77bf4fd762565a912b97636504ad6ec901eb2d0f4cf5a7de23e1ee5"
   }
  }
 },
 "nbformat": 4,
 "nbformat_minor": 2
}
